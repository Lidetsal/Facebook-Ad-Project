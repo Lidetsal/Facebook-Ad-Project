{
 "cells": [
  {
   "cell_type": "markdown",
   "metadata": {},
   "source": [
    "● Each ad set is targeting a unique (anonymous) audience. Within each ad set are groups\n",
    "of ads that get distributed on a cost-per-impression basis.\n",
    "\n",
    "\n",
    "● Reach: how many unique people were reached (not to be confused with impressions)\n",
    "\n",
    "\n",
    "● Frequency: how many times, on average, someone within the ad set audience was\n",
    "reached during the duration of the campaign\n",
    "\n",
    "\n",
    "● Amount Spend: dollars spent during duration of campaign\n",
    "\n",
    "\n",
    "● Impressions: number of times the ad appeared in front of someone\n",
    "\n",
    "\n",
    "● CTR (click-through rate): number of link clicks divided by number of ad impressions (not\n",
    "reach)\n",
    "\n",
    "\n",
    "● Post Shares: how many times users shared the ad to their friends\n",
    "\n",
    "\n",
    "● Post Comments: how many times users wrote something in the ad’s comments section\n",
    "\n",
    "\n",
    "● Post Reactions: how many times users “liked” or “disliked” the ad\n",
    "\n",
    "\n",
    "● Website Leads: number of people who started to sign-up with Arcadia but did not\n",
    "complete the registration process"
   ]
  },
  {
   "cell_type": "markdown",
   "metadata": {},
   "source": [
    "# IMPORTS"
   ]
  },
  {
   "cell_type": "code",
   "execution_count": 985,
   "metadata": {},
   "outputs": [],
   "source": [
    "import pandas as pd\n",
    "import numpy as np\n",
    "import seaborn as sns\n",
    "import matplotlib.pyplot as plt\n",
    "\n",
    "\n",
    "from sklearn.linear_model import LinearRegression\n",
    "from sklearn.preprocessing import MinMaxScaler\n",
    "from sklearn.linear_model import Lasso, Ridge, LinearRegression\n",
    "from sklearn.model_selection import train_test_split\n"
   ]
  },
  {
   "cell_type": "code",
   "execution_count": 988,
   "metadata": {},
   "outputs": [],
   "source": [
    "fb_df = pd.read_csv('Analytics___Data_Science_Summer_Associate_Exercise_Data.csv')\n",
    "\n",
    "# print(fb_df.shape)\n",
    "# print(fb_df.isna().sum())\n",
    "\n",
    "# fb_df.head(3)"
   ]
  },
  {
   "cell_type": "code",
   "execution_count": 989,
   "metadata": {},
   "outputs": [
    {
     "data": {
      "text/plain": [
       "30071.42"
      ]
     },
     "execution_count": 989,
     "metadata": {},
     "output_type": "execute_result"
    }
   ],
   "source": [
    "fb_df['Amount Spent (USD)'].sum()"
   ]
  },
  {
   "cell_type": "code",
   "execution_count": 995,
   "metadata": {},
   "outputs": [
    {
     "data": {
      "text/html": [
       "<div>\n",
       "<style scoped>\n",
       "    .dataframe tbody tr th:only-of-type {\n",
       "        vertical-align: middle;\n",
       "    }\n",
       "\n",
       "    .dataframe tbody tr th {\n",
       "        vertical-align: top;\n",
       "    }\n",
       "\n",
       "    .dataframe thead th {\n",
       "        text-align: right;\n",
       "    }\n",
       "</style>\n",
       "<table border=\"1\" class=\"dataframe\">\n",
       "  <thead>\n",
       "    <tr style=\"text-align: right;\">\n",
       "      <th></th>\n",
       "      <th>Ad Set Name</th>\n",
       "      <th>Reach</th>\n",
       "      <th>Frequency</th>\n",
       "      <th>Amount Spent (USD)</th>\n",
       "      <th>Impressions</th>\n",
       "      <th>CPM (Cost per 1,000 Impressions) (USD)</th>\n",
       "      <th>Link Clicks</th>\n",
       "      <th>CPC (Cost per Link Click) (USD)</th>\n",
       "      <th>CTR (Link Click-Through Rate)</th>\n",
       "      <th>Cost per 1,000 People Reached (USD)</th>\n",
       "      <th>Website Registrations Completed</th>\n",
       "      <th>Website Leads</th>\n",
       "      <th>Post Shares</th>\n",
       "      <th>Post Comments</th>\n",
       "      <th>Post Reactions</th>\n",
       "      <th>Cost per Website Registration Completed (USD)</th>\n",
       "      <th>Cost per Website Lead (USD)</th>\n",
       "      <th>Cost per Registration</th>\n",
       "    </tr>\n",
       "  </thead>\n",
       "  <tbody>\n",
       "    <tr>\n",
       "      <th>0</th>\n",
       "      <td>Ad Set 6</td>\n",
       "      <td>148384</td>\n",
       "      <td>9.187367</td>\n",
       "      <td>4579.48</td>\n",
       "      <td>207604</td>\n",
       "      <td>206.666595</td>\n",
       "      <td>2167.0</td>\n",
       "      <td>11.758557</td>\n",
       "      <td>6.483000</td>\n",
       "      <td>194.852846</td>\n",
       "      <td>122.0</td>\n",
       "      <td>297.0</td>\n",
       "      <td>248.0</td>\n",
       "      <td>64.0</td>\n",
       "      <td>505.0</td>\n",
       "      <td>239.332108</td>\n",
       "      <td>108.347680</td>\n",
       "      <td>37.536721</td>\n",
       "    </tr>\n",
       "    <tr>\n",
       "      <th>1</th>\n",
       "      <td>Ad Set 13</td>\n",
       "      <td>105376</td>\n",
       "      <td>7.426445</td>\n",
       "      <td>4120.23</td>\n",
       "      <td>130882</td>\n",
       "      <td>221.457893</td>\n",
       "      <td>1877.0</td>\n",
       "      <td>15.963071</td>\n",
       "      <td>7.344414</td>\n",
       "      <td>230.185272</td>\n",
       "      <td>110.0</td>\n",
       "      <td>422.0</td>\n",
       "      <td>28.0</td>\n",
       "      <td>29.0</td>\n",
       "      <td>120.0</td>\n",
       "      <td>345.936449</td>\n",
       "      <td>78.799039</td>\n",
       "      <td>37.456636</td>\n",
       "    </tr>\n",
       "    <tr>\n",
       "      <th>2</th>\n",
       "      <td>Ad Set 24</td>\n",
       "      <td>90877</td>\n",
       "      <td>15.004256</td>\n",
       "      <td>2825.20</td>\n",
       "      <td>105168</td>\n",
       "      <td>507.304091</td>\n",
       "      <td>965.0</td>\n",
       "      <td>46.525811</td>\n",
       "      <td>7.699054</td>\n",
       "      <td>380.277486</td>\n",
       "      <td>51.0</td>\n",
       "      <td>139.0</td>\n",
       "      <td>122.0</td>\n",
       "      <td>35.0</td>\n",
       "      <td>551.0</td>\n",
       "      <td>356.483393</td>\n",
       "      <td>259.212003</td>\n",
       "      <td>55.396078</td>\n",
       "    </tr>\n",
       "    <tr>\n",
       "      <th>3</th>\n",
       "      <td>Ad Set 9</td>\n",
       "      <td>57520</td>\n",
       "      <td>7.057585</td>\n",
       "      <td>2046.86</td>\n",
       "      <td>63425</td>\n",
       "      <td>242.440856</td>\n",
       "      <td>722.0</td>\n",
       "      <td>24.079364</td>\n",
       "      <td>5.661042</td>\n",
       "      <td>225.965312</td>\n",
       "      <td>40.0</td>\n",
       "      <td>136.0</td>\n",
       "      <td>30.0</td>\n",
       "      <td>27.0</td>\n",
       "      <td>149.0</td>\n",
       "      <td>294.605349</td>\n",
       "      <td>72.554723</td>\n",
       "      <td>51.171500</td>\n",
       "    </tr>\n",
       "    <tr>\n",
       "      <th>4</th>\n",
       "      <td>Ad Set 31</td>\n",
       "      <td>72834</td>\n",
       "      <td>8.569932</td>\n",
       "      <td>1893.98</td>\n",
       "      <td>87015</td>\n",
       "      <td>199.293940</td>\n",
       "      <td>1102.0</td>\n",
       "      <td>9.908232</td>\n",
       "      <td>8.388538</td>\n",
       "      <td>204.345115</td>\n",
       "      <td>29.0</td>\n",
       "      <td>95.0</td>\n",
       "      <td>131.0</td>\n",
       "      <td>49.0</td>\n",
       "      <td>241.0</td>\n",
       "      <td>403.658833</td>\n",
       "      <td>145.051476</td>\n",
       "      <td>65.309655</td>\n",
       "    </tr>\n",
       "  </tbody>\n",
       "</table>\n",
       "</div>"
      ],
      "text/plain": [
       "  Ad Set Name   Reach  Frequency  Amount Spent (USD)  Impressions  \\\n",
       "0    Ad Set 6  148384   9.187367             4579.48       207604   \n",
       "1   Ad Set 13  105376   7.426445             4120.23       130882   \n",
       "2   Ad Set 24   90877  15.004256             2825.20       105168   \n",
       "3    Ad Set 9   57520   7.057585             2046.86        63425   \n",
       "4   Ad Set 31   72834   8.569932             1893.98        87015   \n",
       "\n",
       "   CPM (Cost per 1,000 Impressions) (USD)  Link Clicks  \\\n",
       "0                              206.666595       2167.0   \n",
       "1                              221.457893       1877.0   \n",
       "2                              507.304091        965.0   \n",
       "3                              242.440856        722.0   \n",
       "4                              199.293940       1102.0   \n",
       "\n",
       "   CPC (Cost per Link Click) (USD)  CTR (Link Click-Through Rate)  \\\n",
       "0                        11.758557                       6.483000   \n",
       "1                        15.963071                       7.344414   \n",
       "2                        46.525811                       7.699054   \n",
       "3                        24.079364                       5.661042   \n",
       "4                         9.908232                       8.388538   \n",
       "\n",
       "   Cost per 1,000 People Reached (USD)  Website Registrations Completed  \\\n",
       "0                           194.852846                            122.0   \n",
       "1                           230.185272                            110.0   \n",
       "2                           380.277486                             51.0   \n",
       "3                           225.965312                             40.0   \n",
       "4                           204.345115                             29.0   \n",
       "\n",
       "   Website Leads  Post Shares  Post Comments  Post Reactions  \\\n",
       "0          297.0        248.0           64.0           505.0   \n",
       "1          422.0         28.0           29.0           120.0   \n",
       "2          139.0        122.0           35.0           551.0   \n",
       "3          136.0         30.0           27.0           149.0   \n",
       "4           95.0        131.0           49.0           241.0   \n",
       "\n",
       "   Cost per Website Registration Completed (USD)  Cost per Website Lead (USD)  \\\n",
       "0                                     239.332108                   108.347680   \n",
       "1                                     345.936449                    78.799039   \n",
       "2                                     356.483393                   259.212003   \n",
       "3                                     294.605349                    72.554723   \n",
       "4                                     403.658833                   145.051476   \n",
       "\n",
       "   Cost per Registration  \n",
       "0              37.536721  \n",
       "1              37.456636  \n",
       "2              55.396078  \n",
       "3              51.171500  \n",
       "4              65.309655  "
      ]
     },
     "execution_count": 995,
     "metadata": {},
     "output_type": "execute_result"
    }
   ],
   "source": [
    "grouped = fb_df.groupby('Ad Set Name')\n",
    "\n",
    "grouped = pd.DataFrame(grouped.sum())\n",
    "\n",
    "\n",
    "grouped = grouped.sort_values('Amount Spent (USD)', ascending=False)\n",
    "grouped['Cost per Registration'] = grouped['Amount Spent (USD)']/grouped['Website Registrations Completed']\n",
    "\n",
    "grouped = grouped.reset_index()\n",
    "\n",
    "grouped.head()"
   ]
  },
  {
   "cell_type": "code",
   "execution_count": null,
   "metadata": {},
   "outputs": [],
   "source": []
  },
  {
   "cell_type": "code",
   "execution_count": 1005,
   "metadata": {},
   "outputs": [
    {
     "name": "stdout",
     "output_type": "stream",
     "text": [
      "Stored 'grouped' (DataFrame)\n"
     ]
    }
   ],
   "source": [
    "grouped['Ad Set Name'] = grouped['Ad Set Name'].str.replace('Ad Set', '')\n",
    "\n",
    "\n",
    "\n",
    "%store grouped\n"
   ]
  },
  {
   "cell_type": "code",
   "execution_count": 1006,
   "metadata": {},
   "outputs": [],
   "source": [
    "grouped['Ad Set Name'] = grouped['Ad Set Name'].astype(int)"
   ]
  },
  {
   "cell_type": "code",
   "execution_count": 1007,
   "metadata": {},
   "outputs": [
    {
     "data": {
      "text/plain": [
       "30071.42"
      ]
     },
     "execution_count": 1007,
     "metadata": {},
     "output_type": "execute_result"
    }
   ],
   "source": [
    "grouped['Amount Spent (USD)'].sum()"
   ]
  },
  {
   "cell_type": "code",
   "execution_count": 1020,
   "metadata": {},
   "outputs": [
    {
     "data": {
      "image/png": "[encoded data removed]",
      "text/plain": [
       "<Figure size 720x504 with 1 Axes>"
      ]
     },
     "metadata": {
      "needs_background": "light"
     },
     "output_type": "display_data"
    }
   ],
   "source": [
    "plt.figure(figsize=(10,7))\n",
    "sns.barplot(grouped['Ad Set Name'], grouped['Cost per Registration'], color='seagreen')\n",
    "plt.xticks(np.arange(0, 37, step=1))\n",
    "\n",
    "plt.show()"
   ]
  },
  {
   "cell_type": "code",
   "execution_count": 1008,
   "metadata": {},
   "outputs": [
    {
     "data": {
      "text/plain": [
       "Text(0, 0.5, 'Reach')"
      ]
     },
     "execution_count": 1008,
     "metadata": {},
     "output_type": "execute_result"
    },
    {
     "data": {
      "image/png": "[encoded data removed]",
      "text/plain": [
       "<Figure size 504x360 with 1 Axes>"
      ]
     },
     "metadata": {
      "needs_background": "light"
     },
     "output_type": "display_data"
    }
   ],
   "source": [
    "plt.figure(figsize=(7,5))\n",
    "\n",
    "sns.lineplot(grouped['Website Registrations Completed'], grouped.Reach, color='r' )\n",
    "plt.xlabel('Website Registration Completed', fontsize=12)\n",
    "plt.ylabel('Reach', fontsize=12)"
   ]
  },
  {
   "cell_type": "code",
   "execution_count": 940,
   "metadata": {},
   "outputs": [
    {
     "data": {
      "image/png": "[encoded data removed]",
      "text/plain": [
       "<Figure size 576x432 with 1 Axes>"
      ]
     },
     "metadata": {
      "needs_background": "light"
     },
     "output_type": "display_data"
    }
   ],
   "source": [
    "plt.figure(figsize=(8,6))\n",
    "\n",
    "\n",
    "sns.lineplot(grouped['Amount Spent (USD)'], grouped['Website Registrations Completed'], color='r', \n",
    "             label='Amount spent' )\n",
    "\n",
    "plt.ylabel('Website Registration Completed', fontsize=12)\n",
    "plt.xlabel('Amount Spent(USD)', fontsize=12)\n",
    "# plt.xticks(np.arange(0, 3000, step=5000))\n",
    "\n",
    "legend = plt.legend()\n"
   ]
  },
  {
   "cell_type": "code",
   "execution_count": null,
   "metadata": {},
   "outputs": [],
   "source": []
  },
  {
   "cell_type": "code",
   "execution_count": 983,
   "metadata": {},
   "outputs": [
    {
     "data": {
      "image/png": "[encoded data removed]",
      "text/plain": [
       "<Figure size 720x432 with 1 Axes>"
      ]
     },
     "metadata": {
      "needs_background": "light"
     },
     "output_type": "display_data"
    }
   ],
   "source": [
    "\n",
    "plt.figure(figsize=(10,6))\n",
    "sns.barplot(grouped['Ad Set Name'], grouped.Reach, color='seagreen')\n",
    "plt.ylabel('Reach', fontsize=14)\n",
    "plt.xlabel('Ad Set Name', fontsize=14)\n",
    "\n",
    "plt.show()\n",
    "\n",
    "# plt.title('Number of People Reached', fontsize=15)"
   ]
  },
  {
   "cell_type": "markdown",
   "metadata": {},
   "source": [
    "Ad set 6 is the most reaching ad set reaching over 140,000 fb users\n",
    "Ad set 13 comes second with a little over 1000,000 fb users\n",
    "24, 31, 9, 33, 4, 18\n",
    "\n",
    "\n",
    "ad set 15 did not reach anyone"
   ]
  },
  {
   "cell_type": "markdown",
   "metadata": {},
   "source": [
    "# Frequencey"
   ]
  },
  {
   "cell_type": "markdown",
   "metadata": {},
   "source": [
    "● Frequency: how many times, on average, someone within the ad set audience was\n",
    "reached during the duration of the campaign"
   ]
  },
  {
   "cell_type": "code",
   "execution_count": 942,
   "metadata": {},
   "outputs": [
    {
     "data": {
      "text/plain": [
       "count    36.000000\n",
       "mean      7.269918\n",
       "std       1.858725\n",
       "min       6.000000\n",
       "25%       6.152735\n",
       "50%       6.809453\n",
       "75%       7.392876\n",
       "max      15.004256\n",
       "Name: Frequency, dtype: float64"
      ]
     },
     "execution_count": 942,
     "metadata": {},
     "output_type": "execute_result"
    }
   ],
   "source": [
    "grouped.Frequency.describe()"
   ]
  },
  {
   "cell_type": "code",
   "execution_count": 943,
   "metadata": {},
   "outputs": [
    {
     "data": {
      "text/html": [
       "<div>\n",
       "<style scoped>\n",
       "    .dataframe tbody tr th:only-of-type {\n",
       "        vertical-align: middle;\n",
       "    }\n",
       "\n",
       "    .dataframe tbody tr th {\n",
       "        vertical-align: top;\n",
       "    }\n",
       "\n",
       "    .dataframe thead th {\n",
       "        text-align: right;\n",
       "    }\n",
       "</style>\n",
       "<table border=\"1\" class=\"dataframe\">\n",
       "  <thead>\n",
       "    <tr style=\"text-align: right;\">\n",
       "      <th></th>\n",
       "      <th>Ad Set Name</th>\n",
       "      <th>Reach</th>\n",
       "      <th>Frequency</th>\n",
       "      <th>Amount Spent (USD)</th>\n",
       "      <th>Impressions</th>\n",
       "      <th>CPM (Cost per 1,000 Impressions) (USD)</th>\n",
       "      <th>Link Clicks</th>\n",
       "      <th>CPC (Cost per Link Click) (USD)</th>\n",
       "      <th>CTR (Link Click-Through Rate)</th>\n",
       "      <th>Cost per 1,000 People Reached (USD)</th>\n",
       "      <th>Website Registrations Completed</th>\n",
       "      <th>Website Leads</th>\n",
       "      <th>Post Shares</th>\n",
       "      <th>Post Comments</th>\n",
       "      <th>Post Reactions</th>\n",
       "      <th>Cost per Website Registration Completed (USD)</th>\n",
       "      <th>Cost per Website Lead (USD)</th>\n",
       "    </tr>\n",
       "  </thead>\n",
       "  <tbody>\n",
       "    <tr>\n",
       "      <th>0</th>\n",
       "      <td>6</td>\n",
       "      <td>148384</td>\n",
       "      <td>9.187367</td>\n",
       "      <td>4579.48</td>\n",
       "      <td>207604</td>\n",
       "      <td>206.666595</td>\n",
       "      <td>2167.0</td>\n",
       "      <td>11.758557</td>\n",
       "      <td>6.483000</td>\n",
       "      <td>194.852846</td>\n",
       "      <td>122.0</td>\n",
       "      <td>297.0</td>\n",
       "      <td>248.0</td>\n",
       "      <td>64.0</td>\n",
       "      <td>505.0</td>\n",
       "      <td>239.332108</td>\n",
       "      <td>108.347680</td>\n",
       "    </tr>\n",
       "    <tr>\n",
       "      <th>1</th>\n",
       "      <td>13</td>\n",
       "      <td>105376</td>\n",
       "      <td>7.426445</td>\n",
       "      <td>4120.23</td>\n",
       "      <td>130882</td>\n",
       "      <td>221.457893</td>\n",
       "      <td>1877.0</td>\n",
       "      <td>15.963071</td>\n",
       "      <td>7.344414</td>\n",
       "      <td>230.185272</td>\n",
       "      <td>110.0</td>\n",
       "      <td>422.0</td>\n",
       "      <td>28.0</td>\n",
       "      <td>29.0</td>\n",
       "      <td>120.0</td>\n",
       "      <td>345.936449</td>\n",
       "      <td>78.799039</td>\n",
       "    </tr>\n",
       "    <tr>\n",
       "      <th>2</th>\n",
       "      <td>24</td>\n",
       "      <td>90877</td>\n",
       "      <td>15.004256</td>\n",
       "      <td>2825.20</td>\n",
       "      <td>105168</td>\n",
       "      <td>507.304091</td>\n",
       "      <td>965.0</td>\n",
       "      <td>46.525811</td>\n",
       "      <td>7.699054</td>\n",
       "      <td>380.277486</td>\n",
       "      <td>51.0</td>\n",
       "      <td>139.0</td>\n",
       "      <td>122.0</td>\n",
       "      <td>35.0</td>\n",
       "      <td>551.0</td>\n",
       "      <td>356.483393</td>\n",
       "      <td>259.212003</td>\n",
       "    </tr>\n",
       "    <tr>\n",
       "      <th>3</th>\n",
       "      <td>9</td>\n",
       "      <td>57520</td>\n",
       "      <td>7.057585</td>\n",
       "      <td>2046.86</td>\n",
       "      <td>63425</td>\n",
       "      <td>242.440856</td>\n",
       "      <td>722.0</td>\n",
       "      <td>24.079364</td>\n",
       "      <td>5.661042</td>\n",
       "      <td>225.965312</td>\n",
       "      <td>40.0</td>\n",
       "      <td>136.0</td>\n",
       "      <td>30.0</td>\n",
       "      <td>27.0</td>\n",
       "      <td>149.0</td>\n",
       "      <td>294.605349</td>\n",
       "      <td>72.554723</td>\n",
       "    </tr>\n",
       "    <tr>\n",
       "      <th>4</th>\n",
       "      <td>31</td>\n",
       "      <td>72834</td>\n",
       "      <td>8.569932</td>\n",
       "      <td>1893.98</td>\n",
       "      <td>87015</td>\n",
       "      <td>199.293940</td>\n",
       "      <td>1102.0</td>\n",
       "      <td>9.908232</td>\n",
       "      <td>8.388538</td>\n",
       "      <td>204.345115</td>\n",
       "      <td>29.0</td>\n",
       "      <td>95.0</td>\n",
       "      <td>131.0</td>\n",
       "      <td>49.0</td>\n",
       "      <td>241.0</td>\n",
       "      <td>403.658833</td>\n",
       "      <td>145.051476</td>\n",
       "    </tr>\n",
       "  </tbody>\n",
       "</table>\n",
       "</div>"
      ],
      "text/plain": [
       "   Ad Set Name   Reach  Frequency  Amount Spent (USD)  Impressions  \\\n",
       "0            6  148384   9.187367             4579.48       207604   \n",
       "1           13  105376   7.426445             4120.23       130882   \n",
       "2           24   90877  15.004256             2825.20       105168   \n",
       "3            9   57520   7.057585             2046.86        63425   \n",
       "4           31   72834   8.569932             1893.98        87015   \n",
       "\n",
       "   CPM (Cost per 1,000 Impressions) (USD)  Link Clicks  \\\n",
       "0                              206.666595       2167.0   \n",
       "1                              221.457893       1877.0   \n",
       "2                              507.304091        965.0   \n",
       "3                              242.440856        722.0   \n",
       "4                              199.293940       1102.0   \n",
       "\n",
       "   CPC (Cost per Link Click) (USD)  CTR (Link Click-Through Rate)  \\\n",
       "0                        11.758557                       6.483000   \n",
       "1                        15.963071                       7.344414   \n",
       "2                        46.525811                       7.699054   \n",
       "3                        24.079364                       5.661042   \n",
       "4                         9.908232                       8.388538   \n",
       "\n",
       "   Cost per 1,000 People Reached (USD)  Website Registrations Completed  \\\n",
       "0                           194.852846                            122.0   \n",
       "1                           230.185272                            110.0   \n",
       "2                           380.277486                             51.0   \n",
       "3                           225.965312                             40.0   \n",
       "4                           204.345115                             29.0   \n",
       "\n",
       "   Website Leads  Post Shares  Post Comments  Post Reactions  \\\n",
       "0          297.0        248.0           64.0           505.0   \n",
       "1          422.0         28.0           29.0           120.0   \n",
       "2          139.0        122.0           35.0           551.0   \n",
       "3          136.0         30.0           27.0           149.0   \n",
       "4           95.0        131.0           49.0           241.0   \n",
       "\n",
       "   Cost per Website Registration Completed (USD)  Cost per Website Lead (USD)  \n",
       "0                                     239.332108                   108.347680  \n",
       "1                                     345.936449                    78.799039  \n",
       "2                                     356.483393                   259.212003  \n",
       "3                                     294.605349                    72.554723  \n",
       "4                                     403.658833                   145.051476  "
      ]
     },
     "execution_count": 943,
     "metadata": {},
     "output_type": "execute_result"
    }
   ],
   "source": [
    "grouped.head()"
   ]
  },
  {
   "cell_type": "code",
   "execution_count": 944,
   "metadata": {},
   "outputs": [
    {
     "data": {
      "text/plain": [
       "count    36.000000\n",
       "mean      7.269918\n",
       "std       1.858725\n",
       "min       6.000000\n",
       "25%       6.152735\n",
       "50%       6.809453\n",
       "75%       7.392876\n",
       "max      15.004256\n",
       "Name: Frequency, dtype: float64"
      ]
     },
     "execution_count": 944,
     "metadata": {},
     "output_type": "execute_result"
    }
   ],
   "source": [
    "grouped.Frequency.describe(\n",
    ")"
   ]
  },
  {
   "cell_type": "code",
   "execution_count": 945,
   "metadata": {},
   "outputs": [
    {
     "data": {
      "text/plain": [
       "Text(0.5, 0, 'Website Registrations Completed')"
      ]
     },
     "execution_count": 945,
     "metadata": {},
     "output_type": "execute_result"
    },
    {
     "data": {
      "image/png": "[encoded data removed]",
      "text/plain": [
       "<Figure size 504x360 with 1 Axes>"
      ]
     },
     "metadata": {
      "needs_background": "light"
     },
     "output_type": "display_data"
    }
   ],
   "source": [
    "plt.figure(figsize=(7,5))\n",
    "\n",
    "sns.scatterplot(grouped['Website Registrations Completed'],grouped['Amount Spent (USD)'], color='r', \n",
    "             )\n",
    "\n",
    "plt.ylabel('Amount Spent(USD)', fontsize=13)\n",
    "plt.xlabel('Website Registrations Completed', fontsize=13)\n"
   ]
  },
  {
   "cell_type": "code",
   "execution_count": 946,
   "metadata": {},
   "outputs": [
    {
     "data": {
      "image/png": "[encoded data removed]",
      "text/plain": [
       "<Figure size 504x360 with 1 Axes>"
      ]
     },
     "metadata": {
      "needs_background": "light"
     },
     "output_type": "display_data"
    }
   ],
   "source": [
    "plt.figure(figsize=(7,5))\n",
    "\n",
    "sns.distplot(grouped['Frequency'], color='r' \n",
    "             )\n",
    "\n",
    "# plt.ylabel('Amount Spent(USD)', fontsize=13)\n",
    "plt.xlabel('Frequency', fontsize=13)\n",
    "# plt.title('Registrations by Sets of Ads', fontsize=16)\n",
    "plt.show()"
   ]
  },
  {
   "cell_type": "code",
   "execution_count": 947,
   "metadata": {},
   "outputs": [
    {
     "name": "stdout",
     "output_type": "stream",
     "text": [
      "AxesSubplot(0.125,0.125;0.775x0.755)\n"
     ]
    },
    {
     "data": {
      "image/png": "[encoded data removed]",
      "text/plain": [
       "<Figure size 720x576 with 1 Axes>"
      ]
     },
     "metadata": {
      "needs_background": "light"
     },
     "output_type": "display_data"
    }
   ],
   "source": [
    "plt.figure(figsize=(10,8))\n",
    "\n",
    "print(sns.barplot(grouped['Ad Set Name'], grouped.Frequency, color='seagreen'))\n",
    "\n",
    "# print(sns.distplot(grouped.Frequency, bins=10))"
   ]
  },
  {
   "cell_type": "markdown",
   "metadata": {},
   "source": [
    "# Amount Spent During Campaign "
   ]
  },
  {
   "cell_type": "markdown",
   "metadata": {},
   "source": [
    "● Amount Spend: dollars spent during duration of campaign\n"
   ]
  },
  {
   "cell_type": "code",
   "execution_count": 916,
   "metadata": {},
   "outputs": [
    {
     "data": {
      "text/plain": [
       "count      36.000000\n",
       "mean      835.317222\n",
       "std      1082.801694\n",
       "min        15.590000\n",
       "25%       214.720000\n",
       "50%       376.175000\n",
       "75%       991.107500\n",
       "max      4579.480000\n",
       "Name: Amount Spent (USD), dtype: float64"
      ]
     },
     "execution_count": 916,
     "metadata": {},
     "output_type": "execute_result"
    }
   ],
   "source": [
    "grouped['Amount Spent (USD)'].describe()"
   ]
  },
  {
   "cell_type": "code",
   "execution_count": 917,
   "metadata": {},
   "outputs": [
    {
     "data": {
      "text/plain": [
       "<matplotlib.axes._subplots.AxesSubplot at 0x1525cfdd8>"
      ]
     },
     "execution_count": 917,
     "metadata": {},
     "output_type": "execute_result"
    },
    {
     "data": {
      "image/png": "[encoded data removed]",
      "text/plain": [
       "<Figure size 720x720 with 1 Axes>"
      ]
     },
     "metadata": {
      "needs_background": "light"
     },
     "output_type": "display_data"
    }
   ],
   "source": [
    "plt.figure(figsize=(10,10))\n",
    "sns.barplot(grouped['Ad Set Name'], grouped['Amount Spent (USD)'])"
   ]
  },
  {
   "cell_type": "code",
   "execution_count": null,
   "metadata": {},
   "outputs": [],
   "source": []
  },
  {
   "cell_type": "markdown",
   "metadata": {},
   "source": [
    "# Imperessions"
   ]
  },
  {
   "cell_type": "markdown",
   "metadata": {},
   "source": [
    "Impressions: number of times the ad appeared in front of someone"
   ]
  },
  {
   "cell_type": "code",
   "execution_count": null,
   "metadata": {},
   "outputs": [],
   "source": []
  },
  {
   "cell_type": "code",
   "execution_count": 688,
   "metadata": {},
   "outputs": [
    {
     "data": {
      "text/plain": [
       "count        36.000000\n",
       "mean      31347.166667\n",
       "std       42799.301376\n",
       "min         406.000000\n",
       "25%        6694.750000\n",
       "50%       15435.500000\n",
       "75%       32354.500000\n",
       "max      207604.000000\n",
       "Name: Impressions, dtype: float64"
      ]
     },
     "execution_count": 688,
     "metadata": {},
     "output_type": "execute_result"
    }
   ],
   "source": [
    "grouped.Impressions.describe()"
   ]
  },
  {
   "cell_type": "code",
   "execution_count": 694,
   "metadata": {},
   "outputs": [
    {
     "data": {
      "text/plain": [
       "<matplotlib.axes._subplots.AxesSubplot at 0x147524160>"
      ]
     },
     "execution_count": 694,
     "metadata": {},
     "output_type": "execute_result"
    },
    {
     "data": {
      "image/png": "[encoded data removed]",
      "text/plain": [
       "<Figure size 720x648 with 1 Axes>"
      ]
     },
     "metadata": {
      "needs_background": "light"
     },
     "output_type": "display_data"
    }
   ],
   "source": [
    "plt.figure(figsize=(10, 9))\n",
    "\n",
    "sns.barplot(grouped['Ad Set Name'], grouped.Impressions.sort_values(ascending=True),  color='seagreen')\n",
    "\n",
    "# plt.title('Impressions number')\n",
    "# plt.xlabel('Impressions')\n",
    "# plt.ylabel('Ad sets')"
   ]
  },
  {
   "cell_type": "code",
   "execution_count": null,
   "metadata": {},
   "outputs": [],
   "source": []
  },
  {
   "cell_type": "markdown",
   "metadata": {},
   "source": [
    "# CTR (Link Click-Through Rate)"
   ]
  },
  {
   "cell_type": "code",
   "execution_count": 695,
   "metadata": {},
   "outputs": [
    {
     "data": {
      "text/plain": [
       "count    36.000000\n",
       "mean      5.290305\n",
       "std       2.530582\n",
       "min       0.694444\n",
       "25%       3.059800\n",
       "50%       5.447967\n",
       "75%       7.215500\n",
       "max       9.626291\n",
       "Name: CTR (Link Click-Through Rate), dtype: float64"
      ]
     },
     "execution_count": 695,
     "metadata": {},
     "output_type": "execute_result"
    }
   ],
   "source": [
    "grouped['CTR (Link Click-Through Rate)'].describe()"
   ]
  },
  {
   "cell_type": "code",
   "execution_count": 699,
   "metadata": {},
   "outputs": [
    {
     "data": {
      "text/plain": [
       "<matplotlib.axes._subplots.AxesSubplot at 0x148069b70>"
      ]
     },
     "execution_count": 699,
     "metadata": {},
     "output_type": "execute_result"
    },
    {
     "data": {
      "image/png": "[encoded data removed]",
      "text/plain": [
       "<Figure size 648x504 with 1 Axes>"
      ]
     },
     "metadata": {
      "needs_background": "light"
     },
     "output_type": "display_data"
    }
   ],
   "source": [
    "plt.figure(figsize=(9, 7))\n",
    "\n",
    "# sns.barplot( grouped['Ad Set Name'], grouped['CTR (Link Click-Through Rate)'], color='seagreen')\n",
    "\n",
    "sns.distplot(grouped['CTR (Link Click-Through Rate)'])\n"
   ]
  },
  {
   "cell_type": "code",
   "execution_count": 981,
   "metadata": {},
   "outputs": [
    {
     "data": {
      "text/html": [
       "<div>\n",
       "<style scoped>\n",
       "    .dataframe tbody tr th:only-of-type {\n",
       "        vertical-align: middle;\n",
       "    }\n",
       "\n",
       "    .dataframe tbody tr th {\n",
       "        vertical-align: top;\n",
       "    }\n",
       "\n",
       "    .dataframe thead th {\n",
       "        text-align: right;\n",
       "    }\n",
       "</style>\n",
       "<table border=\"1\" class=\"dataframe\">\n",
       "  <thead>\n",
       "    <tr style=\"text-align: right;\">\n",
       "      <th></th>\n",
       "      <th>Ad Set Name</th>\n",
       "      <th>Reach</th>\n",
       "      <th>Frequency</th>\n",
       "      <th>Amount Spent (USD)</th>\n",
       "      <th>Impressions</th>\n",
       "      <th>CPM (Cost per 1,000 Impressions) (USD)</th>\n",
       "      <th>Link Clicks</th>\n",
       "      <th>CPC (Cost per Link Click) (USD)</th>\n",
       "      <th>CTR (Link Click-Through Rate)</th>\n",
       "      <th>Cost per 1,000 People Reached (USD)</th>\n",
       "      <th>Website Registrations Completed</th>\n",
       "      <th>Website Leads</th>\n",
       "      <th>Post Shares</th>\n",
       "      <th>Post Comments</th>\n",
       "      <th>Post Reactions</th>\n",
       "      <th>Cost per Website Registration Completed (USD)</th>\n",
       "      <th>Cost per Website Lead (USD)</th>\n",
       "    </tr>\n",
       "  </thead>\n",
       "  <tbody>\n",
       "    <tr>\n",
       "      <th>0</th>\n",
       "      <td>6</td>\n",
       "      <td>148384</td>\n",
       "      <td>9.187367</td>\n",
       "      <td>4579.48</td>\n",
       "      <td>207604</td>\n",
       "      <td>206.666595</td>\n",
       "      <td>2167.0</td>\n",
       "      <td>11.758557</td>\n",
       "      <td>6.483000</td>\n",
       "      <td>194.852846</td>\n",
       "      <td>122.0</td>\n",
       "      <td>297.0</td>\n",
       "      <td>248.0</td>\n",
       "      <td>64.0</td>\n",
       "      <td>505.0</td>\n",
       "      <td>239.332108</td>\n",
       "      <td>108.347680</td>\n",
       "    </tr>\n",
       "    <tr>\n",
       "      <th>20</th>\n",
       "      <td>1</td>\n",
       "      <td>26469</td>\n",
       "      <td>6.922444</td>\n",
       "      <td>319.02</td>\n",
       "      <td>29730</td>\n",
       "      <td>68.095364</td>\n",
       "      <td>86.0</td>\n",
       "      <td>18.055771</td>\n",
       "      <td>1.489356</td>\n",
       "      <td>79.496844</td>\n",
       "      <td>0.0</td>\n",
       "      <td>10.0</td>\n",
       "      <td>146.0</td>\n",
       "      <td>60.0</td>\n",
       "      <td>991.0</td>\n",
       "      <td>0.000000</td>\n",
       "      <td>71.441000</td>\n",
       "    </tr>\n",
       "    <tr>\n",
       "      <th>4</th>\n",
       "      <td>31</td>\n",
       "      <td>72834</td>\n",
       "      <td>8.569932</td>\n",
       "      <td>1893.98</td>\n",
       "      <td>87015</td>\n",
       "      <td>199.293940</td>\n",
       "      <td>1102.0</td>\n",
       "      <td>9.908232</td>\n",
       "      <td>8.388538</td>\n",
       "      <td>204.345115</td>\n",
       "      <td>29.0</td>\n",
       "      <td>95.0</td>\n",
       "      <td>131.0</td>\n",
       "      <td>49.0</td>\n",
       "      <td>241.0</td>\n",
       "      <td>403.658833</td>\n",
       "      <td>145.051476</td>\n",
       "    </tr>\n",
       "    <tr>\n",
       "      <th>2</th>\n",
       "      <td>24</td>\n",
       "      <td>90877</td>\n",
       "      <td>15.004256</td>\n",
       "      <td>2825.20</td>\n",
       "      <td>105168</td>\n",
       "      <td>507.304091</td>\n",
       "      <td>965.0</td>\n",
       "      <td>46.525811</td>\n",
       "      <td>7.699054</td>\n",
       "      <td>380.277486</td>\n",
       "      <td>51.0</td>\n",
       "      <td>139.0</td>\n",
       "      <td>122.0</td>\n",
       "      <td>35.0</td>\n",
       "      <td>551.0</td>\n",
       "      <td>356.483393</td>\n",
       "      <td>259.212003</td>\n",
       "    </tr>\n",
       "    <tr>\n",
       "      <th>11</th>\n",
       "      <td>5</td>\n",
       "      <td>26836</td>\n",
       "      <td>7.865254</td>\n",
       "      <td>670.06</td>\n",
       "      <td>30412</td>\n",
       "      <td>146.089718</td>\n",
       "      <td>153.0</td>\n",
       "      <td>25.671691</td>\n",
       "      <td>2.288864</td>\n",
       "      <td>165.102329</td>\n",
       "      <td>16.0</td>\n",
       "      <td>43.0</td>\n",
       "      <td>72.0</td>\n",
       "      <td>28.0</td>\n",
       "      <td>553.0</td>\n",
       "      <td>151.819167</td>\n",
       "      <td>77.232823</td>\n",
       "    </tr>\n",
       "    <tr>\n",
       "      <th>7</th>\n",
       "      <td>4</td>\n",
       "      <td>43112</td>\n",
       "      <td>7.830940</td>\n",
       "      <td>1312.77</td>\n",
       "      <td>55490</td>\n",
       "      <td>185.855756</td>\n",
       "      <td>448.0</td>\n",
       "      <td>20.419163</td>\n",
       "      <td>4.318319</td>\n",
       "      <td>176.825278</td>\n",
       "      <td>24.0</td>\n",
       "      <td>77.0</td>\n",
       "      <td>58.0</td>\n",
       "      <td>10.0</td>\n",
       "      <td>156.0</td>\n",
       "      <td>253.449166</td>\n",
       "      <td>76.818298</td>\n",
       "    </tr>\n",
       "    <tr>\n",
       "      <th>9</th>\n",
       "      <td>16</td>\n",
       "      <td>33208</td>\n",
       "      <td>6.828138</td>\n",
       "      <td>986.70</td>\n",
       "      <td>38182</td>\n",
       "      <td>164.389873</td>\n",
       "      <td>285.0</td>\n",
       "      <td>21.583720</td>\n",
       "      <td>4.050743</td>\n",
       "      <td>164.855892</td>\n",
       "      <td>13.0</td>\n",
       "      <td>28.0</td>\n",
       "      <td>52.0</td>\n",
       "      <td>12.0</td>\n",
       "      <td>147.0</td>\n",
       "      <td>324.962500</td>\n",
       "      <td>143.544777</td>\n",
       "    </tr>\n",
       "    <tr>\n",
       "      <th>6</th>\n",
       "      <td>18</td>\n",
       "      <td>43377</td>\n",
       "      <td>8.612189</td>\n",
       "      <td>1585.98</td>\n",
       "      <td>51296</td>\n",
       "      <td>203.365515</td>\n",
       "      <td>653.0</td>\n",
       "      <td>15.763969</td>\n",
       "      <td>7.172529</td>\n",
       "      <td>241.912667</td>\n",
       "      <td>37.0</td>\n",
       "      <td>121.0</td>\n",
       "      <td>35.0</td>\n",
       "      <td>15.0</td>\n",
       "      <td>130.0</td>\n",
       "      <td>275.536250</td>\n",
       "      <td>54.679637</td>\n",
       "    </tr>\n",
       "    <tr>\n",
       "      <th>3</th>\n",
       "      <td>9</td>\n",
       "      <td>57520</td>\n",
       "      <td>7.057585</td>\n",
       "      <td>2046.86</td>\n",
       "      <td>63425</td>\n",
       "      <td>242.440856</td>\n",
       "      <td>722.0</td>\n",
       "      <td>24.079364</td>\n",
       "      <td>5.661042</td>\n",
       "      <td>225.965312</td>\n",
       "      <td>40.0</td>\n",
       "      <td>136.0</td>\n",
       "      <td>30.0</td>\n",
       "      <td>27.0</td>\n",
       "      <td>149.0</td>\n",
       "      <td>294.605349</td>\n",
       "      <td>72.554723</td>\n",
       "    </tr>\n",
       "    <tr>\n",
       "      <th>1</th>\n",
       "      <td>13</td>\n",
       "      <td>105376</td>\n",
       "      <td>7.426445</td>\n",
       "      <td>4120.23</td>\n",
       "      <td>130882</td>\n",
       "      <td>221.457893</td>\n",
       "      <td>1877.0</td>\n",
       "      <td>15.963071</td>\n",
       "      <td>7.344414</td>\n",
       "      <td>230.185272</td>\n",
       "      <td>110.0</td>\n",
       "      <td>422.0</td>\n",
       "      <td>28.0</td>\n",
       "      <td>29.0</td>\n",
       "      <td>120.0</td>\n",
       "      <td>345.936449</td>\n",
       "      <td>78.799039</td>\n",
       "    </tr>\n",
       "    <tr>\n",
       "      <th>16</th>\n",
       "      <td>2</td>\n",
       "      <td>16972</td>\n",
       "      <td>7.381687</td>\n",
       "      <td>477.69</td>\n",
       "      <td>20831</td>\n",
       "      <td>134.414313</td>\n",
       "      <td>156.0</td>\n",
       "      <td>12.532648</td>\n",
       "      <td>3.019334</td>\n",
       "      <td>164.796389</td>\n",
       "      <td>6.0</td>\n",
       "      <td>21.0</td>\n",
       "      <td>27.0</td>\n",
       "      <td>5.0</td>\n",
       "      <td>89.0</td>\n",
       "      <td>378.430000</td>\n",
       "      <td>115.307667</td>\n",
       "    </tr>\n",
       "    <tr>\n",
       "      <th>15</th>\n",
       "      <td>19</td>\n",
       "      <td>17689</td>\n",
       "      <td>7.268296</td>\n",
       "      <td>492.89</td>\n",
       "      <td>18491</td>\n",
       "      <td>194.996608</td>\n",
       "      <td>219.0</td>\n",
       "      <td>17.512504</td>\n",
       "      <td>6.833375</td>\n",
       "      <td>202.541277</td>\n",
       "      <td>4.0</td>\n",
       "      <td>15.0</td>\n",
       "      <td>26.0</td>\n",
       "      <td>9.0</td>\n",
       "      <td>50.0</td>\n",
       "      <td>172.960000</td>\n",
       "      <td>183.266667</td>\n",
       "    </tr>\n",
       "    <tr>\n",
       "      <th>10</th>\n",
       "      <td>32</td>\n",
       "      <td>25560</td>\n",
       "      <td>6.790768</td>\n",
       "      <td>807.54</td>\n",
       "      <td>27624</td>\n",
       "      <td>228.307528</td>\n",
       "      <td>298.0</td>\n",
       "      <td>20.310040</td>\n",
       "      <td>5.899207</td>\n",
       "      <td>212.658865</td>\n",
       "      <td>6.0</td>\n",
       "      <td>43.0</td>\n",
       "      <td>19.0</td>\n",
       "      <td>7.0</td>\n",
       "      <td>40.0</td>\n",
       "      <td>202.403333</td>\n",
       "      <td>101.161333</td>\n",
       "    </tr>\n",
       "    <tr>\n",
       "      <th>8</th>\n",
       "      <td>27</td>\n",
       "      <td>25270</td>\n",
       "      <td>6.147786</td>\n",
       "      <td>1004.33</td>\n",
       "      <td>25842</td>\n",
       "      <td>234.683957</td>\n",
       "      <td>278.0</td>\n",
       "      <td>25.605472</td>\n",
       "      <td>5.857706</td>\n",
       "      <td>240.300806</td>\n",
       "      <td>11.0</td>\n",
       "      <td>46.0</td>\n",
       "      <td>14.0</td>\n",
       "      <td>2.0</td>\n",
       "      <td>32.0</td>\n",
       "      <td>436.093333</td>\n",
       "      <td>148.921111</td>\n",
       "    </tr>\n",
       "    <tr>\n",
       "      <th>5</th>\n",
       "      <td>33</td>\n",
       "      <td>48128</td>\n",
       "      <td>7.134516</td>\n",
       "      <td>1663.40</td>\n",
       "      <td>56956</td>\n",
       "      <td>296.235306</td>\n",
       "      <td>1115.0</td>\n",
       "      <td>13.479817</td>\n",
       "      <td>9.027207</td>\n",
       "      <td>222.367411</td>\n",
       "      <td>30.0</td>\n",
       "      <td>261.0</td>\n",
       "      <td>12.0</td>\n",
       "      <td>20.0</td>\n",
       "      <td>53.0</td>\n",
       "      <td>170.884509</td>\n",
       "      <td>61.896798</td>\n",
       "    </tr>\n",
       "    <tr>\n",
       "      <th>13</th>\n",
       "      <td>17</td>\n",
       "      <td>18662</td>\n",
       "      <td>6.312156</td>\n",
       "      <td>514.53</td>\n",
       "      <td>20160</td>\n",
       "      <td>163.234317</td>\n",
       "      <td>143.0</td>\n",
       "      <td>20.246475</td>\n",
       "      <td>5.380848</td>\n",
       "      <td>171.556961</td>\n",
       "      <td>9.0</td>\n",
       "      <td>30.0</td>\n",
       "      <td>12.0</td>\n",
       "      <td>1.0</td>\n",
       "      <td>53.0</td>\n",
       "      <td>171.795000</td>\n",
       "      <td>114.649167</td>\n",
       "    </tr>\n",
       "    <tr>\n",
       "      <th>30</th>\n",
       "      <td>34</td>\n",
       "      <td>6064</td>\n",
       "      <td>6.523927</td>\n",
       "      <td>102.45</td>\n",
       "      <td>6147</td>\n",
       "      <td>93.794974</td>\n",
       "      <td>13.0</td>\n",
       "      <td>32.256500</td>\n",
       "      <td>0.856617</td>\n",
       "      <td>100.304384</td>\n",
       "      <td>2.0</td>\n",
       "      <td>5.0</td>\n",
       "      <td>10.0</td>\n",
       "      <td>6.0</td>\n",
       "      <td>89.0</td>\n",
       "      <td>62.170000</td>\n",
       "      <td>56.695000</td>\n",
       "    </tr>\n",
       "    <tr>\n",
       "      <th>21</th>\n",
       "      <td>25</td>\n",
       "      <td>9179</td>\n",
       "      <td>6.090520</td>\n",
       "      <td>296.20</td>\n",
       "      <td>9276</td>\n",
       "      <td>185.937699</td>\n",
       "      <td>85.0</td>\n",
       "      <td>18.446399</td>\n",
       "      <td>7.368188</td>\n",
       "      <td>188.965841</td>\n",
       "      <td>6.0</td>\n",
       "      <td>24.0</td>\n",
       "      <td>8.0</td>\n",
       "      <td>0.0</td>\n",
       "      <td>11.0</td>\n",
       "      <td>224.803333</td>\n",
       "      <td>105.215882</td>\n",
       "    </tr>\n",
       "    <tr>\n",
       "      <th>33</th>\n",
       "      <td>3</td>\n",
       "      <td>2775</td>\n",
       "      <td>6.027281</td>\n",
       "      <td>90.59</td>\n",
       "      <td>2795</td>\n",
       "      <td>183.976233</td>\n",
       "      <td>16.0</td>\n",
       "      <td>35.224722</td>\n",
       "      <td>2.053368</td>\n",
       "      <td>184.820614</td>\n",
       "      <td>0.0</td>\n",
       "      <td>2.0</td>\n",
       "      <td>6.0</td>\n",
       "      <td>2.0</td>\n",
       "      <td>2.0</td>\n",
       "      <td>0.000000</td>\n",
       "      <td>14.155000</td>\n",
       "    </tr>\n",
       "    <tr>\n",
       "      <th>14</th>\n",
       "      <td>20</td>\n",
       "      <td>18284</td>\n",
       "      <td>6.761720</td>\n",
       "      <td>495.44</td>\n",
       "      <td>19717</td>\n",
       "      <td>158.030386</td>\n",
       "      <td>188.0</td>\n",
       "      <td>22.388674</td>\n",
       "      <td>4.676800</td>\n",
       "      <td>165.701006</td>\n",
       "      <td>5.0</td>\n",
       "      <td>22.0</td>\n",
       "      <td>6.0</td>\n",
       "      <td>5.0</td>\n",
       "      <td>12.0</td>\n",
       "      <td>264.315000</td>\n",
       "      <td>100.848864</td>\n",
       "    </tr>\n",
       "    <tr>\n",
       "      <th>24</th>\n",
       "      <td>21</td>\n",
       "      <td>7468</td>\n",
       "      <td>7.281520</td>\n",
       "      <td>256.03</td>\n",
       "      <td>8889</td>\n",
       "      <td>212.309765</td>\n",
       "      <td>130.0</td>\n",
       "      <td>11.795043</td>\n",
       "      <td>8.770642</td>\n",
       "      <td>208.030424</td>\n",
       "      <td>3.0</td>\n",
       "      <td>13.0</td>\n",
       "      <td>6.0</td>\n",
       "      <td>0.0</td>\n",
       "      <td>14.0</td>\n",
       "      <td>162.430000</td>\n",
       "      <td>41.867333</td>\n",
       "    </tr>\n",
       "    <tr>\n",
       "      <th>12</th>\n",
       "      <td>36</td>\n",
       "      <td>17332</td>\n",
       "      <td>6.666229</td>\n",
       "      <td>554.19</td>\n",
       "      <td>18765</td>\n",
       "      <td>185.413652</td>\n",
       "      <td>165.0</td>\n",
       "      <td>25.195491</td>\n",
       "      <td>4.855476</td>\n",
       "      <td>205.633124</td>\n",
       "      <td>5.0</td>\n",
       "      <td>20.0</td>\n",
       "      <td>5.0</td>\n",
       "      <td>3.0</td>\n",
       "      <td>32.0</td>\n",
       "      <td>326.446667</td>\n",
       "      <td>137.132000</td>\n",
       "    </tr>\n",
       "    <tr>\n",
       "      <th>17</th>\n",
       "      <td>11</td>\n",
       "      <td>9904</td>\n",
       "      <td>13.032911</td>\n",
       "      <td>387.42</td>\n",
       "      <td>9951</td>\n",
       "      <td>510.054820</td>\n",
       "      <td>91.0</td>\n",
       "      <td>38.288701</td>\n",
       "      <td>9.041497</td>\n",
       "      <td>511.351168</td>\n",
       "      <td>5.0</td>\n",
       "      <td>16.0</td>\n",
       "      <td>5.0</td>\n",
       "      <td>2.0</td>\n",
       "      <td>15.0</td>\n",
       "      <td>173.545000</td>\n",
       "      <td>182.825833</td>\n",
       "    </tr>\n",
       "    <tr>\n",
       "      <th>27</th>\n",
       "      <td>12</td>\n",
       "      <td>5896</td>\n",
       "      <td>6.190766</td>\n",
       "      <td>212.68</td>\n",
       "      <td>5985</td>\n",
       "      <td>198.074578</td>\n",
       "      <td>34.0</td>\n",
       "      <td>25.481588</td>\n",
       "      <td>2.458211</td>\n",
       "      <td>203.582058</td>\n",
       "      <td>10.0</td>\n",
       "      <td>12.0</td>\n",
       "      <td>4.0</td>\n",
       "      <td>0.0</td>\n",
       "      <td>13.0</td>\n",
       "      <td>119.640667</td>\n",
       "      <td>98.284000</td>\n",
       "    </tr>\n",
       "    <tr>\n",
       "      <th>23</th>\n",
       "      <td>22</td>\n",
       "      <td>10440</td>\n",
       "      <td>7.042239</td>\n",
       "      <td>256.11</td>\n",
       "      <td>12380</td>\n",
       "      <td>127.503145</td>\n",
       "      <td>178.0</td>\n",
       "      <td>8.493387</td>\n",
       "      <td>9.546583</td>\n",
       "      <td>149.641695</td>\n",
       "      <td>7.0</td>\n",
       "      <td>34.0</td>\n",
       "      <td>3.0</td>\n",
       "      <td>0.0</td>\n",
       "      <td>5.0</td>\n",
       "      <td>51.216667</td>\n",
       "      <td>44.941444</td>\n",
       "    </tr>\n",
       "    <tr>\n",
       "      <th>25</th>\n",
       "      <td>23</td>\n",
       "      <td>8514</td>\n",
       "      <td>7.020488</td>\n",
       "      <td>253.57</td>\n",
       "      <td>10200</td>\n",
       "      <td>150.785784</td>\n",
       "      <td>171.0</td>\n",
       "      <td>11.260167</td>\n",
       "      <td>9.626291</td>\n",
       "      <td>176.371282</td>\n",
       "      <td>2.0</td>\n",
       "      <td>28.0</td>\n",
       "      <td>2.0</td>\n",
       "      <td>3.0</td>\n",
       "      <td>6.0</td>\n",
       "      <td>150.460000</td>\n",
       "      <td>34.277111</td>\n",
       "    </tr>\n",
       "    <tr>\n",
       "      <th>22</th>\n",
       "      <td>14</td>\n",
       "      <td>9189</td>\n",
       "      <td>7.521432</td>\n",
       "      <td>275.37</td>\n",
       "      <td>9271</td>\n",
       "      <td>178.706041</td>\n",
       "      <td>105.0</td>\n",
       "      <td>15.150642</td>\n",
       "      <td>3.971141</td>\n",
       "      <td>191.330954</td>\n",
       "      <td>1.0</td>\n",
       "      <td>20.0</td>\n",
       "      <td>2.0</td>\n",
       "      <td>1.0</td>\n",
       "      <td>6.0</td>\n",
       "      <td>120.240000</td>\n",
       "      <td>42.248398</td>\n",
       "    </tr>\n",
       "    <tr>\n",
       "      <th>26</th>\n",
       "      <td>30</td>\n",
       "      <td>6841</td>\n",
       "      <td>6.125303</td>\n",
       "      <td>215.40</td>\n",
       "      <td>6877</td>\n",
       "      <td>199.891685</td>\n",
       "      <td>51.0</td>\n",
       "      <td>24.242056</td>\n",
       "      <td>5.436725</td>\n",
       "      <td>203.620999</td>\n",
       "      <td>7.0</td>\n",
       "      <td>15.0</td>\n",
       "      <td>2.0</td>\n",
       "      <td>0.0</td>\n",
       "      <td>12.0</td>\n",
       "      <td>125.878333</td>\n",
       "      <td>88.646714</td>\n",
       "    </tr>\n",
       "    <tr>\n",
       "      <th>31</th>\n",
       "      <td>8</td>\n",
       "      <td>2383</td>\n",
       "      <td>6.014384</td>\n",
       "      <td>91.13</td>\n",
       "      <td>2391</td>\n",
       "      <td>217.504752</td>\n",
       "      <td>11.0</td>\n",
       "      <td>38.482500</td>\n",
       "      <td>1.971913</td>\n",
       "      <td>218.077697</td>\n",
       "      <td>1.0</td>\n",
       "      <td>4.0</td>\n",
       "      <td>2.0</td>\n",
       "      <td>1.0</td>\n",
       "      <td>10.0</td>\n",
       "      <td>35.440000</td>\n",
       "      <td>66.005000</td>\n",
       "    </tr>\n",
       "    <tr>\n",
       "      <th>18</th>\n",
       "      <td>10</td>\n",
       "      <td>11188</td>\n",
       "      <td>6.154385</td>\n",
       "      <td>364.93</td>\n",
       "      <td>11317</td>\n",
       "      <td>185.341079</td>\n",
       "      <td>110.0</td>\n",
       "      <td>18.265375</td>\n",
       "      <td>4.844471</td>\n",
       "      <td>189.733213</td>\n",
       "      <td>4.0</td>\n",
       "      <td>20.0</td>\n",
       "      <td>2.0</td>\n",
       "      <td>0.0</td>\n",
       "      <td>15.0</td>\n",
       "      <td>225.430000</td>\n",
       "      <td>133.396000</td>\n",
       "    </tr>\n",
       "    <tr>\n",
       "      <th>28</th>\n",
       "      <td>7</td>\n",
       "      <td>6028</td>\n",
       "      <td>6.401045</td>\n",
       "      <td>196.47</td>\n",
       "      <td>6148</td>\n",
       "      <td>179.688844</td>\n",
       "      <td>48.0</td>\n",
       "      <td>18.797310</td>\n",
       "      <td>3.073289</td>\n",
       "      <td>190.088710</td>\n",
       "      <td>2.0</td>\n",
       "      <td>3.0</td>\n",
       "      <td>1.0</td>\n",
       "      <td>1.0</td>\n",
       "      <td>6.0</td>\n",
       "      <td>27.300000</td>\n",
       "      <td>18.200000</td>\n",
       "    </tr>\n",
       "    <tr>\n",
       "      <th>19</th>\n",
       "      <td>28</td>\n",
       "      <td>9037</td>\n",
       "      <td>6.054878</td>\n",
       "      <td>348.27</td>\n",
       "      <td>9137</td>\n",
       "      <td>233.713103</td>\n",
       "      <td>78.0</td>\n",
       "      <td>20.776911</td>\n",
       "      <td>5.459210</td>\n",
       "      <td>236.199586</td>\n",
       "      <td>4.0</td>\n",
       "      <td>11.0</td>\n",
       "      <td>1.0</td>\n",
       "      <td>1.0</td>\n",
       "      <td>6.0</td>\n",
       "      <td>191.813333</td>\n",
       "      <td>87.408000</td>\n",
       "    </tr>\n",
       "    <tr>\n",
       "      <th>29</th>\n",
       "      <td>29</td>\n",
       "      <td>5049</td>\n",
       "      <td>6.377951</td>\n",
       "      <td>180.73</td>\n",
       "      <td>5138</td>\n",
       "      <td>269.958457</td>\n",
       "      <td>42.0</td>\n",
       "      <td>24.140474</td>\n",
       "      <td>5.963786</td>\n",
       "      <td>233.462947</td>\n",
       "      <td>0.0</td>\n",
       "      <td>11.0</td>\n",
       "      <td>1.0</td>\n",
       "      <td>0.0</td>\n",
       "      <td>2.0</td>\n",
       "      <td>0.000000</td>\n",
       "      <td>23.034583</td>\n",
       "    </tr>\n",
       "    <tr>\n",
       "      <th>34</th>\n",
       "      <td>35</td>\n",
       "      <td>2302</td>\n",
       "      <td>6.069965</td>\n",
       "      <td>87.48</td>\n",
       "      <td>2332</td>\n",
       "      <td>227.541597</td>\n",
       "      <td>9.0</td>\n",
       "      <td>49.965000</td>\n",
       "      <td>5.879032</td>\n",
       "      <td>230.373955</td>\n",
       "      <td>0.0</td>\n",
       "      <td>1.0</td>\n",
       "      <td>1.0</td>\n",
       "      <td>0.0</td>\n",
       "      <td>3.0</td>\n",
       "      <td>0.000000</td>\n",
       "      <td>13.250000</td>\n",
       "    </tr>\n",
       "    <tr>\n",
       "      <th>32</th>\n",
       "      <td>26</td>\n",
       "      <td>2262</td>\n",
       "      <td>6.020357</td>\n",
       "      <td>90.71</td>\n",
       "      <td>2268</td>\n",
       "      <td>232.706975</td>\n",
       "      <td>14.0</td>\n",
       "      <td>25.394167</td>\n",
       "      <td>2.989764</td>\n",
       "      <td>233.697780</td>\n",
       "      <td>0.0</td>\n",
       "      <td>1.0</td>\n",
       "      <td>0.0</td>\n",
       "      <td>0.0</td>\n",
       "      <td>3.0</td>\n",
       "      <td>0.000000</td>\n",
       "      <td>44.320000</td>\n",
       "    </tr>\n",
       "    <tr>\n",
       "      <th>35</th>\n",
       "      <td>15</td>\n",
       "      <td>406</td>\n",
       "      <td>6.000000</td>\n",
       "      <td>15.59</td>\n",
       "      <td>406</td>\n",
       "      <td>193.725673</td>\n",
       "      <td>1.0</td>\n",
       "      <td>5.160000</td>\n",
       "      <td>0.694444</td>\n",
       "      <td>193.725673</td>\n",
       "      <td>0.0</td>\n",
       "      <td>0.0</td>\n",
       "      <td>0.0</td>\n",
       "      <td>0.0</td>\n",
       "      <td>0.0</td>\n",
       "      <td>0.000000</td>\n",
       "      <td>0.000000</td>\n",
       "    </tr>\n",
       "  </tbody>\n",
       "</table>\n",
       "</div>"
      ],
      "text/plain": [
       "    Ad Set Name   Reach  Frequency  Amount Spent (USD)  Impressions  \\\n",
       "0             6  148384   9.187367             4579.48       207604   \n",
       "20            1   26469   6.922444              319.02        29730   \n",
       "4            31   72834   8.569932             1893.98        87015   \n",
       "2            24   90877  15.004256             2825.20       105168   \n",
       "11            5   26836   7.865254              670.06        30412   \n",
       "7             4   43112   7.830940             1312.77        55490   \n",
       "9            16   33208   6.828138              986.70        38182   \n",
       "6            18   43377   8.612189             1585.98        51296   \n",
       "3             9   57520   7.057585             2046.86        63425   \n",
       "1            13  105376   7.426445             4120.23       130882   \n",
       "16            2   16972   7.381687              477.69        20831   \n",
       "15           19   17689   7.268296              492.89        18491   \n",
       "10           32   25560   6.790768              807.54        27624   \n",
       "8            27   25270   6.147786             1004.33        25842   \n",
       "5            33   48128   7.134516             1663.40        56956   \n",
       "13           17   18662   6.312156              514.53        20160   \n",
       "30           34    6064   6.523927              102.45         6147   \n",
       "21           25    9179   6.090520              296.20         9276   \n",
       "33            3    2775   6.027281               90.59         2795   \n",
       "14           20   18284   6.761720              495.44        19717   \n",
       "24           21    7468   7.281520              256.03         8889   \n",
       "12           36   17332   6.666229              554.19        18765   \n",
       "17           11    9904  13.032911              387.42         9951   \n",
       "27           12    5896   6.190766              212.68         5985   \n",
       "23           22   10440   7.042239              256.11        12380   \n",
       "25           23    8514   7.020488              253.57        10200   \n",
       "22           14    9189   7.521432              275.37         9271   \n",
       "26           30    6841   6.125303              215.40         6877   \n",
       "31            8    2383   6.014384               91.13         2391   \n",
       "18           10   11188   6.154385              364.93        11317   \n",
       "28            7    6028   6.401045              196.47         6148   \n",
       "19           28    9037   6.054878              348.27         9137   \n",
       "29           29    5049   6.377951              180.73         5138   \n",
       "34           35    2302   6.069965               87.48         2332   \n",
       "32           26    2262   6.020357               90.71         2268   \n",
       "35           15     406   6.000000               15.59          406   \n",
       "\n",
       "    CPM (Cost per 1,000 Impressions) (USD)  Link Clicks  \\\n",
       "0                               206.666595       2167.0   \n",
       "20                               68.095364         86.0   \n",
       "4                               199.293940       1102.0   \n",
       "2                               507.304091        965.0   \n",
       "11                              146.089718        153.0   \n",
       "7                               185.855756        448.0   \n",
       "9                               164.389873        285.0   \n",
       "6                               203.365515        653.0   \n",
       "3                               242.440856        722.0   \n",
       "1                               221.457893       1877.0   \n",
       "16                              134.414313        156.0   \n",
       "15                              194.996608        219.0   \n",
       "10                              228.307528        298.0   \n",
       "8                               234.683957        278.0   \n",
       "5                               296.235306       1115.0   \n",
       "13                              163.234317        143.0   \n",
       "30                               93.794974         13.0   \n",
       "21                              185.937699         85.0   \n",
       "33                              183.976233         16.0   \n",
       "14                              158.030386        188.0   \n",
       "24                              212.309765        130.0   \n",
       "12                              185.413652        165.0   \n",
       "17                              510.054820         91.0   \n",
       "27                              198.074578         34.0   \n",
       "23                              127.503145        178.0   \n",
       "25                              150.785784        171.0   \n",
       "22                              178.706041        105.0   \n",
       "26                              199.891685         51.0   \n",
       "31                              217.504752         11.0   \n",
       "18                              185.341079        110.0   \n",
       "28                              179.688844         48.0   \n",
       "19                              233.713103         78.0   \n",
       "29                              269.958457         42.0   \n",
       "34                              227.541597          9.0   \n",
       "32                              232.706975         14.0   \n",
       "35                              193.725673          1.0   \n",
       "\n",
       "    CPC (Cost per Link Click) (USD)  CTR (Link Click-Through Rate)  \\\n",
       "0                         11.758557                       6.483000   \n",
       "20                        18.055771                       1.489356   \n",
       "4                          9.908232                       8.388538   \n",
       "2                         46.525811                       7.699054   \n",
       "11                        25.671691                       2.288864   \n",
       "7                         20.419163                       4.318319   \n",
       "9                         21.583720                       4.050743   \n",
       "6                         15.763969                       7.172529   \n",
       "3                         24.079364                       5.661042   \n",
       "1                         15.963071                       7.344414   \n",
       "16                        12.532648                       3.019334   \n",
       "15                        17.512504                       6.833375   \n",
       "10                        20.310040                       5.899207   \n",
       "8                         25.605472                       5.857706   \n",
       "5                         13.479817                       9.027207   \n",
       "13                        20.246475                       5.380848   \n",
       "30                        32.256500                       0.856617   \n",
       "21                        18.446399                       7.368188   \n",
       "33                        35.224722                       2.053368   \n",
       "14                        22.388674                       4.676800   \n",
       "24                        11.795043                       8.770642   \n",
       "12                        25.195491                       4.855476   \n",
       "17                        38.288701                       9.041497   \n",
       "27                        25.481588                       2.458211   \n",
       "23                         8.493387                       9.546583   \n",
       "25                        11.260167                       9.626291   \n",
       "22                        15.150642                       3.971141   \n",
       "26                        24.242056                       5.436725   \n",
       "31                        38.482500                       1.971913   \n",
       "18                        18.265375                       4.844471   \n",
       "28                        18.797310                       3.073289   \n",
       "19                        20.776911                       5.459210   \n",
       "29                        24.140474                       5.963786   \n",
       "34                        49.965000                       5.879032   \n",
       "32                        25.394167                       2.989764   \n",
       "35                         5.160000                       0.694444   \n",
       "\n",
       "    Cost per 1,000 People Reached (USD)  Website Registrations Completed  \\\n",
       "0                            194.852846                            122.0   \n",
       "20                            79.496844                              0.0   \n",
       "4                            204.345115                             29.0   \n",
       "2                            380.277486                             51.0   \n",
       "11                           165.102329                             16.0   \n",
       "7                            176.825278                             24.0   \n",
       "9                            164.855892                             13.0   \n",
       "6                            241.912667                             37.0   \n",
       "3                            225.965312                             40.0   \n",
       "1                            230.185272                            110.0   \n",
       "16                           164.796389                              6.0   \n",
       "15                           202.541277                              4.0   \n",
       "10                           212.658865                              6.0   \n",
       "8                            240.300806                             11.0   \n",
       "5                            222.367411                             30.0   \n",
       "13                           171.556961                              9.0   \n",
       "30                           100.304384                              2.0   \n",
       "21                           188.965841                              6.0   \n",
       "33                           184.820614                              0.0   \n",
       "14                           165.701006                              5.0   \n",
       "24                           208.030424                              3.0   \n",
       "12                           205.633124                              5.0   \n",
       "17                           511.351168                              5.0   \n",
       "27                           203.582058                             10.0   \n",
       "23                           149.641695                              7.0   \n",
       "25                           176.371282                              2.0   \n",
       "22                           191.330954                              1.0   \n",
       "26                           203.620999                              7.0   \n",
       "31                           218.077697                              1.0   \n",
       "18                           189.733213                              4.0   \n",
       "28                           190.088710                              2.0   \n",
       "19                           236.199586                              4.0   \n",
       "29                           233.462947                              0.0   \n",
       "34                           230.373955                              0.0   \n",
       "32                           233.697780                              0.0   \n",
       "35                           193.725673                              0.0   \n",
       "\n",
       "    Website Leads  Post Shares  Post Comments  Post Reactions  \\\n",
       "0           297.0        248.0           64.0           505.0   \n",
       "20           10.0        146.0           60.0           991.0   \n",
       "4            95.0        131.0           49.0           241.0   \n",
       "2           139.0        122.0           35.0           551.0   \n",
       "11           43.0         72.0           28.0           553.0   \n",
       "7            77.0         58.0           10.0           156.0   \n",
       "9            28.0         52.0           12.0           147.0   \n",
       "6           121.0         35.0           15.0           130.0   \n",
       "3           136.0         30.0           27.0           149.0   \n",
       "1           422.0         28.0           29.0           120.0   \n",
       "16           21.0         27.0            5.0            89.0   \n",
       "15           15.0         26.0            9.0            50.0   \n",
       "10           43.0         19.0            7.0            40.0   \n",
       "8            46.0         14.0            2.0            32.0   \n",
       "5           261.0         12.0           20.0            53.0   \n",
       "13           30.0         12.0            1.0            53.0   \n",
       "30            5.0         10.0            6.0            89.0   \n",
       "21           24.0          8.0            0.0            11.0   \n",
       "33            2.0          6.0            2.0             2.0   \n",
       "14           22.0          6.0            5.0            12.0   \n",
       "24           13.0          6.0            0.0            14.0   \n",
       "12           20.0          5.0            3.0            32.0   \n",
       "17           16.0          5.0            2.0            15.0   \n",
       "27           12.0          4.0            0.0            13.0   \n",
       "23           34.0          3.0            0.0             5.0   \n",
       "25           28.0          2.0            3.0             6.0   \n",
       "22           20.0          2.0            1.0             6.0   \n",
       "26           15.0          2.0            0.0            12.0   \n",
       "31            4.0          2.0            1.0            10.0   \n",
       "18           20.0          2.0            0.0            15.0   \n",
       "28            3.0          1.0            1.0             6.0   \n",
       "19           11.0          1.0            1.0             6.0   \n",
       "29           11.0          1.0            0.0             2.0   \n",
       "34            1.0          1.0            0.0             3.0   \n",
       "32            1.0          0.0            0.0             3.0   \n",
       "35            0.0          0.0            0.0             0.0   \n",
       "\n",
       "    Cost per Website Registration Completed (USD)  Cost per Website Lead (USD)  \n",
       "0                                      239.332108                   108.347680  \n",
       "20                                       0.000000                    71.441000  \n",
       "4                                      403.658833                   145.051476  \n",
       "2                                      356.483393                   259.212003  \n",
       "11                                     151.819167                    77.232823  \n",
       "7                                      253.449166                    76.818298  \n",
       "9                                      324.962500                   143.544777  \n",
       "6                                      275.536250                    54.679637  \n",
       "3                                      294.605349                    72.554723  \n",
       "1                                      345.936449                    78.799039  \n",
       "16                                     378.430000                   115.307667  \n",
       "15                                     172.960000                   183.266667  \n",
       "10                                     202.403333                   101.161333  \n",
       "8                                      436.093333                   148.921111  \n",
       "5                                      170.884509                    61.896798  \n",
       "13                                     171.795000                   114.649167  \n",
       "30                                      62.170000                    56.695000  \n",
       "21                                     224.803333                   105.215882  \n",
       "33                                       0.000000                    14.155000  \n",
       "14                                     264.315000                   100.848864  \n",
       "24                                     162.430000                    41.867333  \n",
       "12                                     326.446667                   137.132000  \n",
       "17                                     173.545000                   182.825833  \n",
       "27                                     119.640667                    98.284000  \n",
       "23                                      51.216667                    44.941444  \n",
       "25                                     150.460000                    34.277111  \n",
       "22                                     120.240000                    42.248398  \n",
       "26                                     125.878333                    88.646714  \n",
       "31                                      35.440000                    66.005000  \n",
       "18                                     225.430000                   133.396000  \n",
       "28                                      27.300000                    18.200000  \n",
       "19                                     191.813333                    87.408000  \n",
       "29                                       0.000000                    23.034583  \n",
       "34                                       0.000000                    13.250000  \n",
       "32                                       0.000000                    44.320000  \n",
       "35                                       0.000000                     0.000000  "
      ]
     },
     "execution_count": 981,
     "metadata": {},
     "output_type": "execute_result"
    }
   ],
   "source": [
    "grouped.sort_values('Post Shares', ascending=False)"
   ]
  },
  {
   "cell_type": "markdown",
   "metadata": {},
   "source": [
    "# Post Shares"
   ]
  },
  {
   "cell_type": "code",
   "execution_count": 552,
   "metadata": {},
   "outputs": [
    {
     "data": {
      "text/plain": [
       "count     36.000000\n",
       "mean      30.527778\n",
       "std       52.941200\n",
       "min        0.000000\n",
       "25%        2.000000\n",
       "50%        7.000000\n",
       "75%       28.500000\n",
       "max      248.000000\n",
       "Name: Post Shares, dtype: float64"
      ]
     },
     "execution_count": 552,
     "metadata": {},
     "output_type": "execute_result"
    }
   ],
   "source": [
    "grouped['Post Shares'].describe()"
   ]
  },
  {
   "cell_type": "code",
   "execution_count": 841,
   "metadata": {},
   "outputs": [
    {
     "data": {
      "text/plain": [
       "<matplotlib.axes._subplots.AxesSubplot at 0x14f94ed30>"
      ]
     },
     "execution_count": 841,
     "metadata": {},
     "output_type": "execute_result"
    },
    {
     "data": {
      "image/png": "[encoded data removed]",
      "text/plain": [
       "<Figure size 720x576 with 1 Axes>"
      ]
     },
     "metadata": {
      "needs_background": "light"
     },
     "output_type": "display_data"
    }
   ],
   "source": [
    "plt.figure(figsize=(10,8))\n",
    "sns.barplot(grouped['Ad Set Name'], grouped['Post Shares'], color='seagreen')\n",
    "\n",
    "#6, 1,31, 24,"
   ]
  },
  {
   "cell_type": "markdown",
   "metadata": {},
   "source": [
    "# Post Comments"
   ]
  },
  {
   "cell_type": "code",
   "execution_count": 555,
   "metadata": {},
   "outputs": [
    {
     "data": {
      "text/plain": [
       "count    36.000000\n",
       "mean     11.055556\n",
       "std      17.234425\n",
       "min       0.000000\n",
       "25%       0.000000\n",
       "50%       2.500000\n",
       "75%      12.750000\n",
       "max      64.000000\n",
       "Name: Post Comments, dtype: float64"
      ]
     },
     "execution_count": 555,
     "metadata": {},
     "output_type": "execute_result"
    }
   ],
   "source": [
    "grouped['Post Comments'].describe()"
   ]
  },
  {
   "cell_type": "code",
   "execution_count": 977,
   "metadata": {},
   "outputs": [
    {
     "data": {
      "text/plain": [
       "<matplotlib.axes._subplots.AxesSubplot at 0x1548f8160>"
      ]
     },
     "execution_count": 977,
     "metadata": {},
     "output_type": "execute_result"
    },
    {
     "data": {
      "image/png": "[encoded data removed]",
      "text/plain": [
       "<Figure size 720x432 with 1 Axes>"
      ]
     },
     "metadata": {
      "needs_background": "light"
     },
     "output_type": "display_data"
    }
   ],
   "source": [
    "plt.figure(figsize=(10,6))\n",
    "sns.barplot(grouped['Ad Set Name'], grouped['Post Comments'], color='seagreen')\n",
    "\n"
   ]
  },
  {
   "cell_type": "markdown",
   "metadata": {},
   "source": [
    "# Most interactable ads"
   ]
  },
  {
   "cell_type": "code",
   "execution_count": 958,
   "metadata": {},
   "outputs": [],
   "source": [
    "grouped = grouped.sort_values('Ad Set Name', ascending=True)"
   ]
  },
  {
   "cell_type": "code",
   "execution_count": 959,
   "metadata": {},
   "outputs": [
    {
     "name": "stdout",
     "output_type": "stream",
     "text": [
      "<class 'pandas.core.frame.DataFrame'>\n",
      "Int64Index: 36 entries, 20 to 12\n",
      "Data columns (total 17 columns):\n",
      " #   Column                                         Non-Null Count  Dtype  \n",
      "---  ------                                         --------------  -----  \n",
      " 0   Ad Set Name                                    36 non-null     int64  \n",
      " 1   Reach                                          36 non-null     int64  \n",
      " 2   Frequency                                      36 non-null     float64\n",
      " 3   Amount Spent (USD)                             36 non-null     float64\n",
      " 4   Impressions                                    36 non-null     int64  \n",
      " 5   CPM (Cost per 1,000 Impressions) (USD)         36 non-null     float64\n",
      " 6   Link Clicks                                    36 non-null     float64\n",
      " 7   CPC (Cost per Link Click) (USD)                36 non-null     float64\n",
      " 8   CTR (Link Click-Through Rate)                  36 non-null     float64\n",
      " 9   Cost per 1,000 People Reached (USD)            36 non-null     float64\n",
      " 10  Website Registrations Completed                36 non-null     float64\n",
      " 11  Website Leads                                  36 non-null     float64\n",
      " 12  Post Shares                                    36 non-null     float64\n",
      " 13  Post Comments                                  36 non-null     float64\n",
      " 14  Post Reactions                                 36 non-null     float64\n",
      " 15  Cost per Website Registration Completed (USD)  36 non-null     float64\n",
      " 16  Cost per Website Lead (USD)                    36 non-null     float64\n",
      "dtypes: float64(14), int64(3)\n",
      "memory usage: 5.1 KB\n"
     ]
    }
   ],
   "source": [
    "grouped['Ad Set Name'] = grouped['Ad Set Name'].astype(int)\n",
    "\n",
    "grouped.info()"
   ]
  },
  {
   "cell_type": "code",
   "execution_count": 960,
   "metadata": {},
   "outputs": [
    {
     "data": {
      "text/plain": [
       "<function seaborn.relational.lineplot(x=None, y=None, hue=None, size=None, style=None, data=None, palette=None, hue_order=None, hue_norm=None, sizes=None, size_order=None, size_norm=None, dashes=True, markers=None, style_order=None, units=None, estimator='mean', ci=95, n_boot=1000, seed=None, sort=True, err_style='band', err_kws=None, legend='brief', ax=None, **kwargs)>"
      ]
     },
     "execution_count": 960,
     "metadata": {},
     "output_type": "execute_result"
    }
   ],
   "source": [
    "sns.lineplot"
   ]
  },
  {
   "cell_type": "code",
   "execution_count": 976,
   "metadata": {},
   "outputs": [
    {
     "data": {
      "image/png": "[encoded data removed]",
      "text/plain": [
       "<Figure size 864x432 with 1 Axes>"
      ]
     },
     "metadata": {
      "needs_background": "light"
     },
     "output_type": "display_data"
    }
   ],
   "source": [
    "# multiple line plot\n",
    "plt.figure(figsize=(12,6))\n",
    "x= grouped['Ad Set Name']\n",
    "y1= grouped['Post Comments']\n",
    "y2= grouped['Post Reactions']\n",
    "y3= grouped['Post Shares']\n",
    "\n",
    "plt.plot( x, y1,  color='r', linewidth=2, label='Post comments')\n",
    "plt.plot( x, y2,   color='darkgreen', linewidth=2, label = 'Post Reactions')\n",
    "plt.plot( x, y3,  color='c', linewidth=2, label=\"Post Shares\")\n",
    "\n",
    "plt.xlabel('Ad Set Name', fontsize=14)\n",
    "plt.ylabel('User Count', fontsize=14)\n",
    "plt.xticks(np.arange(0,37,1))\n",
    "\n",
    "plt.legend()\n",
    "\n",
    "plt.show()"
   ]
  },
  {
   "cell_type": "code",
   "execution_count": null,
   "metadata": {},
   "outputs": [],
   "source": []
  },
  {
   "cell_type": "code",
   "execution_count": null,
   "metadata": {},
   "outputs": [],
   "source": []
  },
  {
   "cell_type": "code",
   "execution_count": null,
   "metadata": {},
   "outputs": [],
   "source": []
  },
  {
   "cell_type": "markdown",
   "metadata": {},
   "source": [
    "# Website Registrations Completed"
   ]
  },
  {
   "cell_type": "code",
   "execution_count": 558,
   "metadata": {},
   "outputs": [],
   "source": [
    "# grouped['Website Registrations Completed'].value_counts()"
   ]
  },
  {
   "cell_type": "code",
   "execution_count": 560,
   "metadata": {},
   "outputs": [
    {
     "data": {
      "text/plain": [
       "Text(0.5, 1.0, 'Registrations by Sets of Ads')"
      ]
     },
     "execution_count": 560,
     "metadata": {},
     "output_type": "execute_result"
    },
    {
     "data": {
      "image/png": "[encoded data removed]",
      "text/plain": [
       "<Figure size 648x504 with 1 Axes>"
      ]
     },
     "metadata": {
      "needs_background": "light"
     },
     "output_type": "display_data"
    }
   ],
   "source": [
    "plt.figure(figsize=(9,7))\n",
    "sns.barplot( grouped['Ad Set Name'], grouped['Website Registrations Completed'], color='c')\n",
    "plt.title('Registrations by Sets of Ads', fontsize=16)\n"
   ]
  },
  {
   "cell_type": "markdown",
   "metadata": {},
   "source": [
    "# Post Shares"
   ]
  },
  {
   "cell_type": "code",
   "execution_count": 359,
   "metadata": {},
   "outputs": [
    {
     "data": {
      "text/plain": [
       "count     36.000000\n",
       "mean      30.527778\n",
       "std       52.941200\n",
       "min        0.000000\n",
       "25%        2.000000\n",
       "50%        7.000000\n",
       "75%       28.500000\n",
       "max      248.000000\n",
       "Name: Post Shares, dtype: float64"
      ]
     },
     "execution_count": 359,
     "metadata": {},
     "output_type": "execute_result"
    }
   ],
   "source": [
    "grouped['Post Shares'].describescribe()"
   ]
  },
  {
   "cell_type": "code",
   "execution_count": 361,
   "metadata": {},
   "outputs": [
    {
     "data": {
      "text/plain": [
       "<matplotlib.axes._subplots.AxesSubplot at 0x135009630>"
      ]
     },
     "execution_count": 361,
     "metadata": {},
     "output_type": "execute_result"
    },
    {
     "data": {
      "image/png": "[encoded data removed]",
      "text/plain": [
       "<Figure size 720x576 with 1 Axes>"
      ]
     },
     "metadata": {
      "needs_background": "light"
     },
     "output_type": "display_data"
    }
   ],
   "source": [
    "plt.figure(figsize=(10,8))\n",
    "sns.barplot(grouped['Post Shares'], grouped['Ad Set Name'])"
   ]
  },
  {
   "cell_type": "code",
   "execution_count": 365,
   "metadata": {},
   "outputs": [
    {
     "data": {
      "text/html": [
       "<div>\n",
       "<style scoped>\n",
       "    .dataframe tbody tr th:only-of-type {\n",
       "        vertical-align: middle;\n",
       "    }\n",
       "\n",
       "    .dataframe tbody tr th {\n",
       "        vertical-align: top;\n",
       "    }\n",
       "\n",
       "    .dataframe thead th {\n",
       "        text-align: right;\n",
       "    }\n",
       "</style>\n",
       "<table border=\"1\" class=\"dataframe\">\n",
       "  <thead>\n",
       "    <tr style=\"text-align: right;\">\n",
       "      <th></th>\n",
       "      <th>Ad Set Name</th>\n",
       "      <th>Reach</th>\n",
       "      <th>Frequency</th>\n",
       "      <th>Amount Spent (USD)</th>\n",
       "      <th>Impressions</th>\n",
       "      <th>CPM (Cost per 1,000 Impressions) (USD)</th>\n",
       "      <th>Link Clicks</th>\n",
       "      <th>CPC (Cost per Link Click) (USD)</th>\n",
       "      <th>CTR (Link Click-Through Rate)</th>\n",
       "      <th>Cost per 1,000 People Reached (USD)</th>\n",
       "      <th>Website Registrations Completed</th>\n",
       "      <th>Website Leads</th>\n",
       "      <th>Post Shares</th>\n",
       "      <th>Post Comments</th>\n",
       "      <th>Post Reactions</th>\n",
       "      <th>Cost per Website Registration Completed (USD)</th>\n",
       "      <th>Cost per Website Lead (USD)</th>\n",
       "      <th>CTR</th>\n",
       "    </tr>\n",
       "  </thead>\n",
       "  <tbody>\n",
       "    <tr>\n",
       "      <th>32</th>\n",
       "      <td>Ad Set 6</td>\n",
       "      <td>148384</td>\n",
       "      <td>9.187367</td>\n",
       "      <td>4579.48</td>\n",
       "      <td>207604</td>\n",
       "      <td>206.666595</td>\n",
       "      <td>2167.0</td>\n",
       "      <td>11.758557</td>\n",
       "      <td>6.483000</td>\n",
       "      <td>194.852846</td>\n",
       "      <td>122.0</td>\n",
       "      <td>297.0</td>\n",
       "      <td>248.0</td>\n",
       "      <td>64.0</td>\n",
       "      <td>505.0</td>\n",
       "      <td>239.332108</td>\n",
       "      <td>108.347680</td>\n",
       "      <td>0.010438</td>\n",
       "    </tr>\n",
       "    <tr>\n",
       "      <th>4</th>\n",
       "      <td>Ad Set 13</td>\n",
       "      <td>105376</td>\n",
       "      <td>7.426445</td>\n",
       "      <td>4120.23</td>\n",
       "      <td>130882</td>\n",
       "      <td>221.457893</td>\n",
       "      <td>1877.0</td>\n",
       "      <td>15.963071</td>\n",
       "      <td>7.344414</td>\n",
       "      <td>230.185272</td>\n",
       "      <td>110.0</td>\n",
       "      <td>422.0</td>\n",
       "      <td>28.0</td>\n",
       "      <td>29.0</td>\n",
       "      <td>120.0</td>\n",
       "      <td>345.936449</td>\n",
       "      <td>78.799039</td>\n",
       "      <td>0.014341</td>\n",
       "    </tr>\n",
       "  </tbody>\n",
       "</table>\n",
       "</div>"
      ],
      "text/plain": [
       "   Ad Set Name   Reach  Frequency  Amount Spent (USD)  Impressions  \\\n",
       "32    Ad Set 6  148384   9.187367             4579.48       207604   \n",
       "4    Ad Set 13  105376   7.426445             4120.23       130882   \n",
       "\n",
       "    CPM (Cost per 1,000 Impressions) (USD)  Link Clicks  \\\n",
       "32                              206.666595       2167.0   \n",
       "4                               221.457893       1877.0   \n",
       "\n",
       "    CPC (Cost per Link Click) (USD)  CTR (Link Click-Through Rate)  \\\n",
       "32                        11.758557                       6.483000   \n",
       "4                         15.963071                       7.344414   \n",
       "\n",
       "    Cost per 1,000 People Reached (USD)  Website Registrations Completed  \\\n",
       "32                           194.852846                            122.0   \n",
       "4                            230.185272                            110.0   \n",
       "\n",
       "    Website Leads  Post Shares  Post Comments  Post Reactions  \\\n",
       "32          297.0        248.0           64.0           505.0   \n",
       "4           422.0         28.0           29.0           120.0   \n",
       "\n",
       "    Cost per Website Registration Completed (USD)  \\\n",
       "32                                     239.332108   \n",
       "4                                      345.936449   \n",
       "\n",
       "    Cost per Website Lead (USD)       CTR  \n",
       "32                   108.347680  0.010438  \n",
       "4                     78.799039  0.014341  "
      ]
     },
     "execution_count": 365,
     "metadata": {},
     "output_type": "execute_result"
    }
   ],
   "source": [
    "grouped.head(2)"
   ]
  },
  {
   "cell_type": "markdown",
   "metadata": {},
   "source": [
    "# Post Reactions: how many times users “liked” or “disliked” the ad"
   ]
  },
  {
   "cell_type": "code",
   "execution_count": 366,
   "metadata": {},
   "outputs": [
    {
     "data": {
      "text/plain": [
       "count     36.000000\n",
       "mean     114.500000\n",
       "std      211.200717\n",
       "min        0.000000\n",
       "25%        6.000000\n",
       "50%       23.500000\n",
       "75%      122.500000\n",
       "max      991.000000\n",
       "Name: Post Reactions, dtype: float64"
      ]
     },
     "execution_count": 366,
     "metadata": {},
     "output_type": "execute_result"
    }
   ],
   "source": [
    "grouped['Post Reactions'].describe()"
   ]
  },
  {
   "cell_type": "code",
   "execution_count": 367,
   "metadata": {},
   "outputs": [
    {
     "data": {
      "text/plain": [
       "<matplotlib.axes._subplots.AxesSubplot at 0x137de8710>"
      ]
     },
     "execution_count": 367,
     "metadata": {},
     "output_type": "execute_result"
    },
    {
     "data": {
      "image/png": "[encoded data removed]",
      "text/plain": [
       "<Figure size 720x576 with 1 Axes>"
      ]
     },
     "metadata": {
      "needs_background": "light"
     },
     "output_type": "display_data"
    }
   ],
   "source": [
    "plt.figure(figsize=(10,8))\n",
    "sns.barplot(grouped['Post Reactions'], grouped['Ad Set Name'])"
   ]
  },
  {
   "cell_type": "markdown",
   "metadata": {},
   "source": [
    "# Website Leads: number of people who started to sign-up with Arcadia but did not complete the registration process\n"
   ]
  },
  {
   "cell_type": "code",
   "execution_count": 368,
   "metadata": {},
   "outputs": [
    {
     "data": {
      "text/plain": [
       "count     36.000000\n",
       "mean      56.833333\n",
       "std       92.443187\n",
       "min        0.000000\n",
       "25%       11.000000\n",
       "50%       20.500000\n",
       "75%       43.750000\n",
       "max      422.000000\n",
       "Name: Website Leads, dtype: float64"
      ]
     },
     "execution_count": 368,
     "metadata": {},
     "output_type": "execute_result"
    }
   ],
   "source": [
    "grouped['Website Leads'].describe()"
   ]
  },
  {
   "cell_type": "code",
   "execution_count": 370,
   "metadata": {},
   "outputs": [
    {
     "data": {
      "text/plain": [
       "<matplotlib.axes._subplots.AxesSubplot at 0x137fc6eb8>"
      ]
     },
     "execution_count": 370,
     "metadata": {},
     "output_type": "execute_result"
    },
    {
     "data": {
      "image/png": "[encoded data removed]",
      "text/plain": [
       "<Figure size 720x576 with 1 Axes>"
      ]
     },
     "metadata": {
      "needs_background": "light"
     },
     "output_type": "display_data"
    }
   ],
   "source": [
    "plt.figure(figsize=(10,8))\n",
    "sns.barplot(grouped['Website Leads'], grouped['Ad Set Name'])"
   ]
  },
  {
   "cell_type": "code",
   "execution_count": null,
   "metadata": {},
   "outputs": [],
   "source": []
  },
  {
   "cell_type": "code",
   "execution_count": null,
   "metadata": {},
   "outputs": [],
   "source": []
  },
  {
   "cell_type": "code",
   "execution_count": null,
   "metadata": {},
   "outputs": [],
   "source": []
  },
  {
   "cell_type": "code",
   "execution_count": 355,
   "metadata": {},
   "outputs": [
    {
     "data": {
      "text/html": [
       "<div>\n",
       "<style scoped>\n",
       "    .dataframe tbody tr th:only-of-type {\n",
       "        vertical-align: middle;\n",
       "    }\n",
       "\n",
       "    .dataframe tbody tr th {\n",
       "        vertical-align: top;\n",
       "    }\n",
       "\n",
       "    .dataframe thead th {\n",
       "        text-align: right;\n",
       "    }\n",
       "</style>\n",
       "<table border=\"1\" class=\"dataframe\">\n",
       "  <thead>\n",
       "    <tr style=\"text-align: right;\">\n",
       "      <th></th>\n",
       "      <th>Website Registrations Completed</th>\n",
       "      <th>reach</th>\n",
       "      <th>set</th>\n",
       "    </tr>\n",
       "  </thead>\n",
       "  <tbody>\n",
       "    <tr>\n",
       "      <th>0</th>\n",
       "      <td>122.0</td>\n",
       "      <td>148384</td>\n",
       "      <td>Ad Set 6</td>\n",
       "    </tr>\n",
       "    <tr>\n",
       "      <th>1</th>\n",
       "      <td>110.0</td>\n",
       "      <td>105376</td>\n",
       "      <td>Ad Set 13</td>\n",
       "    </tr>\n",
       "    <tr>\n",
       "      <th>2</th>\n",
       "      <td>51.0</td>\n",
       "      <td>90877</td>\n",
       "      <td>Ad Set 24</td>\n",
       "    </tr>\n",
       "    <tr>\n",
       "      <th>3</th>\n",
       "      <td>40.0</td>\n",
       "      <td>57520</td>\n",
       "      <td>Ad Set 9</td>\n",
       "    </tr>\n",
       "    <tr>\n",
       "      <th>4</th>\n",
       "      <td>37.0</td>\n",
       "      <td>43377</td>\n",
       "      <td>Ad Set 18</td>\n",
       "    </tr>\n",
       "    <tr>\n",
       "      <th>5</th>\n",
       "      <td>30.0</td>\n",
       "      <td>48128</td>\n",
       "      <td>Ad Set 33</td>\n",
       "    </tr>\n",
       "    <tr>\n",
       "      <th>6</th>\n",
       "      <td>29.0</td>\n",
       "      <td>72834</td>\n",
       "      <td>Ad Set 31</td>\n",
       "    </tr>\n",
       "    <tr>\n",
       "      <th>7</th>\n",
       "      <td>24.0</td>\n",
       "      <td>43112</td>\n",
       "      <td>Ad Set 4</td>\n",
       "    </tr>\n",
       "    <tr>\n",
       "      <th>8</th>\n",
       "      <td>16.0</td>\n",
       "      <td>26836</td>\n",
       "      <td>Ad Set 5</td>\n",
       "    </tr>\n",
       "    <tr>\n",
       "      <th>9</th>\n",
       "      <td>13.0</td>\n",
       "      <td>33208</td>\n",
       "      <td>Ad Set 16</td>\n",
       "    </tr>\n",
       "    <tr>\n",
       "      <th>10</th>\n",
       "      <td>11.0</td>\n",
       "      <td>25270</td>\n",
       "      <td>Ad Set 27</td>\n",
       "    </tr>\n",
       "    <tr>\n",
       "      <th>11</th>\n",
       "      <td>10.0</td>\n",
       "      <td>5896</td>\n",
       "      <td>Ad Set 12</td>\n",
       "    </tr>\n",
       "    <tr>\n",
       "      <th>12</th>\n",
       "      <td>9.0</td>\n",
       "      <td>18662</td>\n",
       "      <td>Ad Set 17</td>\n",
       "    </tr>\n",
       "    <tr>\n",
       "      <th>13</th>\n",
       "      <td>7.0</td>\n",
       "      <td>6841</td>\n",
       "      <td>Ad Set 30</td>\n",
       "    </tr>\n",
       "    <tr>\n",
       "      <th>14</th>\n",
       "      <td>7.0</td>\n",
       "      <td>10440</td>\n",
       "      <td>Ad Set 22</td>\n",
       "    </tr>\n",
       "    <tr>\n",
       "      <th>15</th>\n",
       "      <td>6.0</td>\n",
       "      <td>25560</td>\n",
       "      <td>Ad Set 32</td>\n",
       "    </tr>\n",
       "    <tr>\n",
       "      <th>16</th>\n",
       "      <td>6.0</td>\n",
       "      <td>16972</td>\n",
       "      <td>Ad Set 2</td>\n",
       "    </tr>\n",
       "    <tr>\n",
       "      <th>17</th>\n",
       "      <td>6.0</td>\n",
       "      <td>9179</td>\n",
       "      <td>Ad Set 25</td>\n",
       "    </tr>\n",
       "    <tr>\n",
       "      <th>18</th>\n",
       "      <td>5.0</td>\n",
       "      <td>9904</td>\n",
       "      <td>Ad Set 11</td>\n",
       "    </tr>\n",
       "    <tr>\n",
       "      <th>19</th>\n",
       "      <td>5.0</td>\n",
       "      <td>17332</td>\n",
       "      <td>Ad Set 36</td>\n",
       "    </tr>\n",
       "    <tr>\n",
       "      <th>20</th>\n",
       "      <td>5.0</td>\n",
       "      <td>18284</td>\n",
       "      <td>Ad Set 20</td>\n",
       "    </tr>\n",
       "    <tr>\n",
       "      <th>21</th>\n",
       "      <td>4.0</td>\n",
       "      <td>11188</td>\n",
       "      <td>Ad Set 10</td>\n",
       "    </tr>\n",
       "    <tr>\n",
       "      <th>22</th>\n",
       "      <td>4.0</td>\n",
       "      <td>9037</td>\n",
       "      <td>Ad Set 28</td>\n",
       "    </tr>\n",
       "    <tr>\n",
       "      <th>23</th>\n",
       "      <td>4.0</td>\n",
       "      <td>17689</td>\n",
       "      <td>Ad Set 19</td>\n",
       "    </tr>\n",
       "    <tr>\n",
       "      <th>24</th>\n",
       "      <td>3.0</td>\n",
       "      <td>7468</td>\n",
       "      <td>Ad Set 21</td>\n",
       "    </tr>\n",
       "    <tr>\n",
       "      <th>25</th>\n",
       "      <td>2.0</td>\n",
       "      <td>6028</td>\n",
       "      <td>Ad Set 7</td>\n",
       "    </tr>\n",
       "    <tr>\n",
       "      <th>26</th>\n",
       "      <td>2.0</td>\n",
       "      <td>6064</td>\n",
       "      <td>Ad Set 34</td>\n",
       "    </tr>\n",
       "    <tr>\n",
       "      <th>27</th>\n",
       "      <td>2.0</td>\n",
       "      <td>8514</td>\n",
       "      <td>Ad Set 23</td>\n",
       "    </tr>\n",
       "    <tr>\n",
       "      <th>28</th>\n",
       "      <td>1.0</td>\n",
       "      <td>2383</td>\n",
       "      <td>Ad Set 8</td>\n",
       "    </tr>\n",
       "    <tr>\n",
       "      <th>29</th>\n",
       "      <td>1.0</td>\n",
       "      <td>9189</td>\n",
       "      <td>Ad Set 14</td>\n",
       "    </tr>\n",
       "    <tr>\n",
       "      <th>30</th>\n",
       "      <td>0.0</td>\n",
       "      <td>26469</td>\n",
       "      <td>Ad Set 1</td>\n",
       "    </tr>\n",
       "    <tr>\n",
       "      <th>31</th>\n",
       "      <td>0.0</td>\n",
       "      <td>2302</td>\n",
       "      <td>Ad Set 35</td>\n",
       "    </tr>\n",
       "    <tr>\n",
       "      <th>32</th>\n",
       "      <td>0.0</td>\n",
       "      <td>2775</td>\n",
       "      <td>Ad Set 3</td>\n",
       "    </tr>\n",
       "    <tr>\n",
       "      <th>33</th>\n",
       "      <td>0.0</td>\n",
       "      <td>5049</td>\n",
       "      <td>Ad Set 29</td>\n",
       "    </tr>\n",
       "    <tr>\n",
       "      <th>34</th>\n",
       "      <td>0.0</td>\n",
       "      <td>406</td>\n",
       "      <td>Ad Set 15</td>\n",
       "    </tr>\n",
       "    <tr>\n",
       "      <th>35</th>\n",
       "      <td>0.0</td>\n",
       "      <td>2262</td>\n",
       "      <td>Ad Set 26</td>\n",
       "    </tr>\n",
       "  </tbody>\n",
       "</table>\n",
       "</div>"
      ],
      "text/plain": [
       "    Website Registrations Completed   reach        set\n",
       "0                             122.0  148384   Ad Set 6\n",
       "1                             110.0  105376  Ad Set 13\n",
       "2                              51.0   90877  Ad Set 24\n",
       "3                              40.0   57520   Ad Set 9\n",
       "4                              37.0   43377  Ad Set 18\n",
       "5                              30.0   48128  Ad Set 33\n",
       "6                              29.0   72834  Ad Set 31\n",
       "7                              24.0   43112   Ad Set 4\n",
       "8                              16.0   26836   Ad Set 5\n",
       "9                              13.0   33208  Ad Set 16\n",
       "10                             11.0   25270  Ad Set 27\n",
       "11                             10.0    5896  Ad Set 12\n",
       "12                              9.0   18662  Ad Set 17\n",
       "13                              7.0    6841  Ad Set 30\n",
       "14                              7.0   10440  Ad Set 22\n",
       "15                              6.0   25560  Ad Set 32\n",
       "16                              6.0   16972   Ad Set 2\n",
       "17                              6.0    9179  Ad Set 25\n",
       "18                              5.0    9904  Ad Set 11\n",
       "19                              5.0   17332  Ad Set 36\n",
       "20                              5.0   18284  Ad Set 20\n",
       "21                              4.0   11188  Ad Set 10\n",
       "22                              4.0    9037  Ad Set 28\n",
       "23                              4.0   17689  Ad Set 19\n",
       "24                              3.0    7468  Ad Set 21\n",
       "25                              2.0    6028   Ad Set 7\n",
       "26                              2.0    6064  Ad Set 34\n",
       "27                              2.0    8514  Ad Set 23\n",
       "28                              1.0    2383   Ad Set 8\n",
       "29                              1.0    9189  Ad Set 14\n",
       "30                              0.0   26469   Ad Set 1\n",
       "31                              0.0    2302  Ad Set 35\n",
       "32                              0.0    2775   Ad Set 3\n",
       "33                              0.0    5049  Ad Set 29\n",
       "34                              0.0     406  Ad Set 15\n",
       "35                              0.0    2262  Ad Set 26"
      ]
     },
     "execution_count": 355,
     "metadata": {},
     "output_type": "execute_result"
    }
   ],
   "source": [
    "register = pd.DataFrame(grouped['Website Registrations Completed'])\n",
    "\n",
    "register['reach'] = grouped.Reach\n",
    "register['set'] = grouped['Ad Set Name']\n",
    "\n",
    "register= register.sort_values(by=['Website Registrations Completed'], ascending=False )\n",
    "register = register.reset_index(drop='first')\n",
    "\n",
    "register\n",
    "\n"
   ]
  },
  {
   "cell_type": "code",
   "execution_count": null,
   "metadata": {},
   "outputs": [],
   "source": []
  },
  {
   "cell_type": "code",
   "execution_count": null,
   "metadata": {},
   "outputs": [],
   "source": [
    "from sklearn.linear_model import LogisticRegression\n",
    "from sklearn.linear_model import LinearRegression\n",
    "\n",
    "# Create linear regression model\n",
    "lin_reg = LinearRegression()\n",
    "lin_reg.fit(age, income_bin)\n",
    "# Store the coefficients\n",
    "coef = lin_reg.coef_\n",
    "interc = lin_reg.intercept_\n",
    "# Create the line\n",
    "lin_income = (interc + age * coef)"
   ]
  },
  {
   "cell_type": "code",
   "execution_count": null,
   "metadata": {},
   "outputs": [],
   "source": []
  },
  {
   "cell_type": "code",
   "execution_count": null,
   "metadata": {},
   "outputs": [],
   "source": []
  },
  {
   "cell_type": "code",
   "execution_count": null,
   "metadata": {},
   "outputs": [],
   "source": []
  }
 ],
 "metadata": {
  "kernelspec": {
   "display_name": "Python 3",
   "language": "python",
   "name": "python3"
  },
  "language_info": {
   "codemirror_mode": {
    "name": "ipython",
    "version": 3
   },
   "file_extension": ".py",
   "mimetype": "text/x-python",
   "name": "python",
   "nbconvert_exporter": "python",
   "pygments_lexer": "ipython3",
   "version": "3.7.0"
  }
 },
 "nbformat": 4,
 "nbformat_minor": 4
}
