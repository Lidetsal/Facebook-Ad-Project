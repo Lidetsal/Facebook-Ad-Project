{
 "cells": [
  {
   "cell_type": "markdown",
   "metadata": {},
   "source": [
    "● Each ad set is targeting a unique (anonymous) audience. Within each ad set are groups\n",
    "of ads that get distributed on a cost-per-impression basis.\n",
    "\n",
    "\n",
    "● Reach: how many unique people were reached (not to be confused with impressions)\n",
    "\n",
    "\n",
    "● Frequency: how many times, on average, someone within the ad set audience was\n",
    "reached during the duration of the campaign\n",
    "\n",
    "\n",
    "● Amount Spend: dollars spent during duration of campaign\n",
    "\n",
    "\n",
    "● Impressions: number of times the ad appeared in front of someone\n",
    "\n",
    "\n",
    "● CTR (click-through rate): number of link clicks divided by number of ad impressions (not\n",
    "reach)\n",
    "\n",
    "\n",
    "● Post Shares: how many times users shared the ad to their friends\n",
    "\n",
    "\n",
    "● Post Comments: how many times users wrote something in the ad’s comments section\n",
    "\n",
    "\n",
    "● Post Reactions: how many times users “liked” or “disliked” the ad\n",
    "\n",
    "\n",
    "● Website Leads: number of people who started to sign-up with Arcadia but did not\n",
    "complete the registration process"
   ]
  },
  {
   "cell_type": "markdown",
   "metadata": {},
   "source": [
    "# IMPORTS"
   ]
  },
  {
   "cell_type": "code",
   "execution_count": 64,
   "metadata": {},
   "outputs": [],
   "source": [
    "import pandas as pd\n",
    "import numpy as np\n",
    "import seaborn as sns\n",
    "import matplotlib.pyplot as plt\n",
    "\n",
    "\n",
    "from sklearn.linear_model import LinearRegression\n",
    "from sklearn.preprocessing import MinMaxScaler\n",
    "from sklearn.linear_model import Lasso, Ridge, LinearRegression\n",
    "from sklearn.model_selection import train_test_split\n"
   ]
  },
  {
   "cell_type": "code",
   "execution_count": 82,
   "metadata": {},
   "outputs": [
    {
     "data": {
      "text/html": [
       "<div>\n",
       "<style scoped>\n",
       "    .dataframe tbody tr th:only-of-type {\n",
       "        vertical-align: middle;\n",
       "    }\n",
       "\n",
       "    .dataframe tbody tr th {\n",
       "        vertical-align: top;\n",
       "    }\n",
       "\n",
       "    .dataframe thead th {\n",
       "        text-align: right;\n",
       "    }\n",
       "</style>\n",
       "<table border=\"1\" class=\"dataframe\">\n",
       "  <thead>\n",
       "    <tr style=\"text-align: right;\">\n",
       "      <th></th>\n",
       "      <th>Ad Set Name</th>\n",
       "      <th>Age</th>\n",
       "      <th>Gender</th>\n",
       "      <th>Reach</th>\n",
       "      <th>Frequency</th>\n",
       "      <th>Amount Spent (USD)</th>\n",
       "      <th>Impressions</th>\n",
       "      <th>CPM (Cost per 1,000 Impressions) (USD)</th>\n",
       "      <th>Link Clicks</th>\n",
       "      <th>CPC (Cost per Link Click) (USD)</th>\n",
       "      <th>CTR (Link Click-Through Rate)</th>\n",
       "      <th>Cost per 1,000 People Reached (USD)</th>\n",
       "      <th>Website Registrations Completed</th>\n",
       "      <th>Website Leads</th>\n",
       "      <th>Post Shares</th>\n",
       "      <th>Post Comments</th>\n",
       "      <th>Post Reactions</th>\n",
       "      <th>Cost per Website Registration Completed (USD)</th>\n",
       "      <th>Cost per Website Lead (USD)</th>\n",
       "    </tr>\n",
       "  </thead>\n",
       "  <tbody>\n",
       "    <tr>\n",
       "      <th>0</th>\n",
       "      <td>1</td>\n",
       "      <td>35-44</td>\n",
       "      <td>unknown</td>\n",
       "      <td>152</td>\n",
       "      <td>1.421053</td>\n",
       "      <td>3.12</td>\n",
       "      <td>216</td>\n",
       "      <td>14.444444</td>\n",
       "      <td>NaN</td>\n",
       "      <td>NaN</td>\n",
       "      <td>NaN</td>\n",
       "      <td>20.526316</td>\n",
       "      <td>NaN</td>\n",
       "      <td>NaN</td>\n",
       "      <td>1.0</td>\n",
       "      <td>NaN</td>\n",
       "      <td>5.0</td>\n",
       "      <td>NaN</td>\n",
       "      <td>NaN</td>\n",
       "    </tr>\n",
       "    <tr>\n",
       "      <th>1</th>\n",
       "      <td>1</td>\n",
       "      <td>35-44</td>\n",
       "      <td>female</td>\n",
       "      <td>6777</td>\n",
       "      <td>1.091486</td>\n",
       "      <td>101.53</td>\n",
       "      <td>7397</td>\n",
       "      <td>13.725835</td>\n",
       "      <td>21.0</td>\n",
       "      <td>4.834762</td>\n",
       "      <td>0.283899</td>\n",
       "      <td>14.981555</td>\n",
       "      <td>NaN</td>\n",
       "      <td>NaN</td>\n",
       "      <td>30.0</td>\n",
       "      <td>8.0</td>\n",
       "      <td>258.0</td>\n",
       "      <td>NaN</td>\n",
       "      <td>NaN</td>\n",
       "    </tr>\n",
       "    <tr>\n",
       "      <th>2</th>\n",
       "      <td>1</td>\n",
       "      <td>35-44</td>\n",
       "      <td>male</td>\n",
       "      <td>6041</td>\n",
       "      <td>1.191359</td>\n",
       "      <td>70.83</td>\n",
       "      <td>7197</td>\n",
       "      <td>9.841601</td>\n",
       "      <td>21.0</td>\n",
       "      <td>3.372857</td>\n",
       "      <td>0.291788</td>\n",
       "      <td>11.724880</td>\n",
       "      <td>NaN</td>\n",
       "      <td>5.0</td>\n",
       "      <td>50.0</td>\n",
       "      <td>18.0</td>\n",
       "      <td>283.0</td>\n",
       "      <td>NaN</td>\n",
       "      <td>14.166</td>\n",
       "    </tr>\n",
       "    <tr>\n",
       "      <th>3</th>\n",
       "      <td>1</td>\n",
       "      <td>25-34</td>\n",
       "      <td>unknown</td>\n",
       "      <td>314</td>\n",
       "      <td>1.000000</td>\n",
       "      <td>3.34</td>\n",
       "      <td>314</td>\n",
       "      <td>10.636943</td>\n",
       "      <td>1.0</td>\n",
       "      <td>3.340000</td>\n",
       "      <td>0.318471</td>\n",
       "      <td>10.636943</td>\n",
       "      <td>NaN</td>\n",
       "      <td>NaN</td>\n",
       "      <td>2.0</td>\n",
       "      <td>2.0</td>\n",
       "      <td>9.0</td>\n",
       "      <td>NaN</td>\n",
       "      <td>NaN</td>\n",
       "    </tr>\n",
       "    <tr>\n",
       "      <th>4</th>\n",
       "      <td>1</td>\n",
       "      <td>25-34</td>\n",
       "      <td>male</td>\n",
       "      <td>7184</td>\n",
       "      <td>1.092567</td>\n",
       "      <td>63.25</td>\n",
       "      <td>7849</td>\n",
       "      <td>8.058351</td>\n",
       "      <td>20.0</td>\n",
       "      <td>3.162500</td>\n",
       "      <td>0.254810</td>\n",
       "      <td>8.804287</td>\n",
       "      <td>NaN</td>\n",
       "      <td>2.0</td>\n",
       "      <td>36.0</td>\n",
       "      <td>28.0</td>\n",
       "      <td>218.0</td>\n",
       "      <td>NaN</td>\n",
       "      <td>31.625</td>\n",
       "    </tr>\n",
       "  </tbody>\n",
       "</table>\n",
       "</div>"
      ],
      "text/plain": [
       "   Ad Set Name    Age   Gender  Reach  Frequency  Amount Spent (USD)  \\\n",
       "0            1  35-44  unknown    152   1.421053                3.12   \n",
       "1            1  35-44   female   6777   1.091486              101.53   \n",
       "2            1  35-44     male   6041   1.191359               70.83   \n",
       "3            1  25-34  unknown    314   1.000000                3.34   \n",
       "4            1  25-34     male   7184   1.092567               63.25   \n",
       "\n",
       "   Impressions  CPM (Cost per 1,000 Impressions) (USD)  Link Clicks  \\\n",
       "0          216                               14.444444          NaN   \n",
       "1         7397                               13.725835         21.0   \n",
       "2         7197                                9.841601         21.0   \n",
       "3          314                               10.636943          1.0   \n",
       "4         7849                                8.058351         20.0   \n",
       "\n",
       "   CPC (Cost per Link Click) (USD)  CTR (Link Click-Through Rate)  \\\n",
       "0                              NaN                            NaN   \n",
       "1                         4.834762                       0.283899   \n",
       "2                         3.372857                       0.291788   \n",
       "3                         3.340000                       0.318471   \n",
       "4                         3.162500                       0.254810   \n",
       "\n",
       "   Cost per 1,000 People Reached (USD)  Website Registrations Completed  \\\n",
       "0                            20.526316                              NaN   \n",
       "1                            14.981555                              NaN   \n",
       "2                            11.724880                              NaN   \n",
       "3                            10.636943                              NaN   \n",
       "4                             8.804287                              NaN   \n",
       "\n",
       "   Website Leads  Post Shares  Post Comments  Post Reactions  \\\n",
       "0            NaN          1.0            NaN             5.0   \n",
       "1            NaN         30.0            8.0           258.0   \n",
       "2            5.0         50.0           18.0           283.0   \n",
       "3            NaN          2.0            2.0             9.0   \n",
       "4            2.0         36.0           28.0           218.0   \n",
       "\n",
       "   Cost per Website Registration Completed (USD)  Cost per Website Lead (USD)  \n",
       "0                                            NaN                          NaN  \n",
       "1                                            NaN                          NaN  \n",
       "2                                            NaN                       14.166  \n",
       "3                                            NaN                          NaN  \n",
       "4                                            NaN                       31.625  "
      ]
     },
     "execution_count": 82,
     "metadata": {},
     "output_type": "execute_result"
    }
   ],
   "source": [
    "#import data and clean ad set column\n",
    "#change the type of the ad set column from strings to integers.\n",
    "\n",
    "fb_df = pd.read_csv('Analytics___Data_Science_Summer_Associate_Exercise_Data.csv')\n",
    "fb_df['Ad Set Name'] = fb_df['Ad Set Name'].str.replace('Ad Set', '')\n",
    "fb_df['Ad Set Name'] = fb_df['Ad Set Name'].astype(int)\n",
    "\n",
    "# print(fb_df.shape)\n",
    "# print(fb_df.isna().sum())\n",
    "\n",
    "fb_df.head()"
   ]
  },
  {
   "cell_type": "code",
   "execution_count": 84,
   "metadata": {},
   "outputs": [
    {
     "data": {
      "text/plain": [
       "(259, 19)"
      ]
     },
     "execution_count": 84,
     "metadata": {},
     "output_type": "execute_result"
    }
   ],
   "source": [
    "fb_df.shape"
   ]
  },
  {
   "cell_type": "code",
   "execution_count": 66,
   "metadata": {},
   "outputs": [],
   "source": [
    "# fb_df['Website Registrations Completed']=fb_df['Website Registrations Completed'].dropna()"
   ]
  },
  {
   "cell_type": "code",
   "execution_count": 67,
   "metadata": {},
   "outputs": [],
   "source": [
    "# fb_df['Website Registrations Completed'].isna().sum()"
   ]
  },
  {
   "cell_type": "code",
   "execution_count": 68,
   "metadata": {},
   "outputs": [],
   "source": [
    "# fb_df.Gender.value_counts(normalize=True)"
   ]
  },
  {
   "cell_type": "code",
   "execution_count": 89,
   "metadata": {},
   "outputs": [
    {
     "data": {
      "image/png": "[encoded data removed]",
      "text/plain": [
       "<Figure size 576x360 with 1 Axes>"
      ]
     },
     "metadata": {
      "needs_background": "light"
     },
     "output_type": "display_data"
    }
   ],
   "source": [
    "plt.figure(figsize=(8,5))\n",
    "sns.barplot(fb_df.Age, fb_df['Website Registrations Completed'])\n",
    "plt.ylabel('New Customers', fontsize=14)\n",
    "plt.xlabel('Age Group', fontsize=14)\n",
    "\n",
    "plt.show()"
   ]
  },
  {
   "cell_type": "code",
   "execution_count": 70,
   "metadata": {},
   "outputs": [],
   "source": [
    "# fb_df['Ad Set Name'].value_counts()"
   ]
  },
  {
   "cell_type": "code",
   "execution_count": 71,
   "metadata": {},
   "outputs": [],
   "source": [
    "# fb_df['Amount Spent (USD)'].sum()"
   ]
  },
  {
   "cell_type": "markdown",
   "metadata": {},
   "source": [
    "# Grouped by Ad set name"
   ]
  },
  {
   "cell_type": "code",
   "execution_count": 72,
   "metadata": {},
   "outputs": [
    {
     "data": {
      "text/html": [
       "<div>\n",
       "<style scoped>\n",
       "    .dataframe tbody tr th:only-of-type {\n",
       "        vertical-align: middle;\n",
       "    }\n",
       "\n",
       "    .dataframe tbody tr th {\n",
       "        vertical-align: top;\n",
       "    }\n",
       "\n",
       "    .dataframe thead th {\n",
       "        text-align: right;\n",
       "    }\n",
       "</style>\n",
       "<table border=\"1\" class=\"dataframe\">\n",
       "  <thead>\n",
       "    <tr style=\"text-align: right;\">\n",
       "      <th></th>\n",
       "      <th>Ad Set Name</th>\n",
       "      <th>Reach</th>\n",
       "      <th>Frequency</th>\n",
       "      <th>Amount Spent (USD)</th>\n",
       "      <th>Impressions</th>\n",
       "      <th>CPM (Cost per 1,000 Impressions) (USD)</th>\n",
       "      <th>Link Clicks</th>\n",
       "      <th>CPC (Cost per Link Click) (USD)</th>\n",
       "      <th>CTR (Link Click-Through Rate)</th>\n",
       "      <th>Cost per 1,000 People Reached (USD)</th>\n",
       "      <th>Website Registrations Completed</th>\n",
       "      <th>Website Leads</th>\n",
       "      <th>Post Shares</th>\n",
       "      <th>Post Comments</th>\n",
       "      <th>Post Reactions</th>\n",
       "      <th>Cost per Website Registration Completed (USD)</th>\n",
       "      <th>Cost per Website Lead (USD)</th>\n",
       "    </tr>\n",
       "  </thead>\n",
       "  <tbody>\n",
       "    <tr>\n",
       "      <th>0</th>\n",
       "      <td>1</td>\n",
       "      <td>26469</td>\n",
       "      <td>6.922444</td>\n",
       "      <td>319.02</td>\n",
       "      <td>29730</td>\n",
       "      <td>68.095364</td>\n",
       "      <td>86.0</td>\n",
       "      <td>18.055771</td>\n",
       "      <td>1.489356</td>\n",
       "      <td>79.496844</td>\n",
       "      <td>0.0</td>\n",
       "      <td>10.0</td>\n",
       "      <td>146.0</td>\n",
       "      <td>60.0</td>\n",
       "      <td>991.0</td>\n",
       "      <td>0.000000</td>\n",
       "      <td>71.441000</td>\n",
       "    </tr>\n",
       "    <tr>\n",
       "      <th>1</th>\n",
       "      <td>2</td>\n",
       "      <td>16972</td>\n",
       "      <td>7.381687</td>\n",
       "      <td>477.69</td>\n",
       "      <td>20831</td>\n",
       "      <td>134.414313</td>\n",
       "      <td>156.0</td>\n",
       "      <td>12.532648</td>\n",
       "      <td>3.019334</td>\n",
       "      <td>164.796389</td>\n",
       "      <td>6.0</td>\n",
       "      <td>21.0</td>\n",
       "      <td>27.0</td>\n",
       "      <td>5.0</td>\n",
       "      <td>89.0</td>\n",
       "      <td>378.430000</td>\n",
       "      <td>115.307667</td>\n",
       "    </tr>\n",
       "    <tr>\n",
       "      <th>2</th>\n",
       "      <td>3</td>\n",
       "      <td>2775</td>\n",
       "      <td>6.027281</td>\n",
       "      <td>90.59</td>\n",
       "      <td>2795</td>\n",
       "      <td>183.976233</td>\n",
       "      <td>16.0</td>\n",
       "      <td>35.224722</td>\n",
       "      <td>2.053368</td>\n",
       "      <td>184.820614</td>\n",
       "      <td>0.0</td>\n",
       "      <td>2.0</td>\n",
       "      <td>6.0</td>\n",
       "      <td>2.0</td>\n",
       "      <td>2.0</td>\n",
       "      <td>0.000000</td>\n",
       "      <td>14.155000</td>\n",
       "    </tr>\n",
       "    <tr>\n",
       "      <th>3</th>\n",
       "      <td>4</td>\n",
       "      <td>43112</td>\n",
       "      <td>7.830940</td>\n",
       "      <td>1312.77</td>\n",
       "      <td>55490</td>\n",
       "      <td>185.855756</td>\n",
       "      <td>448.0</td>\n",
       "      <td>20.419163</td>\n",
       "      <td>4.318319</td>\n",
       "      <td>176.825278</td>\n",
       "      <td>24.0</td>\n",
       "      <td>77.0</td>\n",
       "      <td>58.0</td>\n",
       "      <td>10.0</td>\n",
       "      <td>156.0</td>\n",
       "      <td>253.449166</td>\n",
       "      <td>76.818298</td>\n",
       "    </tr>\n",
       "    <tr>\n",
       "      <th>4</th>\n",
       "      <td>5</td>\n",
       "      <td>26836</td>\n",
       "      <td>7.865254</td>\n",
       "      <td>670.06</td>\n",
       "      <td>30412</td>\n",
       "      <td>146.089718</td>\n",
       "      <td>153.0</td>\n",
       "      <td>25.671691</td>\n",
       "      <td>2.288864</td>\n",
       "      <td>165.102329</td>\n",
       "      <td>16.0</td>\n",
       "      <td>43.0</td>\n",
       "      <td>72.0</td>\n",
       "      <td>28.0</td>\n",
       "      <td>553.0</td>\n",
       "      <td>151.819167</td>\n",
       "      <td>77.232823</td>\n",
       "    </tr>\n",
       "  </tbody>\n",
       "</table>\n",
       "</div>"
      ],
      "text/plain": [
       "   Ad Set Name  Reach  Frequency  Amount Spent (USD)  Impressions  \\\n",
       "0            1  26469   6.922444              319.02        29730   \n",
       "1            2  16972   7.381687              477.69        20831   \n",
       "2            3   2775   6.027281               90.59         2795   \n",
       "3            4  43112   7.830940             1312.77        55490   \n",
       "4            5  26836   7.865254              670.06        30412   \n",
       "\n",
       "   CPM (Cost per 1,000 Impressions) (USD)  Link Clicks  \\\n",
       "0                               68.095364         86.0   \n",
       "1                              134.414313        156.0   \n",
       "2                              183.976233         16.0   \n",
       "3                              185.855756        448.0   \n",
       "4                              146.089718        153.0   \n",
       "\n",
       "   CPC (Cost per Link Click) (USD)  CTR (Link Click-Through Rate)  \\\n",
       "0                        18.055771                       1.489356   \n",
       "1                        12.532648                       3.019334   \n",
       "2                        35.224722                       2.053368   \n",
       "3                        20.419163                       4.318319   \n",
       "4                        25.671691                       2.288864   \n",
       "\n",
       "   Cost per 1,000 People Reached (USD)  Website Registrations Completed  \\\n",
       "0                            79.496844                              0.0   \n",
       "1                           164.796389                              6.0   \n",
       "2                           184.820614                              0.0   \n",
       "3                           176.825278                             24.0   \n",
       "4                           165.102329                             16.0   \n",
       "\n",
       "   Website Leads  Post Shares  Post Comments  Post Reactions  \\\n",
       "0           10.0        146.0           60.0           991.0   \n",
       "1           21.0         27.0            5.0            89.0   \n",
       "2            2.0          6.0            2.0             2.0   \n",
       "3           77.0         58.0           10.0           156.0   \n",
       "4           43.0         72.0           28.0           553.0   \n",
       "\n",
       "   Cost per Website Registration Completed (USD)  Cost per Website Lead (USD)  \n",
       "0                                       0.000000                    71.441000  \n",
       "1                                     378.430000                   115.307667  \n",
       "2                                       0.000000                    14.155000  \n",
       "3                                     253.449166                    76.818298  \n",
       "4                                     151.819167                    77.232823  "
      ]
     },
     "execution_count": 72,
     "metadata": {},
     "output_type": "execute_result"
    }
   ],
   "source": [
    "grouped = fb_df.groupby('Ad Set Name')\n",
    "\n",
    "grouped = pd.DataFrame(grouped.sum())\n",
    "\n",
    "\n",
    "# grouped = grouped.sort_values('Ad Set Name', ascending=True)\n",
    "# grouped['Cost per Registration'] = grouped['Amount Spent (USD)']/grouped['Website Registrations Completed']\n",
    "\n",
    "grouped = grouped.reset_index()\n",
    "\n",
    "grouped.head()"
   ]
  },
  {
   "cell_type": "code",
   "execution_count": null,
   "metadata": {},
   "outputs": [],
   "source": []
  },
  {
   "cell_type": "code",
   "execution_count": 73,
   "metadata": {},
   "outputs": [
    {
     "data": {
      "text/html": [
       "<div>\n",
       "<style scoped>\n",
       "    .dataframe tbody tr th:only-of-type {\n",
       "        vertical-align: middle;\n",
       "    }\n",
       "\n",
       "    .dataframe tbody tr th {\n",
       "        vertical-align: top;\n",
       "    }\n",
       "\n",
       "    .dataframe thead th {\n",
       "        text-align: right;\n",
       "    }\n",
       "</style>\n",
       "<table border=\"1\" class=\"dataframe\">\n",
       "  <thead>\n",
       "    <tr style=\"text-align: right;\">\n",
       "      <th></th>\n",
       "      <th>Ad Set Name</th>\n",
       "      <th>Reach</th>\n",
       "      <th>Frequency</th>\n",
       "      <th>Amount Spent (USD)</th>\n",
       "      <th>Impressions</th>\n",
       "      <th>CPM (Cost per 1,000 Impressions) (USD)</th>\n",
       "      <th>Link Clicks</th>\n",
       "      <th>CPC (Cost per Link Click) (USD)</th>\n",
       "      <th>CTR (Link Click-Through Rate)</th>\n",
       "      <th>Cost per 1,000 People Reached (USD)</th>\n",
       "      <th>Website Registrations Completed</th>\n",
       "      <th>Website Leads</th>\n",
       "      <th>Post Shares</th>\n",
       "      <th>Post Comments</th>\n",
       "      <th>Post Reactions</th>\n",
       "      <th>Cost per Website Registration Completed (USD)</th>\n",
       "      <th>Cost per Website Lead (USD)</th>\n",
       "      <th>target</th>\n",
       "    </tr>\n",
       "  </thead>\n",
       "  <tbody>\n",
       "    <tr>\n",
       "      <th>0</th>\n",
       "      <td>1</td>\n",
       "      <td>26469</td>\n",
       "      <td>6.922444</td>\n",
       "      <td>319.02</td>\n",
       "      <td>29730</td>\n",
       "      <td>68.095364</td>\n",
       "      <td>86.0</td>\n",
       "      <td>18.055771</td>\n",
       "      <td>1.489356</td>\n",
       "      <td>79.496844</td>\n",
       "      <td>0.0</td>\n",
       "      <td>10.0</td>\n",
       "      <td>146.0</td>\n",
       "      <td>60.0</td>\n",
       "      <td>991.0</td>\n",
       "      <td>0.000000</td>\n",
       "      <td>71.441000</td>\n",
       "      <td>NaN</td>\n",
       "    </tr>\n",
       "    <tr>\n",
       "      <th>1</th>\n",
       "      <td>2</td>\n",
       "      <td>16972</td>\n",
       "      <td>7.381687</td>\n",
       "      <td>477.69</td>\n",
       "      <td>20831</td>\n",
       "      <td>134.414313</td>\n",
       "      <td>156.0</td>\n",
       "      <td>12.532648</td>\n",
       "      <td>3.019334</td>\n",
       "      <td>164.796389</td>\n",
       "      <td>6.0</td>\n",
       "      <td>21.0</td>\n",
       "      <td>27.0</td>\n",
       "      <td>5.0</td>\n",
       "      <td>89.0</td>\n",
       "      <td>378.430000</td>\n",
       "      <td>115.307667</td>\n",
       "      <td>63.071667</td>\n",
       "    </tr>\n",
       "    <tr>\n",
       "      <th>2</th>\n",
       "      <td>3</td>\n",
       "      <td>2775</td>\n",
       "      <td>6.027281</td>\n",
       "      <td>90.59</td>\n",
       "      <td>2795</td>\n",
       "      <td>183.976233</td>\n",
       "      <td>16.0</td>\n",
       "      <td>35.224722</td>\n",
       "      <td>2.053368</td>\n",
       "      <td>184.820614</td>\n",
       "      <td>0.0</td>\n",
       "      <td>2.0</td>\n",
       "      <td>6.0</td>\n",
       "      <td>2.0</td>\n",
       "      <td>2.0</td>\n",
       "      <td>0.000000</td>\n",
       "      <td>14.155000</td>\n",
       "      <td>NaN</td>\n",
       "    </tr>\n",
       "    <tr>\n",
       "      <th>3</th>\n",
       "      <td>4</td>\n",
       "      <td>43112</td>\n",
       "      <td>7.830940</td>\n",
       "      <td>1312.77</td>\n",
       "      <td>55490</td>\n",
       "      <td>185.855756</td>\n",
       "      <td>448.0</td>\n",
       "      <td>20.419163</td>\n",
       "      <td>4.318319</td>\n",
       "      <td>176.825278</td>\n",
       "      <td>24.0</td>\n",
       "      <td>77.0</td>\n",
       "      <td>58.0</td>\n",
       "      <td>10.0</td>\n",
       "      <td>156.0</td>\n",
       "      <td>253.449166</td>\n",
       "      <td>76.818298</td>\n",
       "      <td>10.560382</td>\n",
       "    </tr>\n",
       "    <tr>\n",
       "      <th>4</th>\n",
       "      <td>5</td>\n",
       "      <td>26836</td>\n",
       "      <td>7.865254</td>\n",
       "      <td>670.06</td>\n",
       "      <td>30412</td>\n",
       "      <td>146.089718</td>\n",
       "      <td>153.0</td>\n",
       "      <td>25.671691</td>\n",
       "      <td>2.288864</td>\n",
       "      <td>165.102329</td>\n",
       "      <td>16.0</td>\n",
       "      <td>43.0</td>\n",
       "      <td>72.0</td>\n",
       "      <td>28.0</td>\n",
       "      <td>553.0</td>\n",
       "      <td>151.819167</td>\n",
       "      <td>77.232823</td>\n",
       "      <td>9.488698</td>\n",
       "    </tr>\n",
       "  </tbody>\n",
       "</table>\n",
       "</div>"
      ],
      "text/plain": [
       "   Ad Set Name  Reach  Frequency  Amount Spent (USD)  Impressions  \\\n",
       "0            1  26469   6.922444              319.02        29730   \n",
       "1            2  16972   7.381687              477.69        20831   \n",
       "2            3   2775   6.027281               90.59         2795   \n",
       "3            4  43112   7.830940             1312.77        55490   \n",
       "4            5  26836   7.865254              670.06        30412   \n",
       "\n",
       "   CPM (Cost per 1,000 Impressions) (USD)  Link Clicks  \\\n",
       "0                               68.095364         86.0   \n",
       "1                              134.414313        156.0   \n",
       "2                              183.976233         16.0   \n",
       "3                              185.855756        448.0   \n",
       "4                              146.089718        153.0   \n",
       "\n",
       "   CPC (Cost per Link Click) (USD)  CTR (Link Click-Through Rate)  \\\n",
       "0                        18.055771                       1.489356   \n",
       "1                        12.532648                       3.019334   \n",
       "2                        35.224722                       2.053368   \n",
       "3                        20.419163                       4.318319   \n",
       "4                        25.671691                       2.288864   \n",
       "\n",
       "   Cost per 1,000 People Reached (USD)  Website Registrations Completed  \\\n",
       "0                            79.496844                              0.0   \n",
       "1                           164.796389                              6.0   \n",
       "2                           184.820614                              0.0   \n",
       "3                           176.825278                             24.0   \n",
       "4                           165.102329                             16.0   \n",
       "\n",
       "   Website Leads  Post Shares  Post Comments  Post Reactions  \\\n",
       "0           10.0        146.0           60.0           991.0   \n",
       "1           21.0         27.0            5.0            89.0   \n",
       "2            2.0          6.0            2.0             2.0   \n",
       "3           77.0         58.0           10.0           156.0   \n",
       "4           43.0         72.0           28.0           553.0   \n",
       "\n",
       "   Cost per Website Registration Completed (USD)  Cost per Website Lead (USD)  \\\n",
       "0                                       0.000000                    71.441000   \n",
       "1                                     378.430000                   115.307667   \n",
       "2                                       0.000000                    14.155000   \n",
       "3                                     253.449166                    76.818298   \n",
       "4                                     151.819167                    77.232823   \n",
       "\n",
       "      target  \n",
       "0        NaN  \n",
       "1  63.071667  \n",
       "2        NaN  \n",
       "3  10.560382  \n",
       "4   9.488698  "
      ]
     },
     "execution_count": 73,
     "metadata": {},
     "output_type": "execute_result"
    }
   ],
   "source": [
    "grouped['target'] = grouped['Cost per Website Registration Completed (USD)']/grouped['Website Registrations Completed']\n",
    "\n",
    "    \n",
    "grouped.head()"
   ]
  },
  {
   "cell_type": "code",
   "execution_count": 76,
   "metadata": {},
   "outputs": [
    {
     "name": "stdout",
     "output_type": "stream",
     "text": [
      "Stored 'grouped' (DataFrame)\n"
     ]
    }
   ],
   "source": [
    "%store grouped"
   ]
  },
  {
   "cell_type": "code",
   "execution_count": 75,
   "metadata": {},
   "outputs": [
    {
     "data": {
      "text/plain": [
       "<matplotlib.axes._subplots.AxesSubplot at 0x12b29b710>"
      ]
     },
     "execution_count": 75,
     "metadata": {},
     "output_type": "execute_result"
    },
    {
     "data": {
      "image/png": "[encoded data removed]",
      "text/plain": [
       "<Figure size 432x288 with 1 Axes>"
      ]
     },
     "metadata": {
      "needs_background": "light"
     },
     "output_type": "display_data"
    }
   ],
   "source": [
    "sns.distplot(grouped['target'])"
   ]
  },
  {
   "cell_type": "code",
   "execution_count": 57,
   "metadata": {},
   "outputs": [
    {
     "data": {
      "image/png": "[encoded data removed]",
      "text/plain": [
       "<Figure size 864x432 with 1 Axes>"
      ]
     },
     "metadata": {
      "needs_background": "light"
     },
     "output_type": "display_data"
    }
   ],
   "source": [
    "plt.figure(figsize=(12,6))\n",
    "sns.barplot(grouped['Ad Set Name'], grouped['Amount Spent (USD)'].sort_values(ascending=False), color='lightcoral')\n",
    "# plt.title('Amount spent by Ad set')\n",
    "plt.ylabel('Amount Spent (USD)', fontsize=14)\n",
    "plt.xlabel('Ad Set Name', fontsize=14)\n",
    "\n",
    "plt.show()"
   ]
  },
  {
   "cell_type": "code",
   "execution_count": 1209,
   "metadata": {},
   "outputs": [
    {
     "name": "stdout",
     "output_type": "stream",
     "text": [
      "Stored 'grouped' (DataFrame)\n"
     ]
    }
   ],
   "source": [
    "%store grouped\n"
   ]
  },
  {
   "cell_type": "code",
   "execution_count": 1211,
   "metadata": {},
   "outputs": [],
   "source": [
    "#comment - 6, 1, 49\n",
    "#shares 6, 1, 31\n",
    "#reactions 1, 5, 24\n",
    "#leads = 13,6,33"
   ]
  },
  {
   "cell_type": "code",
   "execution_count": 1213,
   "metadata": {},
   "outputs": [
    {
     "data": {
      "text/plain": [
       "30071.42"
      ]
     },
     "execution_count": 1213,
     "metadata": {},
     "output_type": "execute_result"
    }
   ],
   "source": [
    "#Total Amount Spent\n",
    "\n",
    "grouped['Amount Spent (USD)'].sum()"
   ]
  },
  {
   "cell_type": "code",
   "execution_count": 1214,
   "metadata": {},
   "outputs": [
    {
     "data": {
      "text/html": [
       "<div>\n",
       "<style scoped>\n",
       "    .dataframe tbody tr th:only-of-type {\n",
       "        vertical-align: middle;\n",
       "    }\n",
       "\n",
       "    .dataframe tbody tr th {\n",
       "        vertical-align: top;\n",
       "    }\n",
       "\n",
       "    .dataframe thead th {\n",
       "        text-align: right;\n",
       "    }\n",
       "</style>\n",
       "<table border=\"1\" class=\"dataframe\">\n",
       "  <thead>\n",
       "    <tr style=\"text-align: right;\">\n",
       "      <th></th>\n",
       "      <th>Ad Set Name</th>\n",
       "      <th>Reach</th>\n",
       "      <th>Frequency</th>\n",
       "      <th>Amount Spent (USD)</th>\n",
       "      <th>Impressions</th>\n",
       "      <th>CPM (Cost per 1,000 Impressions) (USD)</th>\n",
       "      <th>Link Clicks</th>\n",
       "      <th>CPC (Cost per Link Click) (USD)</th>\n",
       "      <th>CTR (Link Click-Through Rate)</th>\n",
       "      <th>Cost per 1,000 People Reached (USD)</th>\n",
       "      <th>Website Registrations Completed</th>\n",
       "      <th>Website Leads</th>\n",
       "      <th>Post Shares</th>\n",
       "      <th>Post Comments</th>\n",
       "      <th>Post Reactions</th>\n",
       "      <th>Cost per Website Registration Completed (USD)</th>\n",
       "      <th>Cost per Website Lead (USD)</th>\n",
       "    </tr>\n",
       "  </thead>\n",
       "  <tbody>\n",
       "    <tr>\n",
       "      <th>0</th>\n",
       "      <td>36</td>\n",
       "      <td>17332</td>\n",
       "      <td>6.666229</td>\n",
       "      <td>554.19</td>\n",
       "      <td>18765</td>\n",
       "      <td>185.413652</td>\n",
       "      <td>165.0</td>\n",
       "      <td>25.195491</td>\n",
       "      <td>4.855476</td>\n",
       "      <td>205.633124</td>\n",
       "      <td>5.0</td>\n",
       "      <td>20.0</td>\n",
       "      <td>5.0</td>\n",
       "      <td>3.0</td>\n",
       "      <td>32.0</td>\n",
       "      <td>326.446667</td>\n",
       "      <td>137.132</td>\n",
       "    </tr>\n",
       "    <tr>\n",
       "      <th>1</th>\n",
       "      <td>35</td>\n",
       "      <td>2302</td>\n",
       "      <td>6.069965</td>\n",
       "      <td>87.48</td>\n",
       "      <td>2332</td>\n",
       "      <td>227.541597</td>\n",
       "      <td>9.0</td>\n",
       "      <td>49.965000</td>\n",
       "      <td>5.879032</td>\n",
       "      <td>230.373955</td>\n",
       "      <td>0.0</td>\n",
       "      <td>1.0</td>\n",
       "      <td>1.0</td>\n",
       "      <td>0.0</td>\n",
       "      <td>3.0</td>\n",
       "      <td>0.000000</td>\n",
       "      <td>13.250</td>\n",
       "    </tr>\n",
       "  </tbody>\n",
       "</table>\n",
       "</div>"
      ],
      "text/plain": [
       "   Ad Set Name  Reach  Frequency  Amount Spent (USD)  Impressions  \\\n",
       "0           36  17332   6.666229              554.19        18765   \n",
       "1           35   2302   6.069965               87.48         2332   \n",
       "\n",
       "   CPM (Cost per 1,000 Impressions) (USD)  Link Clicks  \\\n",
       "0                              185.413652        165.0   \n",
       "1                              227.541597          9.0   \n",
       "\n",
       "   CPC (Cost per Link Click) (USD)  CTR (Link Click-Through Rate)  \\\n",
       "0                        25.195491                       4.855476   \n",
       "1                        49.965000                       5.879032   \n",
       "\n",
       "   Cost per 1,000 People Reached (USD)  Website Registrations Completed  \\\n",
       "0                           205.633124                              5.0   \n",
       "1                           230.373955                              0.0   \n",
       "\n",
       "   Website Leads  Post Shares  Post Comments  Post Reactions  \\\n",
       "0           20.0          5.0            3.0            32.0   \n",
       "1            1.0          1.0            0.0             3.0   \n",
       "\n",
       "   Cost per Website Registration Completed (USD)  Cost per Website Lead (USD)  \n",
       "0                                     326.446667                      137.132  \n",
       "1                                       0.000000                       13.250  "
      ]
     },
     "execution_count": 1214,
     "metadata": {},
     "output_type": "execute_result"
    }
   ],
   "source": [
    "grouped.head(2)"
   ]
  },
  {
   "cell_type": "code",
   "execution_count": 63,
   "metadata": {},
   "outputs": [
    {
     "data": {
      "image/png": "[encoded data removed]",
      "text/plain": [
       "<Figure size 576x432 with 1 Axes>"
      ]
     },
     "metadata": {
      "needs_background": "light"
     },
     "output_type": "display_data"
    }
   ],
   "source": [
    "plt.figure(figsize=(8,6))\n",
    "\n",
    "# sns.lineplot(grouped['Website Registrations Completed'], \n",
    "#              grouped['Cost per Website Lead (USD)'], color='r' , label='Cost per Website Lead')\n",
    "sns.lineplot(grouped['Website Registrations Completed'], \n",
    "              grouped['Cost per Website Registration Completed (USD)'], color='darkgreen',\n",
    "            label='Cost per Website Registration Completed (USD)')\n",
    "# sns.lineplot(grouped['Website Registrations Completed'],\n",
    "#     grouped['CPM (Cost per 1,000 Impressions) (USD)'], color='R', label='Cost per 1,000 impressions' )\n",
    "\n",
    "\n",
    "plt.xlabel('Acquired Customers', fontsize=15)\n",
    "plt.ylabel('Cost (USD)', fontsize=15)\n",
    "plt.yticks(np.arange(0, 500, step=50))\n",
    "\n",
    "plt.legend()\n",
    "plt.show()"
   ]
  },
  {
   "cell_type": "code",
   "execution_count": 1216,
   "metadata": {},
   "outputs": [
    {
     "data": {
      "image/png": "[encoded data removed]",
      "text/plain": [
       "<Figure size 576x432 with 1 Axes>"
      ]
     },
     "metadata": {
      "needs_background": "light"
     },
     "output_type": "display_data"
    }
   ],
   "source": [
    "plt.figure(figsize=(8,6))\n",
    "\n",
    "\n",
    "sns.lineplot(grouped['Amount Spent (USD)'], grouped['Website Registrations Completed'], color='r', \n",
    "             label='Amount spent' )\n",
    "\n",
    "plt.ylabel('Website Registration Completed', fontsize=12)\n",
    "plt.xlabel('Amount Spent(USD)', fontsize=12)\n",
    "# plt.xticks(np.arange(0, 3000, step=5000))\n",
    "\n",
    "legend = plt.legend()\n"
   ]
  },
  {
   "cell_type": "code",
   "execution_count": null,
   "metadata": {},
   "outputs": [],
   "source": []
  },
  {
   "cell_type": "code",
   "execution_count": 1217,
   "metadata": {},
   "outputs": [
    {
     "data": {
      "image/png": "[encoded data removed]",
      "text/plain": [
       "<Figure size 720x432 with 1 Axes>"
      ]
     },
     "metadata": {
      "needs_background": "light"
     },
     "output_type": "display_data"
    }
   ],
   "source": [
    "\n",
    "plt.figure(figsize=(10,6))\n",
    "sns.barplot(grouped['Ad Set Name'], grouped.Reach, color='seagreen')\n",
    "plt.ylabel('Reach', fontsize=14)\n",
    "plt.xlabel('Ad Set Name', fontsize=14)\n",
    "\n",
    "plt.show()\n",
    "\n",
    "# plt.title('Number of People Reached', fontsize=15)"
   ]
  },
  {
   "cell_type": "markdown",
   "metadata": {},
   "source": [
    "Ad set 6 is the most reaching ad set reaching over 140,000 fb users\n",
    "Ad set 13 comes second with a little over 1000,000 fb users\n",
    "24, 31, 9, 33, 4, 18\n",
    "\n",
    "\n",
    "ad set 15 did not reach anyone"
   ]
  },
  {
   "cell_type": "markdown",
   "metadata": {},
   "source": [
    "# Frequencey"
   ]
  },
  {
   "cell_type": "markdown",
   "metadata": {},
   "source": [
    "● Frequency: how many times, on average, someone within the ad set audience was\n",
    "reached during the duration of the campaign"
   ]
  },
  {
   "cell_type": "code",
   "execution_count": 1218,
   "metadata": {},
   "outputs": [
    {
     "data": {
      "text/plain": [
       "count    36.000000\n",
       "mean      7.269918\n",
       "std       1.858725\n",
       "min       6.000000\n",
       "25%       6.152735\n",
       "50%       6.809453\n",
       "75%       7.392876\n",
       "max      15.004256\n",
       "Name: Frequency, dtype: float64"
      ]
     },
     "execution_count": 1218,
     "metadata": {},
     "output_type": "execute_result"
    }
   ],
   "source": [
    "grouped.Frequency.describe()"
   ]
  },
  {
   "cell_type": "code",
   "execution_count": 1219,
   "metadata": {},
   "outputs": [
    {
     "data": {
      "text/html": [
       "<div>\n",
       "<style scoped>\n",
       "    .dataframe tbody tr th:only-of-type {\n",
       "        vertical-align: middle;\n",
       "    }\n",
       "\n",
       "    .dataframe tbody tr th {\n",
       "        vertical-align: top;\n",
       "    }\n",
       "\n",
       "    .dataframe thead th {\n",
       "        text-align: right;\n",
       "    }\n",
       "</style>\n",
       "<table border=\"1\" class=\"dataframe\">\n",
       "  <thead>\n",
       "    <tr style=\"text-align: right;\">\n",
       "      <th></th>\n",
       "      <th>Ad Set Name</th>\n",
       "      <th>Reach</th>\n",
       "      <th>Frequency</th>\n",
       "      <th>Amount Spent (USD)</th>\n",
       "      <th>Impressions</th>\n",
       "      <th>CPM (Cost per 1,000 Impressions) (USD)</th>\n",
       "      <th>Link Clicks</th>\n",
       "      <th>CPC (Cost per Link Click) (USD)</th>\n",
       "      <th>CTR (Link Click-Through Rate)</th>\n",
       "      <th>Cost per 1,000 People Reached (USD)</th>\n",
       "      <th>Website Registrations Completed</th>\n",
       "      <th>Website Leads</th>\n",
       "      <th>Post Shares</th>\n",
       "      <th>Post Comments</th>\n",
       "      <th>Post Reactions</th>\n",
       "      <th>Cost per Website Registration Completed (USD)</th>\n",
       "      <th>Cost per Website Lead (USD)</th>\n",
       "    </tr>\n",
       "  </thead>\n",
       "  <tbody>\n",
       "    <tr>\n",
       "      <th>0</th>\n",
       "      <td>36</td>\n",
       "      <td>17332</td>\n",
       "      <td>6.666229</td>\n",
       "      <td>554.19</td>\n",
       "      <td>18765</td>\n",
       "      <td>185.413652</td>\n",
       "      <td>165.0</td>\n",
       "      <td>25.195491</td>\n",
       "      <td>4.855476</td>\n",
       "      <td>205.633124</td>\n",
       "      <td>5.0</td>\n",
       "      <td>20.0</td>\n",
       "      <td>5.0</td>\n",
       "      <td>3.0</td>\n",
       "      <td>32.0</td>\n",
       "      <td>326.446667</td>\n",
       "      <td>137.132000</td>\n",
       "    </tr>\n",
       "    <tr>\n",
       "      <th>1</th>\n",
       "      <td>35</td>\n",
       "      <td>2302</td>\n",
       "      <td>6.069965</td>\n",
       "      <td>87.48</td>\n",
       "      <td>2332</td>\n",
       "      <td>227.541597</td>\n",
       "      <td>9.0</td>\n",
       "      <td>49.965000</td>\n",
       "      <td>5.879032</td>\n",
       "      <td>230.373955</td>\n",
       "      <td>0.0</td>\n",
       "      <td>1.0</td>\n",
       "      <td>1.0</td>\n",
       "      <td>0.0</td>\n",
       "      <td>3.0</td>\n",
       "      <td>0.000000</td>\n",
       "      <td>13.250000</td>\n",
       "    </tr>\n",
       "    <tr>\n",
       "      <th>2</th>\n",
       "      <td>34</td>\n",
       "      <td>6064</td>\n",
       "      <td>6.523927</td>\n",
       "      <td>102.45</td>\n",
       "      <td>6147</td>\n",
       "      <td>93.794974</td>\n",
       "      <td>13.0</td>\n",
       "      <td>32.256500</td>\n",
       "      <td>0.856617</td>\n",
       "      <td>100.304384</td>\n",
       "      <td>2.0</td>\n",
       "      <td>5.0</td>\n",
       "      <td>10.0</td>\n",
       "      <td>6.0</td>\n",
       "      <td>89.0</td>\n",
       "      <td>62.170000</td>\n",
       "      <td>56.695000</td>\n",
       "    </tr>\n",
       "    <tr>\n",
       "      <th>3</th>\n",
       "      <td>33</td>\n",
       "      <td>48128</td>\n",
       "      <td>7.134516</td>\n",
       "      <td>1663.40</td>\n",
       "      <td>56956</td>\n",
       "      <td>296.235306</td>\n",
       "      <td>1115.0</td>\n",
       "      <td>13.479817</td>\n",
       "      <td>9.027207</td>\n",
       "      <td>222.367411</td>\n",
       "      <td>30.0</td>\n",
       "      <td>261.0</td>\n",
       "      <td>12.0</td>\n",
       "      <td>20.0</td>\n",
       "      <td>53.0</td>\n",
       "      <td>170.884509</td>\n",
       "      <td>61.896798</td>\n",
       "    </tr>\n",
       "    <tr>\n",
       "      <th>4</th>\n",
       "      <td>32</td>\n",
       "      <td>25560</td>\n",
       "      <td>6.790768</td>\n",
       "      <td>807.54</td>\n",
       "      <td>27624</td>\n",
       "      <td>228.307528</td>\n",
       "      <td>298.0</td>\n",
       "      <td>20.310040</td>\n",
       "      <td>5.899207</td>\n",
       "      <td>212.658865</td>\n",
       "      <td>6.0</td>\n",
       "      <td>43.0</td>\n",
       "      <td>19.0</td>\n",
       "      <td>7.0</td>\n",
       "      <td>40.0</td>\n",
       "      <td>202.403333</td>\n",
       "      <td>101.161333</td>\n",
       "    </tr>\n",
       "  </tbody>\n",
       "</table>\n",
       "</div>"
      ],
      "text/plain": [
       "   Ad Set Name  Reach  Frequency  Amount Spent (USD)  Impressions  \\\n",
       "0           36  17332   6.666229              554.19        18765   \n",
       "1           35   2302   6.069965               87.48         2332   \n",
       "2           34   6064   6.523927              102.45         6147   \n",
       "3           33  48128   7.134516             1663.40        56956   \n",
       "4           32  25560   6.790768              807.54        27624   \n",
       "\n",
       "   CPM (Cost per 1,000 Impressions) (USD)  Link Clicks  \\\n",
       "0                              185.413652        165.0   \n",
       "1                              227.541597          9.0   \n",
       "2                               93.794974         13.0   \n",
       "3                              296.235306       1115.0   \n",
       "4                              228.307528        298.0   \n",
       "\n",
       "   CPC (Cost per Link Click) (USD)  CTR (Link Click-Through Rate)  \\\n",
       "0                        25.195491                       4.855476   \n",
       "1                        49.965000                       5.879032   \n",
       "2                        32.256500                       0.856617   \n",
       "3                        13.479817                       9.027207   \n",
       "4                        20.310040                       5.899207   \n",
       "\n",
       "   Cost per 1,000 People Reached (USD)  Website Registrations Completed  \\\n",
       "0                           205.633124                              5.0   \n",
       "1                           230.373955                              0.0   \n",
       "2                           100.304384                              2.0   \n",
       "3                           222.367411                             30.0   \n",
       "4                           212.658865                              6.0   \n",
       "\n",
       "   Website Leads  Post Shares  Post Comments  Post Reactions  \\\n",
       "0           20.0          5.0            3.0            32.0   \n",
       "1            1.0          1.0            0.0             3.0   \n",
       "2            5.0         10.0            6.0            89.0   \n",
       "3          261.0         12.0           20.0            53.0   \n",
       "4           43.0         19.0            7.0            40.0   \n",
       "\n",
       "   Cost per Website Registration Completed (USD)  Cost per Website Lead (USD)  \n",
       "0                                     326.446667                   137.132000  \n",
       "1                                       0.000000                    13.250000  \n",
       "2                                      62.170000                    56.695000  \n",
       "3                                     170.884509                    61.896798  \n",
       "4                                     202.403333                   101.161333  "
      ]
     },
     "execution_count": 1219,
     "metadata": {},
     "output_type": "execute_result"
    }
   ],
   "source": [
    "grouped.head()"
   ]
  },
  {
   "cell_type": "code",
   "execution_count": 1220,
   "metadata": {},
   "outputs": [
    {
     "data": {
      "text/plain": [
       "count    36.000000\n",
       "mean      7.269918\n",
       "std       1.858725\n",
       "min       6.000000\n",
       "25%       6.152735\n",
       "50%       6.809453\n",
       "75%       7.392876\n",
       "max      15.004256\n",
       "Name: Frequency, dtype: float64"
      ]
     },
     "execution_count": 1220,
     "metadata": {},
     "output_type": "execute_result"
    }
   ],
   "source": [
    "grouped.Frequency.describe(\n",
    ")"
   ]
  },
  {
   "cell_type": "code",
   "execution_count": 1221,
   "metadata": {},
   "outputs": [
    {
     "data": {
      "text/plain": [
       "Text(0.5, 0, 'Website Registrations Completed')"
      ]
     },
     "execution_count": 1221,
     "metadata": {},
     "output_type": "execute_result"
    },
    {
     "data": {
      "image/png": "[encoded data removed]",
      "text/plain": [
       "<Figure size 504x360 with 1 Axes>"
      ]
     },
     "metadata": {
      "needs_background": "light"
     },
     "output_type": "display_data"
    }
   ],
   "source": [
    "plt.figure(figsize=(7,5))\n",
    "\n",
    "sns.scatterplot(grouped['Website Registrations Completed'],grouped['Amount Spent (USD)'], color='seagreen', \n",
    "             )\n",
    "\n",
    "plt.ylabel('Amount Spent(USD)', fontsize=13)\n",
    "plt.xlabel('Website Registrations Completed', fontsize=13)\n"
   ]
  },
  {
   "cell_type": "code",
   "execution_count": 1222,
   "metadata": {},
   "outputs": [
    {
     "data": {
      "image/png": "[encoded data removed]",
      "text/plain": [
       "<Figure size 504x360 with 1 Axes>"
      ]
     },
     "metadata": {
      "needs_background": "light"
     },
     "output_type": "display_data"
    }
   ],
   "source": [
    "plt.figure(figsize=(7,5))\n",
    "\n",
    "sns.distplot(grouped['Frequency'], color='darkgreen' \n",
    "             )\n",
    "\n",
    "# plt.ylabel('Amount Spent(USD)', fontsize=13)\n",
    "plt.xlabel('Frequency', fontsize=13)\n",
    "#plt.title('Registrations by Sets of Ads', fontsize=16)\n",
    "plt.show()"
   ]
  },
  {
   "cell_type": "code",
   "execution_count": null,
   "metadata": {},
   "outputs": [],
   "source": []
  },
  {
   "cell_type": "markdown",
   "metadata": {},
   "source": [
    "# Amount Spent During Campaign "
   ]
  },
  {
   "cell_type": "markdown",
   "metadata": {},
   "source": [
    "● Amount Spend: dollars spent during duration of campaign\n"
   ]
  },
  {
   "cell_type": "code",
   "execution_count": 1224,
   "metadata": {},
   "outputs": [
    {
     "data": {
      "text/plain": [
       "count      36.000000\n",
       "mean      835.317222\n",
       "std      1082.801694\n",
       "min        15.590000\n",
       "25%       214.720000\n",
       "50%       376.175000\n",
       "75%       991.107500\n",
       "max      4579.480000\n",
       "Name: Amount Spent (USD), dtype: float64"
      ]
     },
     "execution_count": 1224,
     "metadata": {},
     "output_type": "execute_result"
    }
   ],
   "source": [
    "grouped['Amount Spent (USD)'].describe()"
   ]
  },
  {
   "cell_type": "markdown",
   "metadata": {},
   "source": [
    "# Imperessions"
   ]
  },
  {
   "cell_type": "markdown",
   "metadata": {},
   "source": [
    "Impressions: number of times the ad appeared in front of someone"
   ]
  },
  {
   "cell_type": "code",
   "execution_count": null,
   "metadata": {},
   "outputs": [],
   "source": []
  },
  {
   "cell_type": "code",
   "execution_count": 1225,
   "metadata": {},
   "outputs": [
    {
     "data": {
      "text/plain": [
       "count        36.000000\n",
       "mean      31347.166667\n",
       "std       42799.301376\n",
       "min         406.000000\n",
       "25%        6694.750000\n",
       "50%       15435.500000\n",
       "75%       32354.500000\n",
       "max      207604.000000\n",
       "Name: Impressions, dtype: float64"
      ]
     },
     "execution_count": 1225,
     "metadata": {},
     "output_type": "execute_result"
    }
   ],
   "source": [
    "grouped.Impressions.describe()"
   ]
  },
  {
   "cell_type": "code",
   "execution_count": 1226,
   "metadata": {},
   "outputs": [
    {
     "data": {
      "text/plain": [
       "Text(0, 0.5, 'Impressions')"
      ]
     },
     "execution_count": 1226,
     "metadata": {},
     "output_type": "execute_result"
    },
    {
     "data": {
      "image/png": "[encoded data removed]",
      "text/plain": [
       "<Figure size 792x432 with 1 Axes>"
      ]
     },
     "metadata": {
      "needs_background": "light"
     },
     "output_type": "display_data"
    }
   ],
   "source": [
    "plt.figure(figsize=(11, 6))\n",
    "\n",
    "sns.barplot(grouped['Ad Set Name'], grouped.Impressions.sort_values(ascending=True),  color='seagreen')\n",
    "\n",
    "# plt.title('Impressions number')\n",
    "plt.xlabel('Ad Sets', fontsize=16)\n",
    "plt.ylabel('Impressions', fontsize=16)"
   ]
  },
  {
   "cell_type": "code",
   "execution_count": null,
   "metadata": {},
   "outputs": [],
   "source": []
  },
  {
   "cell_type": "markdown",
   "metadata": {},
   "source": [
    "# CTR (Link Click-Through Rate)"
   ]
  },
  {
   "cell_type": "code",
   "execution_count": 1227,
   "metadata": {},
   "outputs": [
    {
     "data": {
      "text/plain": [
       "count    36.000000\n",
       "mean      5.290305\n",
       "std       2.530582\n",
       "min       0.694444\n",
       "25%       3.059800\n",
       "50%       5.447967\n",
       "75%       7.215500\n",
       "max       9.626291\n",
       "Name: CTR (Link Click-Through Rate), dtype: float64"
      ]
     },
     "execution_count": 1227,
     "metadata": {},
     "output_type": "execute_result"
    }
   ],
   "source": [
    "grouped['CTR (Link Click-Through Rate)'].describe()"
   ]
  },
  {
   "cell_type": "code",
   "execution_count": 1228,
   "metadata": {},
   "outputs": [
    {
     "data": {
      "text/plain": [
       "<matplotlib.axes._subplots.AxesSubplot at 0x15ec3d048>"
      ]
     },
     "execution_count": 1228,
     "metadata": {},
     "output_type": "execute_result"
    },
    {
     "data": {
      "image/png": "[encoded data removed]",
      "text/plain": [
       "<Figure size 720x360 with 1 Axes>"
      ]
     },
     "metadata": {
      "needs_background": "light"
     },
     "output_type": "display_data"
    }
   ],
   "source": [
    "plt.figure(figsize=(10, 5))\n",
    "\n",
    "#sns.barplot(grouped['Ad Set Name'], grouped['CTR (Link Click-Through Rate)'], color='seagreen')\n",
    "\n",
    "sns.distplot(grouped['CTR (Link Click-Through Rate)'])\n",
    "# number of link clicks divided by number of ad impressions (not reach)"
   ]
  },
  {
   "cell_type": "code",
   "execution_count": 1256,
   "metadata": {},
   "outputs": [],
   "source": [
    "# grouped.sort_values('Post Shares', ascending=False)"
   ]
  },
  {
   "cell_type": "markdown",
   "metadata": {},
   "source": [
    "# Post Shares"
   ]
  },
  {
   "cell_type": "code",
   "execution_count": 1230,
   "metadata": {},
   "outputs": [
    {
     "data": {
      "text/plain": [
       "count     36.000000\n",
       "mean      30.527778\n",
       "std       52.941200\n",
       "min        0.000000\n",
       "25%        2.000000\n",
       "50%        7.000000\n",
       "75%       28.500000\n",
       "max      248.000000\n",
       "Name: Post Shares, dtype: float64"
      ]
     },
     "execution_count": 1230,
     "metadata": {},
     "output_type": "execute_result"
    }
   ],
   "source": [
    "grouped['Post Shares'].describe()"
   ]
  },
  {
   "cell_type": "code",
   "execution_count": 1231,
   "metadata": {},
   "outputs": [
    {
     "data": {
      "text/plain": [
       "<matplotlib.axes._subplots.AxesSubplot at 0x15eb68358>"
      ]
     },
     "execution_count": 1231,
     "metadata": {},
     "output_type": "execute_result"
    },
    {
     "data": {
      "image/png": "[encoded data removed]",
      "text/plain": [
       "<Figure size 720x576 with 1 Axes>"
      ]
     },
     "metadata": {
      "needs_background": "light"
     },
     "output_type": "display_data"
    }
   ],
   "source": [
    "plt.figure(figsize=(10,8))\n",
    "sns.barplot(grouped['Ad Set Name'], grouped['Post Shares'], color='seagreen')\n",
    "\n",
    "#6, 1,31, 24,"
   ]
  },
  {
   "cell_type": "markdown",
   "metadata": {},
   "source": [
    "# Post Comments"
   ]
  },
  {
   "cell_type": "code",
   "execution_count": 1232,
   "metadata": {},
   "outputs": [
    {
     "data": {
      "text/plain": [
       "count    36.000000\n",
       "mean     11.055556\n",
       "std      17.234425\n",
       "min       0.000000\n",
       "25%       0.000000\n",
       "50%       2.500000\n",
       "75%      12.750000\n",
       "max      64.000000\n",
       "Name: Post Comments, dtype: float64"
      ]
     },
     "execution_count": 1232,
     "metadata": {},
     "output_type": "execute_result"
    }
   ],
   "source": [
    "grouped['Post Comments'].describe()"
   ]
  },
  {
   "cell_type": "code",
   "execution_count": 1233,
   "metadata": {},
   "outputs": [
    {
     "data": {
      "text/plain": [
       "<matplotlib.axes._subplots.AxesSubplot at 0x15d77a048>"
      ]
     },
     "execution_count": 1233,
     "metadata": {},
     "output_type": "execute_result"
    },
    {
     "data": {
      "image/png": "[encoded data removed]",
      "text/plain": [
       "<Figure size 720x432 with 1 Axes>"
      ]
     },
     "metadata": {
      "needs_background": "light"
     },
     "output_type": "display_data"
    }
   ],
   "source": [
    "plt.figure(figsize=(10,6))\n",
    "sns.barplot(grouped['Ad Set Name'], grouped['Post Comments'], color='seagreen')\n",
    "\n"
   ]
  },
  {
   "cell_type": "markdown",
   "metadata": {},
   "source": [
    "# Most interactable ads"
   ]
  },
  {
   "cell_type": "code",
   "execution_count": 1234,
   "metadata": {},
   "outputs": [],
   "source": [
    "grouped = grouped.sort_values('Ad Set Name', ascending=True)"
   ]
  },
  {
   "cell_type": "code",
   "execution_count": 1235,
   "metadata": {},
   "outputs": [
    {
     "name": "stdout",
     "output_type": "stream",
     "text": [
      "<class 'pandas.core.frame.DataFrame'>\n",
      "Int64Index: 36 entries, 35 to 0\n",
      "Data columns (total 17 columns):\n",
      " #   Column                                         Non-Null Count  Dtype  \n",
      "---  ------                                         --------------  -----  \n",
      " 0   Ad Set Name                                    36 non-null     int64  \n",
      " 1   Reach                                          36 non-null     int64  \n",
      " 2   Frequency                                      36 non-null     float64\n",
      " 3   Amount Spent (USD)                             36 non-null     float64\n",
      " 4   Impressions                                    36 non-null     int64  \n",
      " 5   CPM (Cost per 1,000 Impressions) (USD)         36 non-null     float64\n",
      " 6   Link Clicks                                    36 non-null     float64\n",
      " 7   CPC (Cost per Link Click) (USD)                36 non-null     float64\n",
      " 8   CTR (Link Click-Through Rate)                  36 non-null     float64\n",
      " 9   Cost per 1,000 People Reached (USD)            36 non-null     float64\n",
      " 10  Website Registrations Completed                36 non-null     float64\n",
      " 11  Website Leads                                  36 non-null     float64\n",
      " 12  Post Shares                                    36 non-null     float64\n",
      " 13  Post Comments                                  36 non-null     float64\n",
      " 14  Post Reactions                                 36 non-null     float64\n",
      " 15  Cost per Website Registration Completed (USD)  36 non-null     float64\n",
      " 16  Cost per Website Lead (USD)                    36 non-null     float64\n",
      "dtypes: float64(14), int64(3)\n",
      "memory usage: 5.1 KB\n"
     ]
    }
   ],
   "source": [
    "grouped['Ad Set Name'] = grouped['Ad Set Name'].astype(int)\n",
    "\n",
    "grouped.info()"
   ]
  },
  {
   "cell_type": "code",
   "execution_count": 1236,
   "metadata": {},
   "outputs": [
    {
     "data": {
      "text/html": [
       "<div>\n",
       "<style scoped>\n",
       "    .dataframe tbody tr th:only-of-type {\n",
       "        vertical-align: middle;\n",
       "    }\n",
       "\n",
       "    .dataframe tbody tr th {\n",
       "        vertical-align: top;\n",
       "    }\n",
       "\n",
       "    .dataframe thead th {\n",
       "        text-align: right;\n",
       "    }\n",
       "</style>\n",
       "<table border=\"1\" class=\"dataframe\">\n",
       "  <thead>\n",
       "    <tr style=\"text-align: right;\">\n",
       "      <th></th>\n",
       "      <th>Ad Set Name</th>\n",
       "      <th>Reach</th>\n",
       "      <th>Frequency</th>\n",
       "      <th>Amount Spent (USD)</th>\n",
       "      <th>Impressions</th>\n",
       "      <th>CPM (Cost per 1,000 Impressions) (USD)</th>\n",
       "      <th>Link Clicks</th>\n",
       "      <th>CPC (Cost per Link Click) (USD)</th>\n",
       "      <th>CTR (Link Click-Through Rate)</th>\n",
       "      <th>Cost per 1,000 People Reached (USD)</th>\n",
       "      <th>Website Registrations Completed</th>\n",
       "      <th>Website Leads</th>\n",
       "      <th>Post Shares</th>\n",
       "      <th>Post Comments</th>\n",
       "      <th>Post Reactions</th>\n",
       "      <th>Cost per Website Registration Completed (USD)</th>\n",
       "      <th>Cost per Website Lead (USD)</th>\n",
       "    </tr>\n",
       "  </thead>\n",
       "  <tbody>\n",
       "    <tr>\n",
       "      <th>35</th>\n",
       "      <td>1</td>\n",
       "      <td>26469</td>\n",
       "      <td>6.922444</td>\n",
       "      <td>319.02</td>\n",
       "      <td>29730</td>\n",
       "      <td>68.095364</td>\n",
       "      <td>86.0</td>\n",
       "      <td>18.055771</td>\n",
       "      <td>1.489356</td>\n",
       "      <td>79.496844</td>\n",
       "      <td>0.0</td>\n",
       "      <td>10.0</td>\n",
       "      <td>146.0</td>\n",
       "      <td>60.0</td>\n",
       "      <td>991.0</td>\n",
       "      <td>0.0</td>\n",
       "      <td>71.441</td>\n",
       "    </tr>\n",
       "  </tbody>\n",
       "</table>\n",
       "</div>"
      ],
      "text/plain": [
       "    Ad Set Name  Reach  Frequency  Amount Spent (USD)  Impressions  \\\n",
       "35            1  26469   6.922444              319.02        29730   \n",
       "\n",
       "    CPM (Cost per 1,000 Impressions) (USD)  Link Clicks  \\\n",
       "35                               68.095364         86.0   \n",
       "\n",
       "    CPC (Cost per Link Click) (USD)  CTR (Link Click-Through Rate)  \\\n",
       "35                        18.055771                       1.489356   \n",
       "\n",
       "    Cost per 1,000 People Reached (USD)  Website Registrations Completed  \\\n",
       "35                            79.496844                              0.0   \n",
       "\n",
       "    Website Leads  Post Shares  Post Comments  Post Reactions  \\\n",
       "35           10.0        146.0           60.0           991.0   \n",
       "\n",
       "    Cost per Website Registration Completed (USD)  Cost per Website Lead (USD)  \n",
       "35                                            0.0                       71.441  "
      ]
     },
     "execution_count": 1236,
     "metadata": {},
     "output_type": "execute_result"
    }
   ],
   "source": [
    "grouped.head(1)"
   ]
  },
  {
   "cell_type": "code",
   "execution_count": 1237,
   "metadata": {},
   "outputs": [
    {
     "data": {
      "image/png": "[encoded data removed]",
      "text/plain": [
       "<Figure size 864x432 with 1 Axes>"
      ]
     },
     "metadata": {
      "needs_background": "light"
     },
     "output_type": "display_data"
    }
   ],
   "source": [
    "# multiple line plot\n",
    "plt.figure(figsize=(12,6))\n",
    "x= grouped['Website Registrations Completed'].sort_values(ascending=False)\n",
    "y1= grouped['CPC (Cost per Link Click) (USD)']\n",
    "y2= grouped['CPM (Cost per 1,000 Impressions) (USD)']\n",
    "# y3= grouped['Post Shares']\n",
    "\n",
    "plt.plot( x, y1,  color='r', linewidth=2, label='Post comments')\n",
    "plt.plot( x, y2,   color='darkgreen', linewidth=2, label = 'Post Reactions')\n",
    "# plt.plot( x, y3,  color='c', linewidth=2, label=\"Post Shares\")\n",
    "\n",
    "plt.xlabel('Ad Set Name', fontsize=14)\n",
    "plt.ylabel('Number of Users', fontsize=14)\n",
    "plt.xticks(np.arange(0,37,1))\n",
    "\n",
    "plt.legend()\n",
    "\n",
    "plt.show()"
   ]
  },
  {
   "cell_type": "markdown",
   "metadata": {},
   "source": [
    "# Website Registrations Completed"
   ]
  },
  {
   "cell_type": "code",
   "execution_count": 1254,
   "metadata": {},
   "outputs": [],
   "source": [
    "# grouped['Website Registrations Completed'].value_counts()"
   ]
  },
  {
   "cell_type": "code",
   "execution_count": 1255,
   "metadata": {},
   "outputs": [
    {
     "data": {
      "text/plain": [
       "<matplotlib.axes._subplots.AxesSubplot at 0x1548fef28>"
      ]
     },
     "execution_count": 1255,
     "metadata": {},
     "output_type": "execute_result"
    },
    {
     "data": {
      "image/png": "[encoded data removed]",
      "text/plain": [
       "<Figure size 648x360 with 1 Axes>"
      ]
     },
     "metadata": {
      "needs_background": "light"
     },
     "output_type": "display_data"
    }
   ],
   "source": [
    "plt.figure(figsize=(9,5))\n",
    "sns.barplot( grouped['Ad Set Name'], grouped['Website Registrations Completed'], color='c')\n",
    "# plt.title('Registrations by Sets of Ads', fontsize=16)\n"
   ]
  },
  {
   "cell_type": "markdown",
   "metadata": {},
   "source": [
    "# Post Shares"
   ]
  },
  {
   "cell_type": "code",
   "execution_count": 1241,
   "metadata": {},
   "outputs": [
    {
     "data": {
      "text/plain": [
       "count     36.000000\n",
       "mean      30.527778\n",
       "std       52.941200\n",
       "min        0.000000\n",
       "25%        2.000000\n",
       "50%        7.000000\n",
       "75%       28.500000\n",
       "max      248.000000\n",
       "Name: Post Shares, dtype: float64"
      ]
     },
     "execution_count": 1241,
     "metadata": {},
     "output_type": "execute_result"
    }
   ],
   "source": [
    "grouped['Post Shares'].describe()"
   ]
  },
  {
   "cell_type": "code",
   "execution_count": 1242,
   "metadata": {},
   "outputs": [
    {
     "data": {
      "text/plain": [
       "<matplotlib.axes._subplots.AxesSubplot at 0x1557105f8>"
      ]
     },
     "execution_count": 1242,
     "metadata": {},
     "output_type": "execute_result"
    },
    {
     "data": {
      "image/png": "[encoded data removed]",
      "text/plain": [
       "<Figure size 720x360 with 1 Axes>"
      ]
     },
     "metadata": {
      "needs_background": "light"
     },
     "output_type": "display_data"
    }
   ],
   "source": [
    "plt.figure(figsize=(10,5))\n",
    "sns.barplot(grouped['Ad Set Name'], grouped['Post Shares'], color='seagreen')"
   ]
  },
  {
   "cell_type": "code",
   "execution_count": 1243,
   "metadata": {},
   "outputs": [
    {
     "data": {
      "text/html": [
       "<div>\n",
       "<style scoped>\n",
       "    .dataframe tbody tr th:only-of-type {\n",
       "        vertical-align: middle;\n",
       "    }\n",
       "\n",
       "    .dataframe tbody tr th {\n",
       "        vertical-align: top;\n",
       "    }\n",
       "\n",
       "    .dataframe thead th {\n",
       "        text-align: right;\n",
       "    }\n",
       "</style>\n",
       "<table border=\"1\" class=\"dataframe\">\n",
       "  <thead>\n",
       "    <tr style=\"text-align: right;\">\n",
       "      <th></th>\n",
       "      <th>Ad Set Name</th>\n",
       "      <th>Reach</th>\n",
       "      <th>Frequency</th>\n",
       "      <th>Amount Spent (USD)</th>\n",
       "      <th>Impressions</th>\n",
       "      <th>CPM (Cost per 1,000 Impressions) (USD)</th>\n",
       "      <th>Link Clicks</th>\n",
       "      <th>CPC (Cost per Link Click) (USD)</th>\n",
       "      <th>CTR (Link Click-Through Rate)</th>\n",
       "      <th>Cost per 1,000 People Reached (USD)</th>\n",
       "      <th>Website Registrations Completed</th>\n",
       "      <th>Website Leads</th>\n",
       "      <th>Post Shares</th>\n",
       "      <th>Post Comments</th>\n",
       "      <th>Post Reactions</th>\n",
       "      <th>Cost per Website Registration Completed (USD)</th>\n",
       "      <th>Cost per Website Lead (USD)</th>\n",
       "    </tr>\n",
       "  </thead>\n",
       "  <tbody>\n",
       "    <tr>\n",
       "      <th>35</th>\n",
       "      <td>1</td>\n",
       "      <td>26469</td>\n",
       "      <td>6.922444</td>\n",
       "      <td>319.02</td>\n",
       "      <td>29730</td>\n",
       "      <td>68.095364</td>\n",
       "      <td>86.0</td>\n",
       "      <td>18.055771</td>\n",
       "      <td>1.489356</td>\n",
       "      <td>79.496844</td>\n",
       "      <td>0.0</td>\n",
       "      <td>10.0</td>\n",
       "      <td>146.0</td>\n",
       "      <td>60.0</td>\n",
       "      <td>991.0</td>\n",
       "      <td>0.00</td>\n",
       "      <td>71.441000</td>\n",
       "    </tr>\n",
       "    <tr>\n",
       "      <th>34</th>\n",
       "      <td>2</td>\n",
       "      <td>16972</td>\n",
       "      <td>7.381687</td>\n",
       "      <td>477.69</td>\n",
       "      <td>20831</td>\n",
       "      <td>134.414313</td>\n",
       "      <td>156.0</td>\n",
       "      <td>12.532648</td>\n",
       "      <td>3.019334</td>\n",
       "      <td>164.796389</td>\n",
       "      <td>6.0</td>\n",
       "      <td>21.0</td>\n",
       "      <td>27.0</td>\n",
       "      <td>5.0</td>\n",
       "      <td>89.0</td>\n",
       "      <td>378.43</td>\n",
       "      <td>115.307667</td>\n",
       "    </tr>\n",
       "  </tbody>\n",
       "</table>\n",
       "</div>"
      ],
      "text/plain": [
       "    Ad Set Name  Reach  Frequency  Amount Spent (USD)  Impressions  \\\n",
       "35            1  26469   6.922444              319.02        29730   \n",
       "34            2  16972   7.381687              477.69        20831   \n",
       "\n",
       "    CPM (Cost per 1,000 Impressions) (USD)  Link Clicks  \\\n",
       "35                               68.095364         86.0   \n",
       "34                              134.414313        156.0   \n",
       "\n",
       "    CPC (Cost per Link Click) (USD)  CTR (Link Click-Through Rate)  \\\n",
       "35                        18.055771                       1.489356   \n",
       "34                        12.532648                       3.019334   \n",
       "\n",
       "    Cost per 1,000 People Reached (USD)  Website Registrations Completed  \\\n",
       "35                            79.496844                              0.0   \n",
       "34                           164.796389                              6.0   \n",
       "\n",
       "    Website Leads  Post Shares  Post Comments  Post Reactions  \\\n",
       "35           10.0        146.0           60.0           991.0   \n",
       "34           21.0         27.0            5.0            89.0   \n",
       "\n",
       "    Cost per Website Registration Completed (USD)  Cost per Website Lead (USD)  \n",
       "35                                           0.00                    71.441000  \n",
       "34                                         378.43                   115.307667  "
      ]
     },
     "execution_count": 1243,
     "metadata": {},
     "output_type": "execute_result"
    }
   ],
   "source": [
    "grouped.head(2)"
   ]
  },
  {
   "cell_type": "markdown",
   "metadata": {},
   "source": [
    "# Post Reactions: how many times users “liked” or “disliked” the ad"
   ]
  },
  {
   "cell_type": "code",
   "execution_count": 1244,
   "metadata": {},
   "outputs": [
    {
     "data": {
      "text/plain": [
       "count     36.000000\n",
       "mean     114.500000\n",
       "std      211.200717\n",
       "min        0.000000\n",
       "25%        6.000000\n",
       "50%       23.500000\n",
       "75%      122.500000\n",
       "max      991.000000\n",
       "Name: Post Reactions, dtype: float64"
      ]
     },
     "execution_count": 1244,
     "metadata": {},
     "output_type": "execute_result"
    }
   ],
   "source": [
    "grouped['Post Reactions'].describe()"
   ]
  },
  {
   "cell_type": "code",
   "execution_count": 1249,
   "metadata": {},
   "outputs": [
    {
     "data": {
      "text/plain": [
       "<matplotlib.axes._subplots.AxesSubplot at 0x1502e0ba8>"
      ]
     },
     "execution_count": 1249,
     "metadata": {},
     "output_type": "execute_result"
    },
    {
     "data": {
      "image/png": "[encoded data removed]",
      "text/plain": [
       "<Figure size 648x432 with 1 Axes>"
      ]
     },
     "metadata": {
      "needs_background": "light"
     },
     "output_type": "display_data"
    }
   ],
   "source": [
    "plt.figure(figsize=(9,6))\n",
    "sns.barplot(grouped['Ad Set Name'], grouped['Post Reactions'])"
   ]
  },
  {
   "cell_type": "markdown",
   "metadata": {},
   "source": [
    "# Website Leads: number of people who started to sign-up but did not complete the registration process\n"
   ]
  },
  {
   "cell_type": "code",
   "execution_count": 1250,
   "metadata": {},
   "outputs": [
    {
     "data": {
      "text/plain": [
       "count     36.000000\n",
       "mean      56.833333\n",
       "std       92.443187\n",
       "min        0.000000\n",
       "25%       11.000000\n",
       "50%       20.500000\n",
       "75%       43.750000\n",
       "max      422.000000\n",
       "Name: Website Leads, dtype: float64"
      ]
     },
     "execution_count": 1250,
     "metadata": {},
     "output_type": "execute_result"
    }
   ],
   "source": [
    "grouped['Website Leads'].describe()"
   ]
  },
  {
   "cell_type": "code",
   "execution_count": null,
   "metadata": {},
   "outputs": [],
   "source": []
  },
  {
   "cell_type": "code",
   "execution_count": null,
   "metadata": {},
   "outputs": [],
   "source": [
    "\n",
    "\n"
   ]
  },
  {
   "cell_type": "code",
   "execution_count": null,
   "metadata": {},
   "outputs": [],
   "source": []
  },
  {
   "cell_type": "code",
   "execution_count": null,
   "metadata": {},
   "outputs": [],
   "source": []
  },
  {
   "cell_type": "code",
   "execution_count": null,
   "metadata": {},
   "outputs": [],
   "source": []
  },
  {
   "cell_type": "code",
   "execution_count": null,
   "metadata": {},
   "outputs": [],
   "source": []
  },
  {
   "cell_type": "code",
   "execution_count": null,
   "metadata": {},
   "outputs": [],
   "source": []
  }
 ],
 "metadata": {
  "kernelspec": {
   "display_name": "Python 3",
   "language": "python",
   "name": "python3"
  },
  "language_info": {
   "codemirror_mode": {
    "name": "ipython",
    "version": 3
   },
   "file_extension": ".py",
   "mimetype": "text/x-python",
   "name": "python",
   "nbconvert_exporter": "python",
   "pygments_lexer": "ipython3",
   "version": "3.7.0"
  },
  "toc": {
   "base_numbering": 1,
   "nav_menu": {},
   "number_sections": true,
   "sideBar": true,
   "skip_h1_title": false,
   "title_cell": "Table of Contents",
   "title_sidebar": "Contents",
   "toc_cell": false,
   "toc_position": {},
   "toc_section_display": true,
   "toc_window_display": false
  }
 },
 "nbformat": 4,
 "nbformat_minor": 4
}
