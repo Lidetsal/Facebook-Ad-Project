{
 "cells": [
  {
   "cell_type": "markdown",
   "metadata": {},
   "source": [
    "● Each ad set is targeting a unique (anonymous) audience. Within each ad set are groups\n",
    "of ads that get distributed on a cost-per-impression basis.\n",
    "\n",
    "\n",
    "● Reach: how many unique people were reached (not to be confused with impressions)\n",
    "\n",
    "\n",
    "● Frequency: how many times, on average, someone within the ad set audience was\n",
    "reached during the duration of the campaign\n",
    "\n",
    "\n",
    "● Amount Spend: dollars spent during duration of campaign\n",
    "\n",
    "\n",
    "● Impressions: number of times the ad appeared in front of someone\n",
    "\n",
    "\n",
    "● CTR (click-through rate): number of link clicks divided by number of ad impressions (not\n",
    "reach)\n",
    "\n",
    "\n",
    "● Post Shares: how many times users shared the ad to their friends\n",
    "\n",
    "\n",
    "● Post Comments: how many times users wrote something in the ad’s comments section\n",
    "\n",
    "\n",
    "● Post Reactions: how many times users “liked” or “disliked” the ad\n",
    "\n",
    "\n",
    "● Website Leads: number of people who started to sign-up with Arcadia but did not\n",
    "complete the registration process"
   ]
  },
  {
   "cell_type": "markdown",
   "metadata": {},
   "source": [
    "# IMPORTS"
   ]
  },
  {
   "cell_type": "code",
   "execution_count": 1196,
   "metadata": {},
   "outputs": [],
   "source": [
    "import pandas as pd\n",
    "import numpy as np\n",
    "import seaborn as sns\n",
    "import matplotlib.pyplot as plt\n",
    "\n",
    "\n",
    "from sklearn.linear_model import LinearRegression\n",
    "from sklearn.preprocessing import MinMaxScaler\n",
    "from sklearn.linear_model import Lasso, Ridge, LinearRegression\n",
    "from sklearn.model_selection import train_test_split\n"
   ]
  },
  {
   "cell_type": "code",
   "execution_count": 1197,
   "metadata": {},
   "outputs": [
    {
     "data": {
      "text/html": [
       "<div>\n",
       "<style scoped>\n",
       "    .dataframe tbody tr th:only-of-type {\n",
       "        vertical-align: middle;\n",
       "    }\n",
       "\n",
       "    .dataframe tbody tr th {\n",
       "        vertical-align: top;\n",
       "    }\n",
       "\n",
       "    .dataframe thead th {\n",
       "        text-align: right;\n",
       "    }\n",
       "</style>\n",
       "<table border=\"1\" class=\"dataframe\">\n",
       "  <thead>\n",
       "    <tr style=\"text-align: right;\">\n",
       "      <th></th>\n",
       "      <th>Ad Set Name</th>\n",
       "      <th>Age</th>\n",
       "      <th>Gender</th>\n",
       "      <th>Reach</th>\n",
       "      <th>Frequency</th>\n",
       "      <th>Amount Spent (USD)</th>\n",
       "      <th>Impressions</th>\n",
       "      <th>CPM (Cost per 1,000 Impressions) (USD)</th>\n",
       "      <th>Link Clicks</th>\n",
       "      <th>CPC (Cost per Link Click) (USD)</th>\n",
       "      <th>CTR (Link Click-Through Rate)</th>\n",
       "      <th>Cost per 1,000 People Reached (USD)</th>\n",
       "      <th>Website Registrations Completed</th>\n",
       "      <th>Website Leads</th>\n",
       "      <th>Post Shares</th>\n",
       "      <th>Post Comments</th>\n",
       "      <th>Post Reactions</th>\n",
       "      <th>Cost per Website Registration Completed (USD)</th>\n",
       "      <th>Cost per Website Lead (USD)</th>\n",
       "    </tr>\n",
       "  </thead>\n",
       "  <tbody>\n",
       "    <tr>\n",
       "      <th>0</th>\n",
       "      <td>1</td>\n",
       "      <td>35-44</td>\n",
       "      <td>unknown</td>\n",
       "      <td>152</td>\n",
       "      <td>1.421053</td>\n",
       "      <td>3.12</td>\n",
       "      <td>216</td>\n",
       "      <td>14.444444</td>\n",
       "      <td>NaN</td>\n",
       "      <td>NaN</td>\n",
       "      <td>NaN</td>\n",
       "      <td>20.526316</td>\n",
       "      <td>NaN</td>\n",
       "      <td>NaN</td>\n",
       "      <td>1.0</td>\n",
       "      <td>NaN</td>\n",
       "      <td>5.0</td>\n",
       "      <td>NaN</td>\n",
       "      <td>NaN</td>\n",
       "    </tr>\n",
       "    <tr>\n",
       "      <th>1</th>\n",
       "      <td>1</td>\n",
       "      <td>35-44</td>\n",
       "      <td>female</td>\n",
       "      <td>6777</td>\n",
       "      <td>1.091486</td>\n",
       "      <td>101.53</td>\n",
       "      <td>7397</td>\n",
       "      <td>13.725835</td>\n",
       "      <td>21.0</td>\n",
       "      <td>4.834762</td>\n",
       "      <td>0.283899</td>\n",
       "      <td>14.981555</td>\n",
       "      <td>NaN</td>\n",
       "      <td>NaN</td>\n",
       "      <td>30.0</td>\n",
       "      <td>8.0</td>\n",
       "      <td>258.0</td>\n",
       "      <td>NaN</td>\n",
       "      <td>NaN</td>\n",
       "    </tr>\n",
       "    <tr>\n",
       "      <th>2</th>\n",
       "      <td>1</td>\n",
       "      <td>35-44</td>\n",
       "      <td>male</td>\n",
       "      <td>6041</td>\n",
       "      <td>1.191359</td>\n",
       "      <td>70.83</td>\n",
       "      <td>7197</td>\n",
       "      <td>9.841601</td>\n",
       "      <td>21.0</td>\n",
       "      <td>3.372857</td>\n",
       "      <td>0.291788</td>\n",
       "      <td>11.724880</td>\n",
       "      <td>NaN</td>\n",
       "      <td>5.0</td>\n",
       "      <td>50.0</td>\n",
       "      <td>18.0</td>\n",
       "      <td>283.0</td>\n",
       "      <td>NaN</td>\n",
       "      <td>14.166</td>\n",
       "    </tr>\n",
       "  </tbody>\n",
       "</table>\n",
       "</div>"
      ],
      "text/plain": [
       "   Ad Set Name    Age   Gender  Reach  Frequency  Amount Spent (USD)  \\\n",
       "0            1  35-44  unknown    152   1.421053                3.12   \n",
       "1            1  35-44   female   6777   1.091486              101.53   \n",
       "2            1  35-44     male   6041   1.191359               70.83   \n",
       "\n",
       "   Impressions  CPM (Cost per 1,000 Impressions) (USD)  Link Clicks  \\\n",
       "0          216                               14.444444          NaN   \n",
       "1         7397                               13.725835         21.0   \n",
       "2         7197                                9.841601         21.0   \n",
       "\n",
       "   CPC (Cost per Link Click) (USD)  CTR (Link Click-Through Rate)  \\\n",
       "0                              NaN                            NaN   \n",
       "1                         4.834762                       0.283899   \n",
       "2                         3.372857                       0.291788   \n",
       "\n",
       "   Cost per 1,000 People Reached (USD)  Website Registrations Completed  \\\n",
       "0                            20.526316                              NaN   \n",
       "1                            14.981555                              NaN   \n",
       "2                            11.724880                              NaN   \n",
       "\n",
       "   Website Leads  Post Shares  Post Comments  Post Reactions  \\\n",
       "0            NaN          1.0            NaN             5.0   \n",
       "1            NaN         30.0            8.0           258.0   \n",
       "2            5.0         50.0           18.0           283.0   \n",
       "\n",
       "   Cost per Website Registration Completed (USD)  Cost per Website Lead (USD)  \n",
       "0                                            NaN                          NaN  \n",
       "1                                            NaN                          NaN  \n",
       "2                                            NaN                       14.166  "
      ]
     },
     "execution_count": 1197,
     "metadata": {},
     "output_type": "execute_result"
    }
   ],
   "source": [
    "fb_df = pd.read_csv('Analytics___Data_Science_Summer_Associate_Exercise_Data.csv')\n",
    "fb_df['Ad Set Name'] = fb_df['Ad Set Name'].str.replace('Ad Set', '')\n",
    "fb_df['Ad Set Name'] = fb_df['Ad Set Name'].astype(int)\n",
    "\n",
    "# print(fb_df.shape)\n",
    "# print(fb_df.isna().sum())\n",
    "\n",
    "fb_df.head(3)"
   ]
  },
  {
   "cell_type": "code",
   "execution_count": 1198,
   "metadata": {},
   "outputs": [],
   "source": [
    "# fb_df['Ad Set Name'].value_counts()"
   ]
  },
  {
   "cell_type": "code",
   "execution_count": 1199,
   "metadata": {},
   "outputs": [],
   "source": [
    "# fb_df['Amount Spent (USD)'].sum()"
   ]
  },
  {
   "cell_type": "code",
   "execution_count": 1203,
   "metadata": {},
   "outputs": [
    {
     "data": {
      "text/html": [
       "<div>\n",
       "<style scoped>\n",
       "    .dataframe tbody tr th:only-of-type {\n",
       "        vertical-align: middle;\n",
       "    }\n",
       "\n",
       "    .dataframe tbody tr th {\n",
       "        vertical-align: top;\n",
       "    }\n",
       "\n",
       "    .dataframe thead th {\n",
       "        text-align: right;\n",
       "    }\n",
       "</style>\n",
       "<table border=\"1\" class=\"dataframe\">\n",
       "  <thead>\n",
       "    <tr style=\"text-align: right;\">\n",
       "      <th></th>\n",
       "      <th>Ad Set Name</th>\n",
       "      <th>Reach</th>\n",
       "      <th>Frequency</th>\n",
       "      <th>Amount Spent (USD)</th>\n",
       "      <th>Impressions</th>\n",
       "      <th>CPM (Cost per 1,000 Impressions) (USD)</th>\n",
       "      <th>Link Clicks</th>\n",
       "      <th>CPC (Cost per Link Click) (USD)</th>\n",
       "      <th>CTR (Link Click-Through Rate)</th>\n",
       "      <th>Cost per 1,000 People Reached (USD)</th>\n",
       "      <th>Website Registrations Completed</th>\n",
       "      <th>Website Leads</th>\n",
       "      <th>Post Shares</th>\n",
       "      <th>Post Comments</th>\n",
       "      <th>Post Reactions</th>\n",
       "      <th>Cost per Website Registration Completed (USD)</th>\n",
       "      <th>Cost per Website Lead (USD)</th>\n",
       "    </tr>\n",
       "  </thead>\n",
       "  <tbody>\n",
       "    <tr>\n",
       "      <th>0</th>\n",
       "      <td>36</td>\n",
       "      <td>17332</td>\n",
       "      <td>6.666229</td>\n",
       "      <td>554.19</td>\n",
       "      <td>18765</td>\n",
       "      <td>185.413652</td>\n",
       "      <td>165.0</td>\n",
       "      <td>25.195491</td>\n",
       "      <td>4.855476</td>\n",
       "      <td>205.633124</td>\n",
       "      <td>5.0</td>\n",
       "      <td>20.0</td>\n",
       "      <td>5.0</td>\n",
       "      <td>3.0</td>\n",
       "      <td>32.0</td>\n",
       "      <td>326.446667</td>\n",
       "      <td>137.132000</td>\n",
       "    </tr>\n",
       "    <tr>\n",
       "      <th>1</th>\n",
       "      <td>35</td>\n",
       "      <td>2302</td>\n",
       "      <td>6.069965</td>\n",
       "      <td>87.48</td>\n",
       "      <td>2332</td>\n",
       "      <td>227.541597</td>\n",
       "      <td>9.0</td>\n",
       "      <td>49.965000</td>\n",
       "      <td>5.879032</td>\n",
       "      <td>230.373955</td>\n",
       "      <td>0.0</td>\n",
       "      <td>1.0</td>\n",
       "      <td>1.0</td>\n",
       "      <td>0.0</td>\n",
       "      <td>3.0</td>\n",
       "      <td>0.000000</td>\n",
       "      <td>13.250000</td>\n",
       "    </tr>\n",
       "    <tr>\n",
       "      <th>2</th>\n",
       "      <td>34</td>\n",
       "      <td>6064</td>\n",
       "      <td>6.523927</td>\n",
       "      <td>102.45</td>\n",
       "      <td>6147</td>\n",
       "      <td>93.794974</td>\n",
       "      <td>13.0</td>\n",
       "      <td>32.256500</td>\n",
       "      <td>0.856617</td>\n",
       "      <td>100.304384</td>\n",
       "      <td>2.0</td>\n",
       "      <td>5.0</td>\n",
       "      <td>10.0</td>\n",
       "      <td>6.0</td>\n",
       "      <td>89.0</td>\n",
       "      <td>62.170000</td>\n",
       "      <td>56.695000</td>\n",
       "    </tr>\n",
       "    <tr>\n",
       "      <th>3</th>\n",
       "      <td>33</td>\n",
       "      <td>48128</td>\n",
       "      <td>7.134516</td>\n",
       "      <td>1663.40</td>\n",
       "      <td>56956</td>\n",
       "      <td>296.235306</td>\n",
       "      <td>1115.0</td>\n",
       "      <td>13.479817</td>\n",
       "      <td>9.027207</td>\n",
       "      <td>222.367411</td>\n",
       "      <td>30.0</td>\n",
       "      <td>261.0</td>\n",
       "      <td>12.0</td>\n",
       "      <td>20.0</td>\n",
       "      <td>53.0</td>\n",
       "      <td>170.884509</td>\n",
       "      <td>61.896798</td>\n",
       "    </tr>\n",
       "    <tr>\n",
       "      <th>4</th>\n",
       "      <td>32</td>\n",
       "      <td>25560</td>\n",
       "      <td>6.790768</td>\n",
       "      <td>807.54</td>\n",
       "      <td>27624</td>\n",
       "      <td>228.307528</td>\n",
       "      <td>298.0</td>\n",
       "      <td>20.310040</td>\n",
       "      <td>5.899207</td>\n",
       "      <td>212.658865</td>\n",
       "      <td>6.0</td>\n",
       "      <td>43.0</td>\n",
       "      <td>19.0</td>\n",
       "      <td>7.0</td>\n",
       "      <td>40.0</td>\n",
       "      <td>202.403333</td>\n",
       "      <td>101.161333</td>\n",
       "    </tr>\n",
       "  </tbody>\n",
       "</table>\n",
       "</div>"
      ],
      "text/plain": [
       "   Ad Set Name  Reach  Frequency  Amount Spent (USD)  Impressions  \\\n",
       "0           36  17332   6.666229              554.19        18765   \n",
       "1           35   2302   6.069965               87.48         2332   \n",
       "2           34   6064   6.523927              102.45         6147   \n",
       "3           33  48128   7.134516             1663.40        56956   \n",
       "4           32  25560   6.790768              807.54        27624   \n",
       "\n",
       "   CPM (Cost per 1,000 Impressions) (USD)  Link Clicks  \\\n",
       "0                              185.413652        165.0   \n",
       "1                              227.541597          9.0   \n",
       "2                               93.794974         13.0   \n",
       "3                              296.235306       1115.0   \n",
       "4                              228.307528        298.0   \n",
       "\n",
       "   CPC (Cost per Link Click) (USD)  CTR (Link Click-Through Rate)  \\\n",
       "0                        25.195491                       4.855476   \n",
       "1                        49.965000                       5.879032   \n",
       "2                        32.256500                       0.856617   \n",
       "3                        13.479817                       9.027207   \n",
       "4                        20.310040                       5.899207   \n",
       "\n",
       "   Cost per 1,000 People Reached (USD)  Website Registrations Completed  \\\n",
       "0                           205.633124                              5.0   \n",
       "1                           230.373955                              0.0   \n",
       "2                           100.304384                              2.0   \n",
       "3                           222.367411                             30.0   \n",
       "4                           212.658865                              6.0   \n",
       "\n",
       "   Website Leads  Post Shares  Post Comments  Post Reactions  \\\n",
       "0           20.0          5.0            3.0            32.0   \n",
       "1            1.0          1.0            0.0             3.0   \n",
       "2            5.0         10.0            6.0            89.0   \n",
       "3          261.0         12.0           20.0            53.0   \n",
       "4           43.0         19.0            7.0            40.0   \n",
       "\n",
       "   Cost per Website Registration Completed (USD)  Cost per Website Lead (USD)  \n",
       "0                                     326.446667                   137.132000  \n",
       "1                                       0.000000                    13.250000  \n",
       "2                                      62.170000                    56.695000  \n",
       "3                                     170.884509                    61.896798  \n",
       "4                                     202.403333                   101.161333  "
      ]
     },
     "execution_count": 1203,
     "metadata": {},
     "output_type": "execute_result"
    }
   ],
   "source": [
    "grouped = fb_df.groupby('Ad Set Name')\n",
    "\n",
    "grouped = pd.DataFrame(grouped.sum())\n",
    "\n",
    "\n",
    "grouped = grouped.sort_values('Ad Set Name', ascending=False)\n",
    "# grouped['Cost per Registration'] = grouped['Amount Spent (USD)']/grouped['Website Registrations Completed']\n",
    "\n",
    "grouped = grouped.reset_index()\n",
    "\n",
    "grouped.head()"
   ]
  },
  {
   "cell_type": "code",
   "execution_count": 1208,
   "metadata": {},
   "outputs": [
    {
     "data": {
      "image/png": "[encoded data removed]",
      "text/plain": [
       "<Figure size 864x432 with 1 Axes>"
      ]
     },
     "metadata": {
      "needs_background": "light"
     },
     "output_type": "display_data"
    }
   ],
   "source": [
    "plt.figure(figsize=(12,6))\n",
    "sns.barplot(grouped['Ad Set Name'], grouped['Amount Spent (USD)'].sort_values(ascending=False), color='lightcoral')\n",
    "# plt.title('Amount spent by Ad set')\n",
    "plt.ylabel('Amount Spent (USD)', fontsize=14)\n",
    "plt.xlabel('Ad Set Name', fontsize=14)\n",
    "\n",
    "plt.show()"
   ]
  },
  {
   "cell_type": "code",
   "execution_count": 1209,
   "metadata": {},
   "outputs": [
    {
     "name": "stdout",
     "output_type": "stream",
     "text": [
      "Stored 'grouped' (DataFrame)\n"
     ]
    }
   ],
   "source": [
    "%store grouped\n"
   ]
  },
  {
   "cell_type": "code",
   "execution_count": 1211,
   "metadata": {},
   "outputs": [],
   "source": [
    "#comment - 6, 1, 49\n",
    "#shares 6, 1, 31\n",
    "#reactions 1, 5, 24\n",
    "#leads = 13,6,33"
   ]
  },
  {
   "cell_type": "code",
   "execution_count": 1213,
   "metadata": {},
   "outputs": [
    {
     "data": {
      "text/plain": [
       "30071.42"
      ]
     },
     "execution_count": 1213,
     "metadata": {},
     "output_type": "execute_result"
    }
   ],
   "source": [
    "#Total Amount Spent\n",
    "\n",
    "grouped['Amount Spent (USD)'].sum()"
   ]
  },
  {
   "cell_type": "code",
   "execution_count": 1214,
   "metadata": {},
   "outputs": [
    {
     "data": {
      "text/html": [
       "<div>\n",
       "<style scoped>\n",
       "    .dataframe tbody tr th:only-of-type {\n",
       "        vertical-align: middle;\n",
       "    }\n",
       "\n",
       "    .dataframe tbody tr th {\n",
       "        vertical-align: top;\n",
       "    }\n",
       "\n",
       "    .dataframe thead th {\n",
       "        text-align: right;\n",
       "    }\n",
       "</style>\n",
       "<table border=\"1\" class=\"dataframe\">\n",
       "  <thead>\n",
       "    <tr style=\"text-align: right;\">\n",
       "      <th></th>\n",
       "      <th>Ad Set Name</th>\n",
       "      <th>Reach</th>\n",
       "      <th>Frequency</th>\n",
       "      <th>Amount Spent (USD)</th>\n",
       "      <th>Impressions</th>\n",
       "      <th>CPM (Cost per 1,000 Impressions) (USD)</th>\n",
       "      <th>Link Clicks</th>\n",
       "      <th>CPC (Cost per Link Click) (USD)</th>\n",
       "      <th>CTR (Link Click-Through Rate)</th>\n",
       "      <th>Cost per 1,000 People Reached (USD)</th>\n",
       "      <th>Website Registrations Completed</th>\n",
       "      <th>Website Leads</th>\n",
       "      <th>Post Shares</th>\n",
       "      <th>Post Comments</th>\n",
       "      <th>Post Reactions</th>\n",
       "      <th>Cost per Website Registration Completed (USD)</th>\n",
       "      <th>Cost per Website Lead (USD)</th>\n",
       "    </tr>\n",
       "  </thead>\n",
       "  <tbody>\n",
       "    <tr>\n",
       "      <th>0</th>\n",
       "      <td>36</td>\n",
       "      <td>17332</td>\n",
       "      <td>6.666229</td>\n",
       "      <td>554.19</td>\n",
       "      <td>18765</td>\n",
       "      <td>185.413652</td>\n",
       "      <td>165.0</td>\n",
       "      <td>25.195491</td>\n",
       "      <td>4.855476</td>\n",
       "      <td>205.633124</td>\n",
       "      <td>5.0</td>\n",
       "      <td>20.0</td>\n",
       "      <td>5.0</td>\n",
       "      <td>3.0</td>\n",
       "      <td>32.0</td>\n",
       "      <td>326.446667</td>\n",
       "      <td>137.132</td>\n",
       "    </tr>\n",
       "    <tr>\n",
       "      <th>1</th>\n",
       "      <td>35</td>\n",
       "      <td>2302</td>\n",
       "      <td>6.069965</td>\n",
       "      <td>87.48</td>\n",
       "      <td>2332</td>\n",
       "      <td>227.541597</td>\n",
       "      <td>9.0</td>\n",
       "      <td>49.965000</td>\n",
       "      <td>5.879032</td>\n",
       "      <td>230.373955</td>\n",
       "      <td>0.0</td>\n",
       "      <td>1.0</td>\n",
       "      <td>1.0</td>\n",
       "      <td>0.0</td>\n",
       "      <td>3.0</td>\n",
       "      <td>0.000000</td>\n",
       "      <td>13.250</td>\n",
       "    </tr>\n",
       "  </tbody>\n",
       "</table>\n",
       "</div>"
      ],
      "text/plain": [
       "   Ad Set Name  Reach  Frequency  Amount Spent (USD)  Impressions  \\\n",
       "0           36  17332   6.666229              554.19        18765   \n",
       "1           35   2302   6.069965               87.48         2332   \n",
       "\n",
       "   CPM (Cost per 1,000 Impressions) (USD)  Link Clicks  \\\n",
       "0                              185.413652        165.0   \n",
       "1                              227.541597          9.0   \n",
       "\n",
       "   CPC (Cost per Link Click) (USD)  CTR (Link Click-Through Rate)  \\\n",
       "0                        25.195491                       4.855476   \n",
       "1                        49.965000                       5.879032   \n",
       "\n",
       "   Cost per 1,000 People Reached (USD)  Website Registrations Completed  \\\n",
       "0                           205.633124                              5.0   \n",
       "1                           230.373955                              0.0   \n",
       "\n",
       "   Website Leads  Post Shares  Post Comments  Post Reactions  \\\n",
       "0           20.0          5.0            3.0            32.0   \n",
       "1            1.0          1.0            0.0             3.0   \n",
       "\n",
       "   Cost per Website Registration Completed (USD)  Cost per Website Lead (USD)  \n",
       "0                                     326.446667                      137.132  \n",
       "1                                       0.000000                       13.250  "
      ]
     },
     "execution_count": 1214,
     "metadata": {},
     "output_type": "execute_result"
    }
   ],
   "source": [
    "grouped.head(2)"
   ]
  },
  {
   "cell_type": "code",
   "execution_count": 1215,
   "metadata": {},
   "outputs": [
    {
     "data": {
      "image/png": "[encoded data removed]",
      "text/plain": [
       "<Figure size 576x432 with 1 Axes>"
      ]
     },
     "metadata": {
      "needs_background": "light"
     },
     "output_type": "display_data"
    }
   ],
   "source": [
    "plt.figure(figsize=(8,6))\n",
    "\n",
    "# sns.lineplot(grouped['Website Registrations Completed'], \n",
    "#              grouped['Cost per Website Lead (USD)'], color='r' , label='Cost per Website Lead')\n",
    "sns.lineplot(grouped['Website Registrations Completed'], \n",
    "              grouped['Cost per 1,000 People Reached (USD)'], color='darkgreen',\n",
    "            label='Cost per 1,000 People Reached')\n",
    "sns.lineplot(grouped['Website Registrations Completed'],\n",
    "    grouped['CPM (Cost per 1,000 Impressions) (USD)'], color='R', label='Cost per 1,000 impressions' )\n",
    "\n",
    "\n",
    "plt.xlabel('Acquired Customers', fontsize=15)\n",
    "plt.ylabel('Cost (USD)', fontsize=15)\n",
    "plt.yticks(np.arange(0, 500, step=50))\n",
    "\n",
    "plt.legend()\n",
    "plt.show()"
   ]
  },
  {
   "cell_type": "code",
   "execution_count": 1216,
   "metadata": {},
   "outputs": [
    {
     "data": {
      "image/png": "[encoded data removed]",
      "text/plain": [
       "<Figure size 576x432 with 1 Axes>"
      ]
     },
     "metadata": {
      "needs_background": "light"
     },
     "output_type": "display_data"
    }
   ],
   "source": [
    "plt.figure(figsize=(8,6))\n",
    "\n",
    "\n",
    "sns.lineplot(grouped['Amount Spent (USD)'], grouped['Website Registrations Completed'], color='r', \n",
    "             label='Amount spent' )\n",
    "\n",
    "plt.ylabel('Website Registration Completed', fontsize=12)\n",
    "plt.xlabel('Amount Spent(USD)', fontsize=12)\n",
    "# plt.xticks(np.arange(0, 3000, step=5000))\n",
    "\n",
    "legend = plt.legend()\n"
   ]
  },
  {
   "cell_type": "code",
   "execution_count": null,
   "metadata": {},
   "outputs": [],
   "source": []
  },
  {
   "cell_type": "code",
   "execution_count": 1217,
   "metadata": {},
   "outputs": [
    {
     "data": {
      "image/png": "[encoded data removed]",
      "text/plain": [
       "<Figure size 720x432 with 1 Axes>"
      ]
     },
     "metadata": {
      "needs_background": "light"
     },
     "output_type": "display_data"
    }
   ],
   "source": [
    "\n",
    "plt.figure(figsize=(10,6))\n",
    "sns.barplot(grouped['Ad Set Name'], grouped.Reach, color='seagreen')\n",
    "plt.ylabel('Reach', fontsize=14)\n",
    "plt.xlabel('Ad Set Name', fontsize=14)\n",
    "\n",
    "plt.show()\n",
    "\n",
    "# plt.title('Number of People Reached', fontsize=15)"
   ]
  },
  {
   "cell_type": "markdown",
   "metadata": {},
   "source": [
    "Ad set 6 is the most reaching ad set reaching over 140,000 fb users\n",
    "Ad set 13 comes second with a little over 1000,000 fb users\n",
    "24, 31, 9, 33, 4, 18\n",
    "\n",
    "\n",
    "ad set 15 did not reach anyone"
   ]
  },
  {
   "cell_type": "markdown",
   "metadata": {},
   "source": [
    "# Frequencey"
   ]
  },
  {
   "cell_type": "markdown",
   "metadata": {},
   "source": [
    "● Frequency: how many times, on average, someone within the ad set audience was\n",
    "reached during the duration of the campaign"
   ]
  },
  {
   "cell_type": "code",
   "execution_count": 1218,
   "metadata": {},
   "outputs": [
    {
     "data": {
      "text/plain": [
       "count    36.000000\n",
       "mean      7.269918\n",
       "std       1.858725\n",
       "min       6.000000\n",
       "25%       6.152735\n",
       "50%       6.809453\n",
       "75%       7.392876\n",
       "max      15.004256\n",
       "Name: Frequency, dtype: float64"
      ]
     },
     "execution_count": 1218,
     "metadata": {},
     "output_type": "execute_result"
    }
   ],
   "source": [
    "grouped.Frequency.describe()"
   ]
  },
  {
   "cell_type": "code",
   "execution_count": 1219,
   "metadata": {},
   "outputs": [
    {
     "data": {
      "text/html": [
       "<div>\n",
       "<style scoped>\n",
       "    .dataframe tbody tr th:only-of-type {\n",
       "        vertical-align: middle;\n",
       "    }\n",
       "\n",
       "    .dataframe tbody tr th {\n",
       "        vertical-align: top;\n",
       "    }\n",
       "\n",
       "    .dataframe thead th {\n",
       "        text-align: right;\n",
       "    }\n",
       "</style>\n",
       "<table border=\"1\" class=\"dataframe\">\n",
       "  <thead>\n",
       "    <tr style=\"text-align: right;\">\n",
       "      <th></th>\n",
       "      <th>Ad Set Name</th>\n",
       "      <th>Reach</th>\n",
       "      <th>Frequency</th>\n",
       "      <th>Amount Spent (USD)</th>\n",
       "      <th>Impressions</th>\n",
       "      <th>CPM (Cost per 1,000 Impressions) (USD)</th>\n",
       "      <th>Link Clicks</th>\n",
       "      <th>CPC (Cost per Link Click) (USD)</th>\n",
       "      <th>CTR (Link Click-Through Rate)</th>\n",
       "      <th>Cost per 1,000 People Reached (USD)</th>\n",
       "      <th>Website Registrations Completed</th>\n",
       "      <th>Website Leads</th>\n",
       "      <th>Post Shares</th>\n",
       "      <th>Post Comments</th>\n",
       "      <th>Post Reactions</th>\n",
       "      <th>Cost per Website Registration Completed (USD)</th>\n",
       "      <th>Cost per Website Lead (USD)</th>\n",
       "    </tr>\n",
       "  </thead>\n",
       "  <tbody>\n",
       "    <tr>\n",
       "      <th>0</th>\n",
       "      <td>36</td>\n",
       "      <td>17332</td>\n",
       "      <td>6.666229</td>\n",
       "      <td>554.19</td>\n",
       "      <td>18765</td>\n",
       "      <td>185.413652</td>\n",
       "      <td>165.0</td>\n",
       "      <td>25.195491</td>\n",
       "      <td>4.855476</td>\n",
       "      <td>205.633124</td>\n",
       "      <td>5.0</td>\n",
       "      <td>20.0</td>\n",
       "      <td>5.0</td>\n",
       "      <td>3.0</td>\n",
       "      <td>32.0</td>\n",
       "      <td>326.446667</td>\n",
       "      <td>137.132000</td>\n",
       "    </tr>\n",
       "    <tr>\n",
       "      <th>1</th>\n",
       "      <td>35</td>\n",
       "      <td>2302</td>\n",
       "      <td>6.069965</td>\n",
       "      <td>87.48</td>\n",
       "      <td>2332</td>\n",
       "      <td>227.541597</td>\n",
       "      <td>9.0</td>\n",
       "      <td>49.965000</td>\n",
       "      <td>5.879032</td>\n",
       "      <td>230.373955</td>\n",
       "      <td>0.0</td>\n",
       "      <td>1.0</td>\n",
       "      <td>1.0</td>\n",
       "      <td>0.0</td>\n",
       "      <td>3.0</td>\n",
       "      <td>0.000000</td>\n",
       "      <td>13.250000</td>\n",
       "    </tr>\n",
       "    <tr>\n",
       "      <th>2</th>\n",
       "      <td>34</td>\n",
       "      <td>6064</td>\n",
       "      <td>6.523927</td>\n",
       "      <td>102.45</td>\n",
       "      <td>6147</td>\n",
       "      <td>93.794974</td>\n",
       "      <td>13.0</td>\n",
       "      <td>32.256500</td>\n",
       "      <td>0.856617</td>\n",
       "      <td>100.304384</td>\n",
       "      <td>2.0</td>\n",
       "      <td>5.0</td>\n",
       "      <td>10.0</td>\n",
       "      <td>6.0</td>\n",
       "      <td>89.0</td>\n",
       "      <td>62.170000</td>\n",
       "      <td>56.695000</td>\n",
       "    </tr>\n",
       "    <tr>\n",
       "      <th>3</th>\n",
       "      <td>33</td>\n",
       "      <td>48128</td>\n",
       "      <td>7.134516</td>\n",
       "      <td>1663.40</td>\n",
       "      <td>56956</td>\n",
       "      <td>296.235306</td>\n",
       "      <td>1115.0</td>\n",
       "      <td>13.479817</td>\n",
       "      <td>9.027207</td>\n",
       "      <td>222.367411</td>\n",
       "      <td>30.0</td>\n",
       "      <td>261.0</td>\n",
       "      <td>12.0</td>\n",
       "      <td>20.0</td>\n",
       "      <td>53.0</td>\n",
       "      <td>170.884509</td>\n",
       "      <td>61.896798</td>\n",
       "    </tr>\n",
       "    <tr>\n",
       "      <th>4</th>\n",
       "      <td>32</td>\n",
       "      <td>25560</td>\n",
       "      <td>6.790768</td>\n",
       "      <td>807.54</td>\n",
       "      <td>27624</td>\n",
       "      <td>228.307528</td>\n",
       "      <td>298.0</td>\n",
       "      <td>20.310040</td>\n",
       "      <td>5.899207</td>\n",
       "      <td>212.658865</td>\n",
       "      <td>6.0</td>\n",
       "      <td>43.0</td>\n",
       "      <td>19.0</td>\n",
       "      <td>7.0</td>\n",
       "      <td>40.0</td>\n",
       "      <td>202.403333</td>\n",
       "      <td>101.161333</td>\n",
       "    </tr>\n",
       "  </tbody>\n",
       "</table>\n",
       "</div>"
      ],
      "text/plain": [
       "   Ad Set Name  Reach  Frequency  Amount Spent (USD)  Impressions  \\\n",
       "0           36  17332   6.666229              554.19        18765   \n",
       "1           35   2302   6.069965               87.48         2332   \n",
       "2           34   6064   6.523927              102.45         6147   \n",
       "3           33  48128   7.134516             1663.40        56956   \n",
       "4           32  25560   6.790768              807.54        27624   \n",
       "\n",
       "   CPM (Cost per 1,000 Impressions) (USD)  Link Clicks  \\\n",
       "0                              185.413652        165.0   \n",
       "1                              227.541597          9.0   \n",
       "2                               93.794974         13.0   \n",
       "3                              296.235306       1115.0   \n",
       "4                              228.307528        298.0   \n",
       "\n",
       "   CPC (Cost per Link Click) (USD)  CTR (Link Click-Through Rate)  \\\n",
       "0                        25.195491                       4.855476   \n",
       "1                        49.965000                       5.879032   \n",
       "2                        32.256500                       0.856617   \n",
       "3                        13.479817                       9.027207   \n",
       "4                        20.310040                       5.899207   \n",
       "\n",
       "   Cost per 1,000 People Reached (USD)  Website Registrations Completed  \\\n",
       "0                           205.633124                              5.0   \n",
       "1                           230.373955                              0.0   \n",
       "2                           100.304384                              2.0   \n",
       "3                           222.367411                             30.0   \n",
       "4                           212.658865                              6.0   \n",
       "\n",
       "   Website Leads  Post Shares  Post Comments  Post Reactions  \\\n",
       "0           20.0          5.0            3.0            32.0   \n",
       "1            1.0          1.0            0.0             3.0   \n",
       "2            5.0         10.0            6.0            89.0   \n",
       "3          261.0         12.0           20.0            53.0   \n",
       "4           43.0         19.0            7.0            40.0   \n",
       "\n",
       "   Cost per Website Registration Completed (USD)  Cost per Website Lead (USD)  \n",
       "0                                     326.446667                   137.132000  \n",
       "1                                       0.000000                    13.250000  \n",
       "2                                      62.170000                    56.695000  \n",
       "3                                     170.884509                    61.896798  \n",
       "4                                     202.403333                   101.161333  "
      ]
     },
     "execution_count": 1219,
     "metadata": {},
     "output_type": "execute_result"
    }
   ],
   "source": [
    "grouped.head()"
   ]
  },
  {
   "cell_type": "code",
   "execution_count": 1220,
   "metadata": {},
   "outputs": [
    {
     "data": {
      "text/plain": [
       "count    36.000000\n",
       "mean      7.269918\n",
       "std       1.858725\n",
       "min       6.000000\n",
       "25%       6.152735\n",
       "50%       6.809453\n",
       "75%       7.392876\n",
       "max      15.004256\n",
       "Name: Frequency, dtype: float64"
      ]
     },
     "execution_count": 1220,
     "metadata": {},
     "output_type": "execute_result"
    }
   ],
   "source": [
    "grouped.Frequency.describe(\n",
    ")"
   ]
  },
  {
   "cell_type": "code",
   "execution_count": 1221,
   "metadata": {},
   "outputs": [
    {
     "data": {
      "text/plain": [
       "Text(0.5, 0, 'Website Registrations Completed')"
      ]
     },
     "execution_count": 1221,
     "metadata": {},
     "output_type": "execute_result"
    },
    {
     "data": {
      "image/png": "[encoded data removed]",
      "text/plain": [
       "<Figure size 504x360 with 1 Axes>"
      ]
     },
     "metadata": {
      "needs_background": "light"
     },
     "output_type": "display_data"
    }
   ],
   "source": [
    "plt.figure(figsize=(7,5))\n",
    "\n",
    "sns.scatterplot(grouped['Website Registrations Completed'],grouped['Amount Spent (USD)'], color='seagreen', \n",
    "             )\n",
    "\n",
    "plt.ylabel('Amount Spent(USD)', fontsize=13)\n",
    "plt.xlabel('Website Registrations Completed', fontsize=13)\n"
   ]
  },
  {
   "cell_type": "code",
   "execution_count": 1222,
   "metadata": {},
   "outputs": [
    {
     "data": {
      "image/png": "[encoded data removed]",
      "text/plain": [
       "<Figure size 504x360 with 1 Axes>"
      ]
     },
     "metadata": {
      "needs_background": "light"
     },
     "output_type": "display_data"
    }
   ],
   "source": [
    "plt.figure(figsize=(7,5))\n",
    "\n",
    "sns.distplot(grouped['Frequency'], color='darkgreen' \n",
    "             )\n",
    "\n",
    "# plt.ylabel('Amount Spent(USD)', fontsize=13)\n",
    "plt.xlabel('Frequency', fontsize=13)\n",
    "#plt.title('Registrations by Sets of Ads', fontsize=16)\n",
    "plt.show()"
   ]
  },
  {
   "cell_type": "code",
   "execution_count": 1223,
   "metadata": {},
   "outputs": [
    {
     "name": "stdout",
     "output_type": "stream",
     "text": [
      "AxesSubplot(0.125,0.125;0.775x0.755)\n"
     ]
    },
    {
     "data": {
      "image/png": "[encoded data removed]",
      "text/plain": [
       "<Figure size 720x576 with 1 Axes>"
      ]
     },
     "metadata": {
      "needs_background": "light"
     },
     "output_type": "display_data"
    }
   ],
   "source": [
    "plt.figure(figsize=(10,8))\n",
    "\n",
    "print(sns.barplot(grouped['Ad Set Name'], grouped.Frequency, color='seagreen'))\n",
    "\n",
    "# print(sns.distplot(grouped.Frequency, bins=10))"
   ]
  },
  {
   "cell_type": "markdown",
   "metadata": {},
   "source": [
    "# Amount Spent During Campaign "
   ]
  },
  {
   "cell_type": "markdown",
   "metadata": {},
   "source": [
    "● Amount Spend: dollars spent during duration of campaign\n"
   ]
  },
  {
   "cell_type": "code",
   "execution_count": 1224,
   "metadata": {},
   "outputs": [
    {
     "data": {
      "text/plain": [
       "count      36.000000\n",
       "mean      835.317222\n",
       "std      1082.801694\n",
       "min        15.590000\n",
       "25%       214.720000\n",
       "50%       376.175000\n",
       "75%       991.107500\n",
       "max      4579.480000\n",
       "Name: Amount Spent (USD), dtype: float64"
      ]
     },
     "execution_count": 1224,
     "metadata": {},
     "output_type": "execute_result"
    }
   ],
   "source": [
    "grouped['Amount Spent (USD)'].describe()"
   ]
  },
  {
   "cell_type": "code",
   "execution_count": null,
   "metadata": {},
   "outputs": [],
   "source": []
  },
  {
   "cell_type": "code",
   "execution_count": null,
   "metadata": {},
   "outputs": [],
   "source": []
  },
  {
   "cell_type": "markdown",
   "metadata": {},
   "source": [
    "# Imperessions"
   ]
  },
  {
   "cell_type": "markdown",
   "metadata": {},
   "source": [
    "Impressions: number of times the ad appeared in front of someone"
   ]
  },
  {
   "cell_type": "code",
   "execution_count": null,
   "metadata": {},
   "outputs": [],
   "source": []
  },
  {
   "cell_type": "code",
   "execution_count": 1225,
   "metadata": {},
   "outputs": [
    {
     "data": {
      "text/plain": [
       "count        36.000000\n",
       "mean      31347.166667\n",
       "std       42799.301376\n",
       "min         406.000000\n",
       "25%        6694.750000\n",
       "50%       15435.500000\n",
       "75%       32354.500000\n",
       "max      207604.000000\n",
       "Name: Impressions, dtype: float64"
      ]
     },
     "execution_count": 1225,
     "metadata": {},
     "output_type": "execute_result"
    }
   ],
   "source": [
    "grouped.Impressions.describe()"
   ]
  },
  {
   "cell_type": "code",
   "execution_count": null,
   "metadata": {},
   "outputs": [],
   "source": [
    "plt.figure(figsize=(11, 6))\n",
    "\n",
    "sns.barplot(grouped['Ad Set Name'], grouped.Impressions.sort_values(ascending=True),  color='seagreen')\n",
    "\n",
    "# plt.title('Impressions number')\n",
    "plt.xlabel('Ad Sets', fontsize=16)\n",
    "plt.ylabel('Impressions', fontsize=16)"
   ]
  },
  {
   "cell_type": "code",
   "execution_count": null,
   "metadata": {},
   "outputs": [],
   "source": []
  },
  {
   "cell_type": "markdown",
   "metadata": {},
   "source": [
    "# CTR (Link Click-Through Rate)"
   ]
  },
  {
   "cell_type": "code",
   "execution_count": null,
   "metadata": {},
   "outputs": [],
   "source": [
    "grouped['CTR (Link Click-Through Rate)'].describe()"
   ]
  },
  {
   "cell_type": "code",
   "execution_count": null,
   "metadata": {},
   "outputs": [],
   "source": [
    "plt.figure(figsize=(10, 5))\n",
    "\n",
    "#sns.barplot(grouped['Ad Set Name'], grouped['CTR (Link Click-Through Rate)'], color='seagreen')\n",
    "\n",
    "sns.distplot(grouped['CTR (Link Click-Through Rate)'])\n",
    "# number of link clicks divided by number of ad impressions (not reach)"
   ]
  },
  {
   "cell_type": "code",
   "execution_count": null,
   "metadata": {},
   "outputs": [],
   "source": [
    "grouped.sort_values('Post Shares', ascending=False)"
   ]
  },
  {
   "cell_type": "markdown",
   "metadata": {},
   "source": [
    "# Post Shares"
   ]
  },
  {
   "cell_type": "code",
   "execution_count": null,
   "metadata": {},
   "outputs": [],
   "source": [
    "grouped['Post Shares'].describe()"
   ]
  },
  {
   "cell_type": "code",
   "execution_count": null,
   "metadata": {},
   "outputs": [],
   "source": [
    "plt.figure(figsize=(10,8))\n",
    "sns.barplot(grouped['Ad Set Name'], grouped['Post Shares'], color='seagreen')\n",
    "\n",
    "#6, 1,31, 24,"
   ]
  },
  {
   "cell_type": "markdown",
   "metadata": {},
   "source": [
    "# Post Comments"
   ]
  },
  {
   "cell_type": "code",
   "execution_count": null,
   "metadata": {},
   "outputs": [],
   "source": [
    "grouped['Post Comments'].describe()"
   ]
  },
  {
   "cell_type": "code",
   "execution_count": null,
   "metadata": {},
   "outputs": [],
   "source": [
    "plt.figure(figsize=(10,6))\n",
    "sns.barplot(grouped['Ad Set Name'], grouped['Post Comments'], color='seagreen')\n",
    "\n"
   ]
  },
  {
   "cell_type": "markdown",
   "metadata": {},
   "source": [
    "# Most interactable ads"
   ]
  },
  {
   "cell_type": "code",
   "execution_count": 958,
   "metadata": {},
   "outputs": [],
   "source": [
    "grouped = grouped.sort_values('Ad Set Name', ascending=True)"
   ]
  },
  {
   "cell_type": "code",
   "execution_count": 959,
   "metadata": {},
   "outputs": [
    {
     "name": "stdout",
     "output_type": "stream",
     "text": [
      "<class 'pandas.core.frame.DataFrame'>\n",
      "Int64Index: 36 entries, 20 to 12\n",
      "Data columns (total 17 columns):\n",
      " #   Column                                         Non-Null Count  Dtype  \n",
      "---  ------                                         --------------  -----  \n",
      " 0   Ad Set Name                                    36 non-null     int64  \n",
      " 1   Reach                                          36 non-null     int64  \n",
      " 2   Frequency                                      36 non-null     float64\n",
      " 3   Amount Spent (USD)                             36 non-null     float64\n",
      " 4   Impressions                                    36 non-null     int64  \n",
      " 5   CPM (Cost per 1,000 Impressions) (USD)         36 non-null     float64\n",
      " 6   Link Clicks                                    36 non-null     float64\n",
      " 7   CPC (Cost per Link Click) (USD)                36 non-null     float64\n",
      " 8   CTR (Link Click-Through Rate)                  36 non-null     float64\n",
      " 9   Cost per 1,000 People Reached (USD)            36 non-null     float64\n",
      " 10  Website Registrations Completed                36 non-null     float64\n",
      " 11  Website Leads                                  36 non-null     float64\n",
      " 12  Post Shares                                    36 non-null     float64\n",
      " 13  Post Comments                                  36 non-null     float64\n",
      " 14  Post Reactions                                 36 non-null     float64\n",
      " 15  Cost per Website Registration Completed (USD)  36 non-null     float64\n",
      " 16  Cost per Website Lead (USD)                    36 non-null     float64\n",
      "dtypes: float64(14), int64(3)\n",
      "memory usage: 5.1 KB\n"
     ]
    }
   ],
   "source": [
    "grouped['Ad Set Name'] = grouped['Ad Set Name'].astype(int)\n",
    "\n",
    "grouped.info()"
   ]
  },
  {
   "cell_type": "code",
   "execution_count": 1128,
   "metadata": {},
   "outputs": [
    {
     "data": {
      "text/html": [
       "<div>\n",
       "<style scoped>\n",
       "    .dataframe tbody tr th:only-of-type {\n",
       "        vertical-align: middle;\n",
       "    }\n",
       "\n",
       "    .dataframe tbody tr th {\n",
       "        vertical-align: top;\n",
       "    }\n",
       "\n",
       "    .dataframe thead th {\n",
       "        text-align: right;\n",
       "    }\n",
       "</style>\n",
       "<table border=\"1\" class=\"dataframe\">\n",
       "  <thead>\n",
       "    <tr style=\"text-align: right;\">\n",
       "      <th></th>\n",
       "      <th>Ad Set Name</th>\n",
       "      <th>Reach</th>\n",
       "      <th>Frequency</th>\n",
       "      <th>Amount Spent (USD)</th>\n",
       "      <th>Impressions</th>\n",
       "      <th>CPM (Cost per 1,000 Impressions) (USD)</th>\n",
       "      <th>Link Clicks</th>\n",
       "      <th>CPC (Cost per Link Click) (USD)</th>\n",
       "      <th>CTR (Link Click-Through Rate)</th>\n",
       "      <th>Cost per 1,000 People Reached (USD)</th>\n",
       "      <th>Website Registrations Completed</th>\n",
       "      <th>Website Leads</th>\n",
       "      <th>Post Shares</th>\n",
       "      <th>Post Comments</th>\n",
       "      <th>Post Reactions</th>\n",
       "      <th>Cost per Website Registration Completed (USD)</th>\n",
       "      <th>Cost per Website Lead (USD)</th>\n",
       "    </tr>\n",
       "  </thead>\n",
       "  <tbody>\n",
       "    <tr>\n",
       "      <th>0</th>\n",
       "      <td>15</td>\n",
       "      <td>406</td>\n",
       "      <td>6.0</td>\n",
       "      <td>15.59</td>\n",
       "      <td>406</td>\n",
       "      <td>193.725673</td>\n",
       "      <td>1.0</td>\n",
       "      <td>5.16</td>\n",
       "      <td>0.694444</td>\n",
       "      <td>193.725673</td>\n",
       "      <td>0.0</td>\n",
       "      <td>0.0</td>\n",
       "      <td>0.0</td>\n",
       "      <td>0.0</td>\n",
       "      <td>0.0</td>\n",
       "      <td>0.0</td>\n",
       "      <td>0.0</td>\n",
       "    </tr>\n",
       "  </tbody>\n",
       "</table>\n",
       "</div>"
      ],
      "text/plain": [
       "   Ad Set Name  Reach  Frequency  Amount Spent (USD)  Impressions  \\\n",
       "0           15    406        6.0               15.59          406   \n",
       "\n",
       "   CPM (Cost per 1,000 Impressions) (USD)  Link Clicks  \\\n",
       "0                              193.725673          1.0   \n",
       "\n",
       "   CPC (Cost per Link Click) (USD)  CTR (Link Click-Through Rate)  \\\n",
       "0                             5.16                       0.694444   \n",
       "\n",
       "   Cost per 1,000 People Reached (USD)  Website Registrations Completed  \\\n",
       "0                           193.725673                              0.0   \n",
       "\n",
       "   Website Leads  Post Shares  Post Comments  Post Reactions  \\\n",
       "0            0.0          0.0            0.0             0.0   \n",
       "\n",
       "   Cost per Website Registration Completed (USD)  Cost per Website Lead (USD)  \n",
       "0                                            0.0                          0.0  "
      ]
     },
     "execution_count": 1128,
     "metadata": {},
     "output_type": "execute_result"
    }
   ],
   "source": [
    "grouped.head(1)"
   ]
  },
  {
   "cell_type": "code",
   "execution_count": 1141,
   "metadata": {},
   "outputs": [
    {
     "data": {
      "image/png": "[encoded data removed]",
      "text/plain": [
       "<Figure size 864x432 with 1 Axes>"
      ]
     },
     "metadata": {
      "needs_background": "light"
     },
     "output_type": "display_data"
    }
   ],
   "source": [
    "# multiple line plot\n",
    "plt.figure(figsize=(12,6))\n",
    "x= grouped['Website Registrations Completed'].sort_values(ascending=False)\n",
    "y1= grouped['CPC (Cost per Link Click) (USD)']\n",
    "y2= grouped['CPM (Cost per 1,000 Impressions) (USD)']\n",
    "# y3= grouped['Post Shares']\n",
    "\n",
    "plt.plot( x, y1,  color='r', linewidth=2, label='Post comments')\n",
    "plt.plot( x, y2,   color='darkgreen', linewidth=2, label = 'Post Reactions')\n",
    "# plt.plot( x, y3,  color='c', linewidth=2, label=\"Post Shares\")\n",
    "\n",
    "plt.xlabel('Ad Set Name', fontsize=14)\n",
    "plt.ylabel('Number of Users', fontsize=14)\n",
    "plt.xticks(np.arange(0,37,1))\n",
    "\n",
    "plt.legend()\n",
    "\n",
    "plt.show()"
   ]
  },
  {
   "cell_type": "code",
   "execution_count": null,
   "metadata": {},
   "outputs": [],
   "source": []
  },
  {
   "cell_type": "code",
   "execution_count": null,
   "metadata": {},
   "outputs": [],
   "source": []
  },
  {
   "cell_type": "code",
   "execution_count": null,
   "metadata": {},
   "outputs": [],
   "source": []
  },
  {
   "cell_type": "markdown",
   "metadata": {},
   "source": [
    "# Website Registrations Completed"
   ]
  },
  {
   "cell_type": "code",
   "execution_count": 558,
   "metadata": {},
   "outputs": [],
   "source": [
    "# grouped['Website Registrations Completed'].value_counts()"
   ]
  },
  {
   "cell_type": "code",
   "execution_count": 1105,
   "metadata": {},
   "outputs": [
    {
     "ename": "TypeError",
     "evalue": "'str' object is not callable",
     "output_type": "error",
     "traceback": [
      "\u001b[0;31m---------------------------------------------------------------------------\u001b[0m",
      "\u001b[0;31mTypeError\u001b[0m                                 Traceback (most recent call last)",
      "\u001b[0;32m<ipython-input-1105-1ce1c48a6174>\u001b[0m in \u001b[0;36m<module>\u001b[0;34m\u001b[0m\n\u001b[1;32m      1\u001b[0m \u001b[0mplt\u001b[0m\u001b[0;34m.\u001b[0m\u001b[0mfigure\u001b[0m\u001b[0;34m(\u001b[0m\u001b[0mfigsize\u001b[0m\u001b[0;34m=\u001b[0m\u001b[0;34m(\u001b[0m\u001b[0;36m9\u001b[0m\u001b[0;34m,\u001b[0m\u001b[0;36m5\u001b[0m\u001b[0;34m)\u001b[0m\u001b[0;34m)\u001b[0m\u001b[0;34m\u001b[0m\u001b[0m\n\u001b[1;32m      2\u001b[0m \u001b[0msns\u001b[0m\u001b[0;34m.\u001b[0m\u001b[0mbarplot\u001b[0m\u001b[0;34m(\u001b[0m \u001b[0mgrouped\u001b[0m\u001b[0;34m[\u001b[0m\u001b[0;34m'Ad Set Name'\u001b[0m\u001b[0;34m]\u001b[0m\u001b[0;34m,\u001b[0m \u001b[0mgrouped\u001b[0m\u001b[0;34m[\u001b[0m\u001b[0;34m'Website Registrations Completed'\u001b[0m\u001b[0;34m]\u001b[0m\u001b[0;34m,\u001b[0m \u001b[0mcolor\u001b[0m\u001b[0;34m=\u001b[0m\u001b[0;34m'c'\u001b[0m\u001b[0;34m)\u001b[0m\u001b[0;34m\u001b[0m\u001b[0m\n\u001b[0;32m----> 3\u001b[0;31m \u001b[0mplt\u001b[0m\u001b[0;34m.\u001b[0m\u001b[0mtitle\u001b[0m\u001b[0;34m(\u001b[0m\u001b[0;34m'Registrations by Sets of Ads'\u001b[0m\u001b[0;34m,\u001b[0m \u001b[0mfontsize\u001b[0m\u001b[0;34m=\u001b[0m\u001b[0;36m16\u001b[0m\u001b[0;34m)\u001b[0m\u001b[0;34m\u001b[0m\u001b[0m\n\u001b[0m",
      "\u001b[0;31mTypeError\u001b[0m: 'str' object is not callable"
     ]
    },
    {
     "data": {
      "image/png": "[encoded data removed]",
      "text/plain": [
       "<Figure size 648x360 with 1 Axes>"
      ]
     },
     "metadata": {
      "needs_background": "light"
     },
     "output_type": "display_data"
    }
   ],
   "source": [
    "plt.figure(figsize=(9,5))\n",
    "sns.barplot( grouped['Ad Set Name'], grouped['Website Registrations Completed'], color='c')\n",
    "plt.title('Registrations by Sets of Ads', fontsize=16)\n"
   ]
  },
  {
   "cell_type": "markdown",
   "metadata": {},
   "source": [
    "# Post Shares"
   ]
  },
  {
   "cell_type": "code",
   "execution_count": 359,
   "metadata": {},
   "outputs": [
    {
     "data": {
      "text/plain": [
       "count     36.000000\n",
       "mean      30.527778\n",
       "std       52.941200\n",
       "min        0.000000\n",
       "25%        2.000000\n",
       "50%        7.000000\n",
       "75%       28.500000\n",
       "max      248.000000\n",
       "Name: Post Shares, dtype: float64"
      ]
     },
     "execution_count": 359,
     "metadata": {},
     "output_type": "execute_result"
    }
   ],
   "source": [
    "grouped['Post Shares'].describescribe()"
   ]
  },
  {
   "cell_type": "code",
   "execution_count": 1081,
   "metadata": {},
   "outputs": [
    {
     "data": {
      "text/plain": [
       "<matplotlib.axes._subplots.AxesSubplot at 0x156d4a160>"
      ]
     },
     "execution_count": 1081,
     "metadata": {},
     "output_type": "execute_result"
    },
    {
     "data": {
      "image/png": "[encoded data removed]",
      "text/plain": [
       "<Figure size 720x360 with 1 Axes>"
      ]
     },
     "metadata": {
      "needs_background": "light"
     },
     "output_type": "display_data"
    }
   ],
   "source": [
    "plt.figure(figsize=(10,5))\n",
    "sns.barplot(grouped['Ad Set Name'], grouped['Post Shares'], color='seagreen')"
   ]
  },
  {
   "cell_type": "code",
   "execution_count": 365,
   "metadata": {},
   "outputs": [
    {
     "data": {
      "text/html": [
       "<div>\n",
       "<style scoped>\n",
       "    .dataframe tbody tr th:only-of-type {\n",
       "        vertical-align: middle;\n",
       "    }\n",
       "\n",
       "    .dataframe tbody tr th {\n",
       "        vertical-align: top;\n",
       "    }\n",
       "\n",
       "    .dataframe thead th {\n",
       "        text-align: right;\n",
       "    }\n",
       "</style>\n",
       "<table border=\"1\" class=\"dataframe\">\n",
       "  <thead>\n",
       "    <tr style=\"text-align: right;\">\n",
       "      <th></th>\n",
       "      <th>Ad Set Name</th>\n",
       "      <th>Reach</th>\n",
       "      <th>Frequency</th>\n",
       "      <th>Amount Spent (USD)</th>\n",
       "      <th>Impressions</th>\n",
       "      <th>CPM (Cost per 1,000 Impressions) (USD)</th>\n",
       "      <th>Link Clicks</th>\n",
       "      <th>CPC (Cost per Link Click) (USD)</th>\n",
       "      <th>CTR (Link Click-Through Rate)</th>\n",
       "      <th>Cost per 1,000 People Reached (USD)</th>\n",
       "      <th>Website Registrations Completed</th>\n",
       "      <th>Website Leads</th>\n",
       "      <th>Post Shares</th>\n",
       "      <th>Post Comments</th>\n",
       "      <th>Post Reactions</th>\n",
       "      <th>Cost per Website Registration Completed (USD)</th>\n",
       "      <th>Cost per Website Lead (USD)</th>\n",
       "      <th>CTR</th>\n",
       "    </tr>\n",
       "  </thead>\n",
       "  <tbody>\n",
       "    <tr>\n",
       "      <th>32</th>\n",
       "      <td>Ad Set 6</td>\n",
       "      <td>148384</td>\n",
       "      <td>9.187367</td>\n",
       "      <td>4579.48</td>\n",
       "      <td>207604</td>\n",
       "      <td>206.666595</td>\n",
       "      <td>2167.0</td>\n",
       "      <td>11.758557</td>\n",
       "      <td>6.483000</td>\n",
       "      <td>194.852846</td>\n",
       "      <td>122.0</td>\n",
       "      <td>297.0</td>\n",
       "      <td>248.0</td>\n",
       "      <td>64.0</td>\n",
       "      <td>505.0</td>\n",
       "      <td>239.332108</td>\n",
       "      <td>108.347680</td>\n",
       "      <td>0.010438</td>\n",
       "    </tr>\n",
       "    <tr>\n",
       "      <th>4</th>\n",
       "      <td>Ad Set 13</td>\n",
       "      <td>105376</td>\n",
       "      <td>7.426445</td>\n",
       "      <td>4120.23</td>\n",
       "      <td>130882</td>\n",
       "      <td>221.457893</td>\n",
       "      <td>1877.0</td>\n",
       "      <td>15.963071</td>\n",
       "      <td>7.344414</td>\n",
       "      <td>230.185272</td>\n",
       "      <td>110.0</td>\n",
       "      <td>422.0</td>\n",
       "      <td>28.0</td>\n",
       "      <td>29.0</td>\n",
       "      <td>120.0</td>\n",
       "      <td>345.936449</td>\n",
       "      <td>78.799039</td>\n",
       "      <td>0.014341</td>\n",
       "    </tr>\n",
       "  </tbody>\n",
       "</table>\n",
       "</div>"
      ],
      "text/plain": [
       "   Ad Set Name   Reach  Frequency  Amount Spent (USD)  Impressions  \\\n",
       "32    Ad Set 6  148384   9.187367             4579.48       207604   \n",
       "4    Ad Set 13  105376   7.426445             4120.23       130882   \n",
       "\n",
       "    CPM (Cost per 1,000 Impressions) (USD)  Link Clicks  \\\n",
       "32                              206.666595       2167.0   \n",
       "4                               221.457893       1877.0   \n",
       "\n",
       "    CPC (Cost per Link Click) (USD)  CTR (Link Click-Through Rate)  \\\n",
       "32                        11.758557                       6.483000   \n",
       "4                         15.963071                       7.344414   \n",
       "\n",
       "    Cost per 1,000 People Reached (USD)  Website Registrations Completed  \\\n",
       "32                           194.852846                            122.0   \n",
       "4                            230.185272                            110.0   \n",
       "\n",
       "    Website Leads  Post Shares  Post Comments  Post Reactions  \\\n",
       "32          297.0        248.0           64.0           505.0   \n",
       "4           422.0         28.0           29.0           120.0   \n",
       "\n",
       "    Cost per Website Registration Completed (USD)  \\\n",
       "32                                     239.332108   \n",
       "4                                      345.936449   \n",
       "\n",
       "    Cost per Website Lead (USD)       CTR  \n",
       "32                   108.347680  0.010438  \n",
       "4                     78.799039  0.014341  "
      ]
     },
     "execution_count": 365,
     "metadata": {},
     "output_type": "execute_result"
    }
   ],
   "source": [
    "grouped.head(2)"
   ]
  },
  {
   "cell_type": "markdown",
   "metadata": {},
   "source": [
    "# Post Reactions: how many times users “liked” or “disliked” the ad"
   ]
  },
  {
   "cell_type": "code",
   "execution_count": 366,
   "metadata": {},
   "outputs": [
    {
     "data": {
      "text/plain": [
       "count     36.000000\n",
       "mean     114.500000\n",
       "std      211.200717\n",
       "min        0.000000\n",
       "25%        6.000000\n",
       "50%       23.500000\n",
       "75%      122.500000\n",
       "max      991.000000\n",
       "Name: Post Reactions, dtype: float64"
      ]
     },
     "execution_count": 366,
     "metadata": {},
     "output_type": "execute_result"
    }
   ],
   "source": [
    "grouped['Post Reactions'].describe()"
   ]
  },
  {
   "cell_type": "code",
   "execution_count": 367,
   "metadata": {},
   "outputs": [
    {
     "data": {
      "text/plain": [
       "<matplotlib.axes._subplots.AxesSubplot at 0x137de8710>"
      ]
     },
     "execution_count": 367,
     "metadata": {},
     "output_type": "execute_result"
    },
    {
     "data": {
      "image/png": "[encoded data removed]",
      "text/plain": [
       "<Figure size 720x576 with 1 Axes>"
      ]
     },
     "metadata": {
      "needs_background": "light"
     },
     "output_type": "display_data"
    }
   ],
   "source": [
    "plt.figure(figsize=(10,8))\n",
    "sns.barplot(grouped['Post Reactions'], grouped['Ad Set Name'])"
   ]
  },
  {
   "cell_type": "markdown",
   "metadata": {},
   "source": [
    "# Website Leads: number of people who started to sign-up with Arcadia but did not complete the registration process\n"
   ]
  },
  {
   "cell_type": "code",
   "execution_count": 368,
   "metadata": {},
   "outputs": [
    {
     "data": {
      "text/plain": [
       "count     36.000000\n",
       "mean      56.833333\n",
       "std       92.443187\n",
       "min        0.000000\n",
       "25%       11.000000\n",
       "50%       20.500000\n",
       "75%       43.750000\n",
       "max      422.000000\n",
       "Name: Website Leads, dtype: float64"
      ]
     },
     "execution_count": 368,
     "metadata": {},
     "output_type": "execute_result"
    }
   ],
   "source": [
    "grouped['Website Leads'].describe()"
   ]
  },
  {
   "cell_type": "code",
   "execution_count": 1083,
   "metadata": {},
   "outputs": [
    {
     "data": {
      "text/plain": [
       "<matplotlib.axes._subplots.AxesSubplot at 0x151bc1c50>"
      ]
     },
     "execution_count": 1083,
     "metadata": {},
     "output_type": "execute_result"
    },
    {
     "data": {
      "image/png": "[encoded data removed]",
      "text/plain": [
       "<Figure size 720x360 with 1 Axes>"
      ]
     },
     "metadata": {
      "needs_background": "light"
     },
     "output_type": "display_data"
    }
   ],
   "source": [
    "plt.figure(figsize=(10,5))\n",
    "sns.barplot(grouped['Ad Set Name'], grouped['Website Leads'])"
   ]
  },
  {
   "cell_type": "code",
   "execution_count": null,
   "metadata": {},
   "outputs": [],
   "source": []
  },
  {
   "cell_type": "code",
   "execution_count": null,
   "metadata": {},
   "outputs": [],
   "source": []
  },
  {
   "cell_type": "code",
   "execution_count": null,
   "metadata": {},
   "outputs": [],
   "source": []
  },
  {
   "cell_type": "code",
   "execution_count": 355,
   "metadata": {},
   "outputs": [
    {
     "data": {
      "text/html": [
       "<div>\n",
       "<style scoped>\n",
       "    .dataframe tbody tr th:only-of-type {\n",
       "        vertical-align: middle;\n",
       "    }\n",
       "\n",
       "    .dataframe tbody tr th {\n",
       "        vertical-align: top;\n",
       "    }\n",
       "\n",
       "    .dataframe thead th {\n",
       "        text-align: right;\n",
       "    }\n",
       "</style>\n",
       "<table border=\"1\" class=\"dataframe\">\n",
       "  <thead>\n",
       "    <tr style=\"text-align: right;\">\n",
       "      <th></th>\n",
       "      <th>Website Registrations Completed</th>\n",
       "      <th>reach</th>\n",
       "      <th>set</th>\n",
       "    </tr>\n",
       "  </thead>\n",
       "  <tbody>\n",
       "    <tr>\n",
       "      <th>0</th>\n",
       "      <td>122.0</td>\n",
       "      <td>148384</td>\n",
       "      <td>Ad Set 6</td>\n",
       "    </tr>\n",
       "    <tr>\n",
       "      <th>1</th>\n",
       "      <td>110.0</td>\n",
       "      <td>105376</td>\n",
       "      <td>Ad Set 13</td>\n",
       "    </tr>\n",
       "    <tr>\n",
       "      <th>2</th>\n",
       "      <td>51.0</td>\n",
       "      <td>90877</td>\n",
       "      <td>Ad Set 24</td>\n",
       "    </tr>\n",
       "    <tr>\n",
       "      <th>3</th>\n",
       "      <td>40.0</td>\n",
       "      <td>57520</td>\n",
       "      <td>Ad Set 9</td>\n",
       "    </tr>\n",
       "    <tr>\n",
       "      <th>4</th>\n",
       "      <td>37.0</td>\n",
       "      <td>43377</td>\n",
       "      <td>Ad Set 18</td>\n",
       "    </tr>\n",
       "    <tr>\n",
       "      <th>5</th>\n",
       "      <td>30.0</td>\n",
       "      <td>48128</td>\n",
       "      <td>Ad Set 33</td>\n",
       "    </tr>\n",
       "    <tr>\n",
       "      <th>6</th>\n",
       "      <td>29.0</td>\n",
       "      <td>72834</td>\n",
       "      <td>Ad Set 31</td>\n",
       "    </tr>\n",
       "    <tr>\n",
       "      <th>7</th>\n",
       "      <td>24.0</td>\n",
       "      <td>43112</td>\n",
       "      <td>Ad Set 4</td>\n",
       "    </tr>\n",
       "    <tr>\n",
       "      <th>8</th>\n",
       "      <td>16.0</td>\n",
       "      <td>26836</td>\n",
       "      <td>Ad Set 5</td>\n",
       "    </tr>\n",
       "    <tr>\n",
       "      <th>9</th>\n",
       "      <td>13.0</td>\n",
       "      <td>33208</td>\n",
       "      <td>Ad Set 16</td>\n",
       "    </tr>\n",
       "    <tr>\n",
       "      <th>10</th>\n",
       "      <td>11.0</td>\n",
       "      <td>25270</td>\n",
       "      <td>Ad Set 27</td>\n",
       "    </tr>\n",
       "    <tr>\n",
       "      <th>11</th>\n",
       "      <td>10.0</td>\n",
       "      <td>5896</td>\n",
       "      <td>Ad Set 12</td>\n",
       "    </tr>\n",
       "    <tr>\n",
       "      <th>12</th>\n",
       "      <td>9.0</td>\n",
       "      <td>18662</td>\n",
       "      <td>Ad Set 17</td>\n",
       "    </tr>\n",
       "    <tr>\n",
       "      <th>13</th>\n",
       "      <td>7.0</td>\n",
       "      <td>6841</td>\n",
       "      <td>Ad Set 30</td>\n",
       "    </tr>\n",
       "    <tr>\n",
       "      <th>14</th>\n",
       "      <td>7.0</td>\n",
       "      <td>10440</td>\n",
       "      <td>Ad Set 22</td>\n",
       "    </tr>\n",
       "    <tr>\n",
       "      <th>15</th>\n",
       "      <td>6.0</td>\n",
       "      <td>25560</td>\n",
       "      <td>Ad Set 32</td>\n",
       "    </tr>\n",
       "    <tr>\n",
       "      <th>16</th>\n",
       "      <td>6.0</td>\n",
       "      <td>16972</td>\n",
       "      <td>Ad Set 2</td>\n",
       "    </tr>\n",
       "    <tr>\n",
       "      <th>17</th>\n",
       "      <td>6.0</td>\n",
       "      <td>9179</td>\n",
       "      <td>Ad Set 25</td>\n",
       "    </tr>\n",
       "    <tr>\n",
       "      <th>18</th>\n",
       "      <td>5.0</td>\n",
       "      <td>9904</td>\n",
       "      <td>Ad Set 11</td>\n",
       "    </tr>\n",
       "    <tr>\n",
       "      <th>19</th>\n",
       "      <td>5.0</td>\n",
       "      <td>17332</td>\n",
       "      <td>Ad Set 36</td>\n",
       "    </tr>\n",
       "    <tr>\n",
       "      <th>20</th>\n",
       "      <td>5.0</td>\n",
       "      <td>18284</td>\n",
       "      <td>Ad Set 20</td>\n",
       "    </tr>\n",
       "    <tr>\n",
       "      <th>21</th>\n",
       "      <td>4.0</td>\n",
       "      <td>11188</td>\n",
       "      <td>Ad Set 10</td>\n",
       "    </tr>\n",
       "    <tr>\n",
       "      <th>22</th>\n",
       "      <td>4.0</td>\n",
       "      <td>9037</td>\n",
       "      <td>Ad Set 28</td>\n",
       "    </tr>\n",
       "    <tr>\n",
       "      <th>23</th>\n",
       "      <td>4.0</td>\n",
       "      <td>17689</td>\n",
       "      <td>Ad Set 19</td>\n",
       "    </tr>\n",
       "    <tr>\n",
       "      <th>24</th>\n",
       "      <td>3.0</td>\n",
       "      <td>7468</td>\n",
       "      <td>Ad Set 21</td>\n",
       "    </tr>\n",
       "    <tr>\n",
       "      <th>25</th>\n",
       "      <td>2.0</td>\n",
       "      <td>6028</td>\n",
       "      <td>Ad Set 7</td>\n",
       "    </tr>\n",
       "    <tr>\n",
       "      <th>26</th>\n",
       "      <td>2.0</td>\n",
       "      <td>6064</td>\n",
       "      <td>Ad Set 34</td>\n",
       "    </tr>\n",
       "    <tr>\n",
       "      <th>27</th>\n",
       "      <td>2.0</td>\n",
       "      <td>8514</td>\n",
       "      <td>Ad Set 23</td>\n",
       "    </tr>\n",
       "    <tr>\n",
       "      <th>28</th>\n",
       "      <td>1.0</td>\n",
       "      <td>2383</td>\n",
       "      <td>Ad Set 8</td>\n",
       "    </tr>\n",
       "    <tr>\n",
       "      <th>29</th>\n",
       "      <td>1.0</td>\n",
       "      <td>9189</td>\n",
       "      <td>Ad Set 14</td>\n",
       "    </tr>\n",
       "    <tr>\n",
       "      <th>30</th>\n",
       "      <td>0.0</td>\n",
       "      <td>26469</td>\n",
       "      <td>Ad Set 1</td>\n",
       "    </tr>\n",
       "    <tr>\n",
       "      <th>31</th>\n",
       "      <td>0.0</td>\n",
       "      <td>2302</td>\n",
       "      <td>Ad Set 35</td>\n",
       "    </tr>\n",
       "    <tr>\n",
       "      <th>32</th>\n",
       "      <td>0.0</td>\n",
       "      <td>2775</td>\n",
       "      <td>Ad Set 3</td>\n",
       "    </tr>\n",
       "    <tr>\n",
       "      <th>33</th>\n",
       "      <td>0.0</td>\n",
       "      <td>5049</td>\n",
       "      <td>Ad Set 29</td>\n",
       "    </tr>\n",
       "    <tr>\n",
       "      <th>34</th>\n",
       "      <td>0.0</td>\n",
       "      <td>406</td>\n",
       "      <td>Ad Set 15</td>\n",
       "    </tr>\n",
       "    <tr>\n",
       "      <th>35</th>\n",
       "      <td>0.0</td>\n",
       "      <td>2262</td>\n",
       "      <td>Ad Set 26</td>\n",
       "    </tr>\n",
       "  </tbody>\n",
       "</table>\n",
       "</div>"
      ],
      "text/plain": [
       "    Website Registrations Completed   reach        set\n",
       "0                             122.0  148384   Ad Set 6\n",
       "1                             110.0  105376  Ad Set 13\n",
       "2                              51.0   90877  Ad Set 24\n",
       "3                              40.0   57520   Ad Set 9\n",
       "4                              37.0   43377  Ad Set 18\n",
       "5                              30.0   48128  Ad Set 33\n",
       "6                              29.0   72834  Ad Set 31\n",
       "7                              24.0   43112   Ad Set 4\n",
       "8                              16.0   26836   Ad Set 5\n",
       "9                              13.0   33208  Ad Set 16\n",
       "10                             11.0   25270  Ad Set 27\n",
       "11                             10.0    5896  Ad Set 12\n",
       "12                              9.0   18662  Ad Set 17\n",
       "13                              7.0    6841  Ad Set 30\n",
       "14                              7.0   10440  Ad Set 22\n",
       "15                              6.0   25560  Ad Set 32\n",
       "16                              6.0   16972   Ad Set 2\n",
       "17                              6.0    9179  Ad Set 25\n",
       "18                              5.0    9904  Ad Set 11\n",
       "19                              5.0   17332  Ad Set 36\n",
       "20                              5.0   18284  Ad Set 20\n",
       "21                              4.0   11188  Ad Set 10\n",
       "22                              4.0    9037  Ad Set 28\n",
       "23                              4.0   17689  Ad Set 19\n",
       "24                              3.0    7468  Ad Set 21\n",
       "25                              2.0    6028   Ad Set 7\n",
       "26                              2.0    6064  Ad Set 34\n",
       "27                              2.0    8514  Ad Set 23\n",
       "28                              1.0    2383   Ad Set 8\n",
       "29                              1.0    9189  Ad Set 14\n",
       "30                              0.0   26469   Ad Set 1\n",
       "31                              0.0    2302  Ad Set 35\n",
       "32                              0.0    2775   Ad Set 3\n",
       "33                              0.0    5049  Ad Set 29\n",
       "34                              0.0     406  Ad Set 15\n",
       "35                              0.0    2262  Ad Set 26"
      ]
     },
     "execution_count": 355,
     "metadata": {},
     "output_type": "execute_result"
    }
   ],
   "source": [
    "register = pd.DataFrame(grouped['Website Registrations Completed'])\n",
    "\n",
    "register['reach'] = grouped.Reach\n",
    "register['set'] = grouped['Ad Set Name']\n",
    "\n",
    "register= register.sort_values(by=['Website Registrations Completed'], ascending=False )\n",
    "register = register.reset_index(drop='first')\n",
    "\n",
    "register\n",
    "\n"
   ]
  },
  {
   "cell_type": "code",
   "execution_count": null,
   "metadata": {},
   "outputs": [],
   "source": []
  },
  {
   "cell_type": "code",
   "execution_count": null,
   "metadata": {},
   "outputs": [],
   "source": [
    "from sklearn.linear_model import LogisticRegression\n",
    "from sklearn.linear_model import LinearRegression\n",
    "\n",
    "# Create linear regression model\n",
    "lin_reg = LinearRegression()\n",
    "lin_reg.fit(age, income_bin)\n",
    "# Store the coefficients\n",
    "coef = lin_reg.coef_\n",
    "interc = lin_reg.intercept_\n",
    "# Create the line\n",
    "lin_income = (interc + age * coef)"
   ]
  },
  {
   "cell_type": "code",
   "execution_count": null,
   "metadata": {},
   "outputs": [],
   "source": []
  },
  {
   "cell_type": "code",
   "execution_count": null,
   "metadata": {},
   "outputs": [],
   "source": []
  },
  {
   "cell_type": "code",
   "execution_count": null,
   "metadata": {},
   "outputs": [],
   "source": []
  }
 ],
 "metadata": {
  "kernelspec": {
   "display_name": "Python 3",
   "language": "python",
   "name": "python3"
  },
  "language_info": {
   "codemirror_mode": {
    "name": "ipython",
    "version": 3
   },
   "file_extension": ".py",
   "mimetype": "text/x-python",
   "name": "python",
   "nbconvert_exporter": "python",
   "pygments_lexer": "ipython3",
   "version": "3.7.0"
  }
 },
 "nbformat": 4,
 "nbformat_minor": 4
}
